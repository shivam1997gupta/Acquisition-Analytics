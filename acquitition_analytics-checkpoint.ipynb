{
 "cells": [
  {
   "cell_type": "markdown",
   "metadata": {},
   "source": [
    "### Step1:Importing the libraries "
   ]
  },
  {
   "cell_type": "code",
   "execution_count": 153,
   "metadata": {},
   "outputs": [],
   "source": [
    "#importing the necessary libraries\n",
    "import warnings\n",
    "warnings.filterwarnings('ignore')\n",
    "import numpy as np\n",
    "import pandas as pd\n",
    "import matplotlib.pyplot as plt\n",
    "import seaborn as sns"
   ]
  },
  {
   "cell_type": "markdown",
   "metadata": {},
   "source": [
    "### Step2 :Reading the dataset"
   ]
  },
  {
   "cell_type": "code",
   "execution_count": 154,
   "metadata": {},
   "outputs": [
    {
     "name": "stdout",
     "output_type": "stream",
     "text": [
      "<class 'pandas.core.frame.DataFrame'>\n",
      "RangeIndex: 41188 entries, 0 to 41187\n",
      "Data columns (total 21 columns):\n",
      "age               41188 non-null int64\n",
      "job               41188 non-null object\n",
      "marital           41188 non-null object\n",
      "education         41188 non-null object\n",
      "default           41188 non-null object\n",
      "housing           41188 non-null object\n",
      "loan              41188 non-null object\n",
      "contact           41188 non-null object\n",
      "month             41188 non-null object\n",
      "day_of_week       41188 non-null object\n",
      "duration          41188 non-null int64\n",
      "campaign          41188 non-null int64\n",
      "pdays             41188 non-null int64\n",
      "previous          41188 non-null int64\n",
      "poutcome          41188 non-null object\n",
      "emp.var.rate      41188 non-null float64\n",
      "cons.price.idx    41188 non-null float64\n",
      "cons.conf.idx     41188 non-null float64\n",
      "euribor3m         41188 non-null float64\n",
      "nr.employed       41188 non-null float64\n",
      "response          41188 non-null object\n",
      "dtypes: float64(5), int64(5), object(11)\n",
      "memory usage: 6.6+ MB\n"
     ]
    }
   ],
   "source": [
    "#Reading the data\n",
    "loan = pd.read_csv(\"bank_marketing.csv\", sep=\",\")\n",
    "loan.info()"
   ]
  },
  {
   "cell_type": "markdown",
   "metadata": {},
   "source": [
    "### Step 3: Understanding the dataset "
   ]
  },
  {
   "cell_type": "code",
   "execution_count": 155,
   "metadata": {},
   "outputs": [
    {
     "data": {
      "text/plain": [
       "age               0\n",
       "job               0\n",
       "marital           0\n",
       "education         0\n",
       "default           0\n",
       "housing           0\n",
       "loan              0\n",
       "contact           0\n",
       "month             0\n",
       "day_of_week       0\n",
       "duration          0\n",
       "campaign          0\n",
       "pdays             0\n",
       "previous          0\n",
       "poutcome          0\n",
       "emp.var.rate      0\n",
       "cons.price.idx    0\n",
       "cons.conf.idx     0\n",
       "euribor3m         0\n",
       "nr.employed       0\n",
       "response          0\n",
       "dtype: int64"
      ]
     },
     "execution_count": 155,
     "metadata": {},
     "output_type": "execute_result"
    }
   ],
   "source": [
    "#Checking for the null values\n",
    "loan.isnull().sum()"
   ]
  },
  {
   "cell_type": "code",
   "execution_count": 156,
   "metadata": {},
   "outputs": [
    {
     "data": {
      "text/html": [
       "<div>\n",
       "<style scoped>\n",
       "    .dataframe tbody tr th:only-of-type {\n",
       "        vertical-align: middle;\n",
       "    }\n",
       "\n",
       "    .dataframe tbody tr th {\n",
       "        vertical-align: top;\n",
       "    }\n",
       "\n",
       "    .dataframe thead th {\n",
       "        text-align: right;\n",
       "    }\n",
       "</style>\n",
       "<table border=\"1\" class=\"dataframe\">\n",
       "  <thead>\n",
       "    <tr style=\"text-align: right;\">\n",
       "      <th></th>\n",
       "      <th>age</th>\n",
       "      <th>job</th>\n",
       "      <th>marital</th>\n",
       "      <th>education</th>\n",
       "      <th>default</th>\n",
       "      <th>housing</th>\n",
       "      <th>loan</th>\n",
       "      <th>contact</th>\n",
       "      <th>month</th>\n",
       "      <th>day_of_week</th>\n",
       "      <th>...</th>\n",
       "      <th>campaign</th>\n",
       "      <th>pdays</th>\n",
       "      <th>previous</th>\n",
       "      <th>poutcome</th>\n",
       "      <th>emp.var.rate</th>\n",
       "      <th>cons.price.idx</th>\n",
       "      <th>cons.conf.idx</th>\n",
       "      <th>euribor3m</th>\n",
       "      <th>nr.employed</th>\n",
       "      <th>response</th>\n",
       "    </tr>\n",
       "  </thead>\n",
       "  <tbody>\n",
       "    <tr>\n",
       "      <th>0</th>\n",
       "      <td>56</td>\n",
       "      <td>housemaid</td>\n",
       "      <td>married</td>\n",
       "      <td>basic.4y</td>\n",
       "      <td>no</td>\n",
       "      <td>no</td>\n",
       "      <td>no</td>\n",
       "      <td>telephone</td>\n",
       "      <td>may</td>\n",
       "      <td>mon</td>\n",
       "      <td>...</td>\n",
       "      <td>1</td>\n",
       "      <td>999</td>\n",
       "      <td>0</td>\n",
       "      <td>nonexistent</td>\n",
       "      <td>1.1</td>\n",
       "      <td>93.994</td>\n",
       "      <td>-36.4</td>\n",
       "      <td>4.857</td>\n",
       "      <td>5191.0</td>\n",
       "      <td>no</td>\n",
       "    </tr>\n",
       "    <tr>\n",
       "      <th>1</th>\n",
       "      <td>57</td>\n",
       "      <td>services</td>\n",
       "      <td>married</td>\n",
       "      <td>high.school</td>\n",
       "      <td>unknown</td>\n",
       "      <td>no</td>\n",
       "      <td>no</td>\n",
       "      <td>telephone</td>\n",
       "      <td>may</td>\n",
       "      <td>mon</td>\n",
       "      <td>...</td>\n",
       "      <td>1</td>\n",
       "      <td>999</td>\n",
       "      <td>0</td>\n",
       "      <td>nonexistent</td>\n",
       "      <td>1.1</td>\n",
       "      <td>93.994</td>\n",
       "      <td>-36.4</td>\n",
       "      <td>4.857</td>\n",
       "      <td>5191.0</td>\n",
       "      <td>no</td>\n",
       "    </tr>\n",
       "    <tr>\n",
       "      <th>2</th>\n",
       "      <td>37</td>\n",
       "      <td>services</td>\n",
       "      <td>married</td>\n",
       "      <td>high.school</td>\n",
       "      <td>no</td>\n",
       "      <td>yes</td>\n",
       "      <td>no</td>\n",
       "      <td>telephone</td>\n",
       "      <td>may</td>\n",
       "      <td>mon</td>\n",
       "      <td>...</td>\n",
       "      <td>1</td>\n",
       "      <td>999</td>\n",
       "      <td>0</td>\n",
       "      <td>nonexistent</td>\n",
       "      <td>1.1</td>\n",
       "      <td>93.994</td>\n",
       "      <td>-36.4</td>\n",
       "      <td>4.857</td>\n",
       "      <td>5191.0</td>\n",
       "      <td>no</td>\n",
       "    </tr>\n",
       "    <tr>\n",
       "      <th>3</th>\n",
       "      <td>40</td>\n",
       "      <td>admin.</td>\n",
       "      <td>married</td>\n",
       "      <td>basic.6y</td>\n",
       "      <td>no</td>\n",
       "      <td>no</td>\n",
       "      <td>no</td>\n",
       "      <td>telephone</td>\n",
       "      <td>may</td>\n",
       "      <td>mon</td>\n",
       "      <td>...</td>\n",
       "      <td>1</td>\n",
       "      <td>999</td>\n",
       "      <td>0</td>\n",
       "      <td>nonexistent</td>\n",
       "      <td>1.1</td>\n",
       "      <td>93.994</td>\n",
       "      <td>-36.4</td>\n",
       "      <td>4.857</td>\n",
       "      <td>5191.0</td>\n",
       "      <td>no</td>\n",
       "    </tr>\n",
       "    <tr>\n",
       "      <th>4</th>\n",
       "      <td>56</td>\n",
       "      <td>services</td>\n",
       "      <td>married</td>\n",
       "      <td>high.school</td>\n",
       "      <td>no</td>\n",
       "      <td>no</td>\n",
       "      <td>yes</td>\n",
       "      <td>telephone</td>\n",
       "      <td>may</td>\n",
       "      <td>mon</td>\n",
       "      <td>...</td>\n",
       "      <td>1</td>\n",
       "      <td>999</td>\n",
       "      <td>0</td>\n",
       "      <td>nonexistent</td>\n",
       "      <td>1.1</td>\n",
       "      <td>93.994</td>\n",
       "      <td>-36.4</td>\n",
       "      <td>4.857</td>\n",
       "      <td>5191.0</td>\n",
       "      <td>no</td>\n",
       "    </tr>\n",
       "  </tbody>\n",
       "</table>\n",
       "<p>5 rows × 21 columns</p>\n",
       "</div>"
      ],
      "text/plain": [
       "   age        job  marital    education  default housing loan    contact  \\\n",
       "0   56  housemaid  married     basic.4y       no      no   no  telephone   \n",
       "1   57   services  married  high.school  unknown      no   no  telephone   \n",
       "2   37   services  married  high.school       no     yes   no  telephone   \n",
       "3   40     admin.  married     basic.6y       no      no   no  telephone   \n",
       "4   56   services  married  high.school       no      no  yes  telephone   \n",
       "\n",
       "  month day_of_week  ...  campaign  pdays  previous     poutcome emp.var.rate  \\\n",
       "0   may         mon  ...         1    999         0  nonexistent          1.1   \n",
       "1   may         mon  ...         1    999         0  nonexistent          1.1   \n",
       "2   may         mon  ...         1    999         0  nonexistent          1.1   \n",
       "3   may         mon  ...         1    999         0  nonexistent          1.1   \n",
       "4   may         mon  ...         1    999         0  nonexistent          1.1   \n",
       "\n",
       "   cons.price.idx  cons.conf.idx  euribor3m  nr.employed  response  \n",
       "0          93.994          -36.4      4.857       5191.0        no  \n",
       "1          93.994          -36.4      4.857       5191.0        no  \n",
       "2          93.994          -36.4      4.857       5191.0        no  \n",
       "3          93.994          -36.4      4.857       5191.0        no  \n",
       "4          93.994          -36.4      4.857       5191.0        no  \n",
       "\n",
       "[5 rows x 21 columns]"
      ]
     },
     "execution_count": 156,
     "metadata": {},
     "output_type": "execute_result"
    }
   ],
   "source": [
    "# Reading first few rows of the dataframe\n",
    "loan.head()"
   ]
  },
  {
   "cell_type": "code",
   "execution_count": 157,
   "metadata": {},
   "outputs": [
    {
     "data": {
      "text/plain": [
       "Index(['age', 'job', 'marital', 'education', 'default', 'housing', 'loan',\n",
       "       'contact', 'month', 'day_of_week', 'duration', 'campaign', 'pdays',\n",
       "       'previous', 'poutcome', 'emp.var.rate', 'cons.price.idx',\n",
       "       'cons.conf.idx', 'euribor3m', 'nr.employed', 'response'],\n",
       "      dtype='object')"
      ]
     },
     "execution_count": 157,
     "metadata": {},
     "output_type": "execute_result"
    }
   ],
   "source": [
    "# Looking at all the column names\n",
    "loan.columns"
   ]
  },
  {
   "cell_type": "code",
   "execution_count": 158,
   "metadata": {},
   "outputs": [
    {
     "data": {
      "text/plain": [
       "no     36548\n",
       "yes     4640\n",
       "Name: response, dtype: int64"
      ]
     },
     "execution_count": 158,
     "metadata": {},
     "output_type": "execute_result"
    }
   ],
   "source": [
    "#checking the response column as we need to perform logistic regression\n",
    "loan['response'].value_counts()"
   ]
  },
  {
   "cell_type": "code",
   "execution_count": 159,
   "metadata": {},
   "outputs": [],
   "source": [
    "#Converting the response variable to 0 and 1 column\n",
    "loan['response'] = loan['response'].map({'yes': 1, 'no': 0})"
   ]
  },
  {
   "cell_type": "code",
   "execution_count": 160,
   "metadata": {},
   "outputs": [],
   "source": [
    "# creating backup of the dataframe\n",
    "loan_copy = loan"
   ]
  },
  {
   "cell_type": "markdown",
   "metadata": {},
   "source": [
    "### Step 4: Exploratory data analysis "
   ]
  },
  {
   "cell_type": "markdown",
   "metadata": {},
   "source": [
    "#### 4.a Analysing categorical variables\n",
    "    1.Age\n",
    "    2.marital_status\n",
    "    3.education etc..."
   ]
  },
  {
   "cell_type": "markdown",
   "metadata": {},
   "source": [
    "#### VARIABLE 1: age "
   ]
  },
  {
   "cell_type": "code",
   "execution_count": 161,
   "metadata": {},
   "outputs": [
    {
     "data": {
      "image/png": "[encoded data removed]",
      "text/plain": [
       "<Figure size 432x288 with 1 Axes>"
      ]
     },
     "metadata": {
      "needs_background": "light"
     },
     "output_type": "display_data"
    }
   ],
   "source": [
    "sns.boxplot(x='age', data=loan)\n",
    "plt.show()"
   ]
  },
  {
   "cell_type": "code",
   "execution_count": 162,
   "metadata": {},
   "outputs": [],
   "source": [
    "#clubbing outliers where age>71 to age = 71\n",
    "loan['age'][loan['age']>71] =71\n"
   ]
  },
  {
   "cell_type": "code",
   "execution_count": 163,
   "metadata": {},
   "outputs": [],
   "source": [
    "# bucketing the age group\n",
    "bins = np.arange(10,loan['age'].max() + 10, 10)\n",
    "loan['age_bins'] = pd.cut(loan['age'], bins, include_lowest=True)"
   ]
  },
  {
   "cell_type": "code",
   "execution_count": 164,
   "metadata": {},
   "outputs": [],
   "source": [
    "#calculating no of prospects for the age groups\n",
    "No_of_prospect = loan.groupby('age_bins')['response'].count().reset_index(name = 'No.of_prospect')\n",
    "# Counting prospects where response variable =1\n",
    "count_prospects = loan[loan['response']==1].groupby('age_bins')['response'].count().reset_index(name = 'count_prospects')"
   ]
  },
  {
   "cell_type": "code",
   "execution_count": 165,
   "metadata": {},
   "outputs": [],
   "source": [
    "agg_age = No_of_prospect.merge(count_prospects, on='age_bins')"
   ]
  },
  {
   "cell_type": "code",
   "execution_count": 166,
   "metadata": {},
   "outputs": [],
   "source": [
    "#calculating response_rate\n",
    "agg_age['response_rate'] = 100*(agg_age['count_prospects']/agg_age['No.of_prospect']).round(3)"
   ]
  },
  {
   "cell_type": "markdown",
   "metadata": {},
   "source": [
    "##### Variable 1: box_plot : age_bins v/s response_rate"
   ]
  },
  {
   "cell_type": "code",
   "execution_count": 167,
   "metadata": {},
   "outputs": [
    {
     "data": {
      "image/png": "[encoded data removed]",
      "text/plain": [
       "<Figure size 432x288 with 1 Axes>"
      ]
     },
     "metadata": {
      "needs_background": "light"
     },
     "output_type": "display_data"
    }
   ],
   "source": [
    "#box_plot : age_bins v/s response_rate\n",
    "ax = sns.barplot(x='age_bins', y='response_rate', data=agg_age)\n",
    "ax.set_xticklabels(ax.get_xticklabels(),rotation=30)\n",
    "plt.show()"
   ]
  },
  {
   "cell_type": "markdown",
   "metadata": {},
   "source": [
    "#### VARIABLE 2: Job "
   ]
  },
  {
   "cell_type": "code",
   "execution_count": 168,
   "metadata": {},
   "outputs": [
    {
     "data": {
      "text/plain": [
       "admin.           10422\n",
       "blue-collar       9254\n",
       "technician        6743\n",
       "services          3969\n",
       "management        2924\n",
       "retired           1720\n",
       "entrepreneur      1456\n",
       "self-employed     1421\n",
       "housemaid         1060\n",
       "unemployed        1014\n",
       "student            875\n",
       "unknown            330\n",
       "Name: job, dtype: int64"
      ]
     },
     "execution_count": 168,
     "metadata": {},
     "output_type": "execute_result"
    }
   ],
   "source": [
    "#variable 2: evaluating job\n",
    "loan['job'].value_counts()"
   ]
  },
  {
   "cell_type": "code",
   "execution_count": 169,
   "metadata": {},
   "outputs": [],
   "source": [
    "count_prospects_job = loan.groupby('job')['response'].sum().reset_index(name = 'count_prospects')\n",
    "No_of_prospect_job = loan.groupby('job')['response'].count().reset_index(name = 'No_of_prospects')\n",
    "agg_job = count_prospects_job.merge(No_of_prospect_job, on = 'job')"
   ]
  },
  {
   "cell_type": "code",
   "execution_count": 170,
   "metadata": {},
   "outputs": [],
   "source": [
    "#calculating response rate for different job types\n",
    "agg_job['response_rate'] = 100*(agg_job['count_prospects']/agg_job['No_of_prospects']).round(4)"
   ]
  },
  {
   "cell_type": "markdown",
   "metadata": {},
   "source": [
    "#### Variable 2: box_plot : agg_job v/s response_rate"
   ]
  },
  {
   "cell_type": "code",
   "execution_count": 171,
   "metadata": {},
   "outputs": [
    {
     "data": {
      "image/png": "[encoded data removed]",
      "text/plain": [
       "<Figure size 432x288 with 1 Axes>"
      ]
     },
     "metadata": {
      "needs_background": "light"
     },
     "output_type": "display_data"
    }
   ],
   "source": [
    "ax = sns.barplot(x='job', y='response_rate', data=agg_job)\n",
    "ax.set_xticklabels(ax.get_xticklabels(),rotation=90)\n",
    "plt.show()"
   ]
  },
  {
   "cell_type": "markdown",
   "metadata": {},
   "source": [
    "#### VARIABLE 3: Marital "
   ]
  },
  {
   "cell_type": "code",
   "execution_count": 172,
   "metadata": {},
   "outputs": [
    {
     "data": {
      "text/plain": [
       "married     24928\n",
       "single      11568\n",
       "divorced     4612\n",
       "unknown        80\n",
       "Name: marital, dtype: int64"
      ]
     },
     "execution_count": 172,
     "metadata": {},
     "output_type": "execute_result"
    }
   ],
   "source": [
    "# variable 3 analysis: marital\n",
    "loan['marital'].value_counts()"
   ]
  },
  {
   "cell_type": "code",
   "execution_count": 173,
   "metadata": {},
   "outputs": [],
   "source": [
    "#reaplacing nan with most frequent\n",
    "loan.replace({'marital' : { 'unknown' : 'married'}}, inplace=True)"
   ]
  },
  {
   "cell_type": "code",
   "execution_count": 174,
   "metadata": {},
   "outputs": [],
   "source": [
    "count_prospects_marital = loan.groupby('marital')['response'].sum().reset_index(name = 'count_prospects')\n",
    "No_of_prospect_job = loan.groupby('marital')['response'].count().reset_index(name = 'No_of_prospects')\n",
    "agg_marital = count_prospects_marital.merge(No_of_prospect_job, on = 'marital')"
   ]
  },
  {
   "cell_type": "code",
   "execution_count": 175,
   "metadata": {},
   "outputs": [],
   "source": [
    "#calculating response rate v/s agg_marital statau\n",
    "agg_marital['response_rate'] = 100*(agg_marital['count_prospects']/agg_marital['No_of_prospects']).round(4)"
   ]
  },
  {
   "cell_type": "markdown",
   "metadata": {},
   "source": [
    "#### Variable 3: box_plot : agg_marital v/s response_rate "
   ]
  },
  {
   "cell_type": "code",
   "execution_count": 176,
   "metadata": {},
   "outputs": [
    {
     "data": {
      "image/png": "[encoded data removed]",
      "text/plain": [
       "<Figure size 432x288 with 1 Axes>"
      ]
     },
     "metadata": {
      "needs_background": "light"
     },
     "output_type": "display_data"
    }
   ],
   "source": [
    "ax = sns.barplot(x='marital', y='response_rate', data=agg_marital)\n",
    "ax.set_xticklabels(ax.get_xticklabels(),rotation=0)\n",
    "plt.show()"
   ]
  },
  {
   "cell_type": "markdown",
   "metadata": {},
   "source": [
    "#### VARIABLE 4: Education "
   ]
  },
  {
   "cell_type": "code",
   "execution_count": 177,
   "metadata": {},
   "outputs": [
    {
     "data": {
      "text/plain": [
       "university.degree      12168\n",
       "high.school             9515\n",
       "basic.9y                6045\n",
       "professional.course     5243\n",
       "basic.4y                4176\n",
       "basic.6y                2292\n",
       "unknown                 1731\n",
       "illiterate                18\n",
       "Name: education, dtype: int64"
      ]
     },
     "execution_count": 177,
     "metadata": {},
     "output_type": "execute_result"
    }
   ],
   "source": [
    "# Analysing variable 4: Education\n",
    "loan['education'].value_counts()"
   ]
  },
  {
   "cell_type": "code",
   "execution_count": 178,
   "metadata": {},
   "outputs": [],
   "source": [
    "#understanding the education column\n",
    "loan.replace({'education' : { 'basic.9y' : 'Primary_Education', 'basic.4y' : 'Primary_Education','basic.6y' : 'Primary_Education','illiterate' : 'Primary_Education','high.school' : 'Secondary_Education', 'university.degree' : 'Tertiary_Education' }}, inplace=True)"
   ]
  },
  {
   "cell_type": "code",
   "execution_count": 179,
   "metadata": {},
   "outputs": [],
   "source": [
    "count_prospects_education = loan.groupby('education')['response'].sum().reset_index(name = 'count_prospects')\n",
    "No_of_prospect_education = loan.groupby('education')['response'].count().reset_index(name = 'No_of_prospects')\n",
    "agg_education = count_prospects_education.merge(No_of_prospect_education, on = 'education')"
   ]
  },
  {
   "cell_type": "code",
   "execution_count": 180,
   "metadata": {},
   "outputs": [],
   "source": [
    "#calculating response rate v/s agg_education column\n",
    "agg_education['response_rate'] = 100*(agg_education['count_prospects']/agg_education['No_of_prospects']).round(4)"
   ]
  },
  {
   "cell_type": "markdown",
   "metadata": {},
   "source": [
    "#### Variable 4: box_plot : agg_education v/s response_rate "
   ]
  },
  {
   "cell_type": "code",
   "execution_count": 181,
   "metadata": {},
   "outputs": [
    {
     "data": {
      "image/png": "[encoded data removed]",
      "text/plain": [
       "<Figure size 432x288 with 1 Axes>"
      ]
     },
     "metadata": {
      "needs_background": "light"
     },
     "output_type": "display_data"
    }
   ],
   "source": [
    "ax = sns.barplot(x='education', y='response_rate', data=agg_education)\n",
    "ax.set_xticklabels(ax.get_xticklabels(),rotation=30)\n",
    "plt.show()"
   ]
  },
  {
   "cell_type": "markdown",
   "metadata": {},
   "source": [
    "#### VARIABLE 5:  Default "
   ]
  },
  {
   "cell_type": "code",
   "execution_count": 182,
   "metadata": {},
   "outputs": [
    {
     "data": {
      "text/plain": [
       "no         32588\n",
       "unknown     8597\n",
       "yes            3\n",
       "Name: default, dtype: int64"
      ]
     },
     "execution_count": 182,
     "metadata": {},
     "output_type": "execute_result"
    }
   ],
   "source": [
    "# Analysing variable 5: default\n",
    "loan['default'].value_counts()"
   ]
  },
  {
   "cell_type": "code",
   "execution_count": 183,
   "metadata": {},
   "outputs": [],
   "source": [
    "count_prospects_default = loan.groupby('default')['response'].sum().reset_index(name = 'count_prospects')\n",
    "No_of_prospect_default = loan.groupby('default')['response'].count().reset_index(name = 'No_of_prospects')\n",
    "agg_default = count_prospects_default.merge(No_of_prospect_default, on = 'default')"
   ]
  },
  {
   "cell_type": "code",
   "execution_count": 184,
   "metadata": {},
   "outputs": [],
   "source": [
    "#calculating response rate v/s agg_default column\n",
    "agg_default['response_rate'] = 100*(agg_default['count_prospects']/agg_default['No_of_prospects']).round(4)"
   ]
  },
  {
   "cell_type": "markdown",
   "metadata": {},
   "source": [
    "#### Variable 5: box_plot : agg_default v/s response_rate  "
   ]
  },
  {
   "cell_type": "code",
   "execution_count": 185,
   "metadata": {},
   "outputs": [
    {
     "data": {
      "image/png": "[encoded data removed]",
      "text/plain": [
       "<Figure size 432x288 with 1 Axes>"
      ]
     },
     "metadata": {
      "needs_background": "light"
     },
     "output_type": "display_data"
    }
   ],
   "source": [
    "ax = sns.barplot(x='default', y='response_rate', data=agg_default)\n",
    "ax.set_xticklabels(ax.get_xticklabels(),rotation=0)\n",
    "plt.show()"
   ]
  },
  {
   "cell_type": "markdown",
   "metadata": {},
   "source": [
    "#### VARIABLE 6: Housing "
   ]
  },
  {
   "cell_type": "code",
   "execution_count": 186,
   "metadata": {},
   "outputs": [
    {
     "data": {
      "text/plain": [
       "yes        21576\n",
       "no         18622\n",
       "unknown      990\n",
       "Name: housing, dtype: int64"
      ]
     },
     "execution_count": 186,
     "metadata": {},
     "output_type": "execute_result"
    }
   ],
   "source": [
    "# Analysing variable 6: housing\n",
    "loan['housing'].value_counts()"
   ]
  },
  {
   "cell_type": "code",
   "execution_count": 187,
   "metadata": {},
   "outputs": [],
   "source": [
    "count_prospects_housing = loan.groupby('housing')['response'].sum().reset_index(name = 'count_prospects')\n",
    "No_of_prospect_housing = loan.groupby('housing')['response'].count().reset_index(name = 'No_of_prospects')\n",
    "agg_housing = count_prospects_housing.merge(No_of_prospect_housing, on = 'housing')"
   ]
  },
  {
   "cell_type": "code",
   "execution_count": 188,
   "metadata": {},
   "outputs": [],
   "source": [
    "#calculating response rate v/s housing column\n",
    "agg_housing['response_rate'] = 100*(agg_housing['count_prospects']/agg_housing['No_of_prospects']).round(4)"
   ]
  },
  {
   "cell_type": "markdown",
   "metadata": {},
   "source": [
    "#### Variable 6: box_plot : agg_housing v/s response_rate  "
   ]
  },
  {
   "cell_type": "code",
   "execution_count": 189,
   "metadata": {},
   "outputs": [
    {
     "data": {
      "image/png": "[encoded data removed]",
      "text/plain": [
       "<Figure size 432x288 with 1 Axes>"
      ]
     },
     "metadata": {
      "needs_background": "light"
     },
     "output_type": "display_data"
    }
   ],
   "source": [
    "ax = sns.barplot(x='housing', y='response_rate', data=agg_housing)\n",
    "ax.set_xticklabels(ax.get_xticklabels(),rotation=0)\n",
    "plt.show()"
   ]
  },
  {
   "cell_type": "markdown",
   "metadata": {},
   "source": [
    "#### VARIABLE 7: Loan "
   ]
  },
  {
   "cell_type": "code",
   "execution_count": 190,
   "metadata": {},
   "outputs": [
    {
     "data": {
      "text/plain": [
       "no         33950\n",
       "yes         6248\n",
       "unknown      990\n",
       "Name: loan, dtype: int64"
      ]
     },
     "execution_count": 190,
     "metadata": {},
     "output_type": "execute_result"
    }
   ],
   "source": [
    "# Analysing variable 7: loan\n",
    "loan['loan'].value_counts()"
   ]
  },
  {
   "cell_type": "code",
   "execution_count": 191,
   "metadata": {},
   "outputs": [],
   "source": [
    "count_prospects_loan = loan.groupby('loan')['response'].sum().reset_index(name = 'count_prospects')\n",
    "No_of_prospect_loan = loan.groupby('loan')['response'].count().reset_index(name = 'No_of_prospects')\n",
    "agg_loan = count_prospects_loan.merge(No_of_prospect_loan, on = 'loan')"
   ]
  },
  {
   "cell_type": "code",
   "execution_count": 192,
   "metadata": {},
   "outputs": [],
   "source": [
    "#calculating response rate v/s loan column\n",
    "agg_loan['response_rate'] = 100*(agg_loan['count_prospects']/agg_loan['No_of_prospects']).round(4)"
   ]
  },
  {
   "cell_type": "markdown",
   "metadata": {},
   "source": [
    "#### Variable 7: box_plot : agg_loan v/s response_rate "
   ]
  },
  {
   "cell_type": "code",
   "execution_count": 193,
   "metadata": {},
   "outputs": [
    {
     "data": {
      "image/png": "[encoded data removed]",
      "text/plain": [
       "<Figure size 432x288 with 1 Axes>"
      ]
     },
     "metadata": {
      "needs_background": "light"
     },
     "output_type": "display_data"
    }
   ],
   "source": [
    "ax = sns.barplot(x='loan', y='response_rate', data=agg_loan)\n",
    "ax.set_xticklabels(ax.get_xticklabels(),rotation=0)\n",
    "plt.show()"
   ]
  },
  {
   "cell_type": "markdown",
   "metadata": {},
   "source": [
    "#### VARIABLE 8: Contact "
   ]
  },
  {
   "cell_type": "code",
   "execution_count": 194,
   "metadata": {},
   "outputs": [
    {
     "data": {
      "text/plain": [
       "cellular     26144\n",
       "telephone    15044\n",
       "Name: contact, dtype: int64"
      ]
     },
     "execution_count": 194,
     "metadata": {},
     "output_type": "execute_result"
    }
   ],
   "source": [
    "# Analysing variable 8: contact\n",
    "loan['contact'].value_counts()"
   ]
  },
  {
   "cell_type": "code",
   "execution_count": 195,
   "metadata": {},
   "outputs": [],
   "source": [
    "count_prospects_contact = loan.groupby('contact')['response'].sum().reset_index(name = 'count_prospects')\n",
    "No_of_prospect_contact = loan.groupby('contact')['response'].count().reset_index(name = 'No_of_prospects')\n",
    "agg_contact = count_prospects_contact.merge(No_of_prospect_contact, on = 'contact')"
   ]
  },
  {
   "cell_type": "code",
   "execution_count": 196,
   "metadata": {},
   "outputs": [],
   "source": [
    "#calculating response rate v/s contact column\n",
    "agg_contact['response_rate'] = 100*(agg_contact['count_prospects']/agg_contact['No_of_prospects']).round(4)\n"
   ]
  },
  {
   "cell_type": "markdown",
   "metadata": {},
   "source": [
    "#### Variable 8: box_plot : agg_contact v/s response_rate  "
   ]
  },
  {
   "cell_type": "code",
   "execution_count": 197,
   "metadata": {},
   "outputs": [
    {
     "data": {
      "image/png": "[encoded data removed]",
      "text/plain": [
       "<Figure size 432x288 with 1 Axes>"
      ]
     },
     "metadata": {
      "needs_background": "light"
     },
     "output_type": "display_data"
    }
   ],
   "source": [
    "ax = sns.barplot(x='contact', y='response_rate', data=agg_contact)\n",
    "ax.set_xticklabels(ax.get_xticklabels(),rotation=0)\n",
    "plt.show()"
   ]
  },
  {
   "cell_type": "markdown",
   "metadata": {},
   "source": [
    "#### VARIABLE 9: Month"
   ]
  },
  {
   "cell_type": "code",
   "execution_count": 198,
   "metadata": {},
   "outputs": [
    {
     "data": {
      "text/plain": [
       "may    13769\n",
       "jul     7174\n",
       "aug     6178\n",
       "jun     5318\n",
       "nov     4101\n",
       "apr     2632\n",
       "oct      718\n",
       "sep      570\n",
       "mar      546\n",
       "dec      182\n",
       "Name: month, dtype: int64"
      ]
     },
     "execution_count": 198,
     "metadata": {},
     "output_type": "execute_result"
    }
   ],
   "source": [
    "# Analysing variable 9: month\n",
    "loan['month'].value_counts()"
   ]
  },
  {
   "cell_type": "code",
   "execution_count": 199,
   "metadata": {},
   "outputs": [],
   "source": [
    "count_prospects_month = loan.groupby('month')['response'].sum().reset_index(name = 'count_prospects')\n",
    "No_of_prospect_month = loan.groupby('month')['response'].count().reset_index(name = 'No_of_prospects')\n",
    "agg_month = count_prospects_month.merge(No_of_prospect_month, on = 'month')"
   ]
  },
  {
   "cell_type": "code",
   "execution_count": 200,
   "metadata": {},
   "outputs": [],
   "source": [
    "#calculating response rate v/s month column\n",
    "agg_month['response_rate'] = 100*(agg_month['count_prospects']/agg_month['No_of_prospects']).round(4)"
   ]
  },
  {
   "cell_type": "markdown",
   "metadata": {},
   "source": [
    "#### Variable 9: box_plot : agg_month v/s response_rate   "
   ]
  },
  {
   "cell_type": "code",
   "execution_count": 201,
   "metadata": {},
   "outputs": [
    {
     "data": {
      "image/png": "[encoded data removed]",
      "text/plain": [
       "<Figure size 432x288 with 1 Axes>"
      ]
     },
     "metadata": {
      "needs_background": "light"
     },
     "output_type": "display_data"
    }
   ],
   "source": [
    "ax = sns.barplot(x='month', y='response_rate', data=agg_month)\n",
    "ax.set_xticklabels(ax.get_xticklabels(),rotation=0)\n",
    "plt.show()"
   ]
  },
  {
   "cell_type": "markdown",
   "metadata": {},
   "source": [
    "#### VARIABLE 10: Day_of_week"
   ]
  },
  {
   "cell_type": "code",
   "execution_count": 202,
   "metadata": {},
   "outputs": [
    {
     "data": {
      "text/plain": [
       "thu    8623\n",
       "mon    8514\n",
       "wed    8134\n",
       "tue    8090\n",
       "fri    7827\n",
       "Name: day_of_week, dtype: int64"
      ]
     },
     "execution_count": 202,
     "metadata": {},
     "output_type": "execute_result"
    }
   ],
   "source": [
    "# Analysing variable 10: day_of_week\n",
    "loan['day_of_week'].value_counts()"
   ]
  },
  {
   "cell_type": "code",
   "execution_count": 203,
   "metadata": {},
   "outputs": [],
   "source": [
    "count_prospects_day = loan.groupby('day_of_week')['response'].sum().reset_index(name = 'count_prospects')\n",
    "No_of_prospect_day = loan.groupby('day_of_week')['response'].count().reset_index(name = 'No_of_prospects')\n",
    "agg_day = count_prospects_day.merge(No_of_prospect_day, on = 'day_of_week')"
   ]
  },
  {
   "cell_type": "code",
   "execution_count": 204,
   "metadata": {},
   "outputs": [],
   "source": [
    "#calculating response rate v/s day_of_week column\n",
    "agg_day['response_rate'] = 100*(agg_day['count_prospects']/agg_day['No_of_prospects']).round(4)"
   ]
  },
  {
   "cell_type": "markdown",
   "metadata": {},
   "source": [
    "#### Variable 10: box_plot : agg_day_of_month v/s response_rate  "
   ]
  },
  {
   "cell_type": "code",
   "execution_count": 205,
   "metadata": {},
   "outputs": [
    {
     "data": {
      "image/png": "[encoded data removed]",
      "text/plain": [
       "<Figure size 432x288 with 1 Axes>"
      ]
     },
     "metadata": {
      "needs_background": "light"
     },
     "output_type": "display_data"
    }
   ],
   "source": [
    "ax = sns.barplot(x='day_of_week', y='response_rate', data=agg_day)\n",
    "ax.set_xticklabels(ax.get_xticklabels(),rotation=0)\n",
    "plt.show()"
   ]
  },
  {
   "cell_type": "markdown",
   "metadata": {},
   "source": [
    "#### VARIABLE 11: Campaign "
   ]
  },
  {
   "cell_type": "code",
   "execution_count": 206,
   "metadata": {},
   "outputs": [
    {
     "data": {
      "text/plain": [
       "1     17642\n",
       "2     10570\n",
       "3      5341\n",
       "4      2651\n",
       "5      1599\n",
       "6       979\n",
       "7       629\n",
       "8       400\n",
       "9       283\n",
       "10      225\n",
       "11      177\n",
       "12      125\n",
       "13       92\n",
       "14       69\n",
       "17       58\n",
       "15       51\n",
       "16       51\n",
       "18       33\n",
       "20       30\n",
       "19       26\n",
       "21       24\n",
       "22       17\n",
       "23       16\n",
       "24       15\n",
       "27       11\n",
       "29       10\n",
       "25        8\n",
       "26        8\n",
       "28        8\n",
       "30        7\n",
       "31        7\n",
       "35        5\n",
       "33        4\n",
       "32        4\n",
       "34        3\n",
       "40        2\n",
       "42        2\n",
       "43        2\n",
       "37        1\n",
       "39        1\n",
       "41        1\n",
       "56        1\n",
       "Name: campaign, dtype: int64"
      ]
     },
     "execution_count": 206,
     "metadata": {},
     "output_type": "execute_result"
    }
   ],
   "source": [
    "# Analysing variable 11:compaign column\n",
    "loan['campaign'].value_counts()"
   ]
  },
  {
   "cell_type": "code",
   "execution_count": 207,
   "metadata": {},
   "outputs": [
    {
     "data": {
      "image/png": "[encoded data removed]",
      "text/plain": [
       "<Figure size 432x288 with 1 Axes>"
      ]
     },
     "metadata": {
      "needs_background": "light"
     },
     "output_type": "display_data"
    }
   ],
   "source": [
    "#calculating distplot\n",
    "sns.distplot(loan['campaign'])\n",
    "plt.show()"
   ]
  },
  {
   "cell_type": "code",
   "execution_count": 208,
   "metadata": {},
   "outputs": [
    {
     "data": {
      "image/png": "[encoded data removed]",
      "text/plain": [
       "<Figure size 432x288 with 1 Axes>"
      ]
     },
     "metadata": {
      "needs_background": "light"
     },
     "output_type": "display_data"
    }
   ],
   "source": [
    "# check for outliers in the campaign column\n",
    "sns.boxplot(x='campaign', data=loan)\n",
    "plt.show()"
   ]
  },
  {
   "cell_type": "code",
   "execution_count": 209,
   "metadata": {},
   "outputs": [
    {
     "data": {
      "text/plain": [
       "count    41188.000000\n",
       "mean         2.567593\n",
       "std          2.770014\n",
       "min          1.000000\n",
       "25%          1.000000\n",
       "50%          2.000000\n",
       "75%          3.000000\n",
       "95%          7.000000\n",
       "99%         14.000000\n",
       "max         56.000000\n",
       "Name: campaign, dtype: float64"
      ]
     },
     "execution_count": 209,
     "metadata": {},
     "output_type": "execute_result"
    }
   ],
   "source": [
    "# analysing boxplot using percentile\n",
    "loan['campaign'].describe(percentiles = [0.25,0.50,0.75,0.95,0.99])"
   ]
  },
  {
   "cell_type": "code",
   "execution_count": 210,
   "metadata": {},
   "outputs": [],
   "source": [
    "#replacing outliers\n",
    "loan['campaign'][loan['campaign']>14] =14"
   ]
  },
  {
   "cell_type": "code",
   "execution_count": 211,
   "metadata": {},
   "outputs": [
    {
     "data": {
      "image/png": "[encoded data removed]",
      "text/plain": [
       "<Figure size 432x288 with 1 Axes>"
      ]
     },
     "metadata": {
      "needs_background": "light"
     },
     "output_type": "display_data"
    }
   ],
   "source": [
    "#Aggregating the counplot\n",
    "sns.countplot(loan['campaign'])\n",
    "plt.show()"
   ]
  },
  {
   "cell_type": "code",
   "execution_count": 212,
   "metadata": {},
   "outputs": [],
   "source": [
    "count_prospects_campaign = loan.groupby('campaign')['response'].sum().reset_index(name = 'count_prospects')\n",
    "No_of_prospect_campaign = loan.groupby('campaign')['response'].count().reset_index(name = 'No_of_prospects')\n",
    "agg_campaign = count_prospects_campaign.merge(No_of_prospect_campaign, on = 'campaign')"
   ]
  },
  {
   "cell_type": "code",
   "execution_count": 213,
   "metadata": {},
   "outputs": [],
   "source": [
    "#calculating response rate v/s campaign column\n",
    "agg_campaign['response_rate'] = 100*(agg_campaign['count_prospects']/agg_campaign['No_of_prospects']).round(4)"
   ]
  },
  {
   "cell_type": "markdown",
   "metadata": {},
   "source": [
    "#### Variable 11: box_plot : agg_campaign v/s response_rate   "
   ]
  },
  {
   "cell_type": "code",
   "execution_count": 214,
   "metadata": {},
   "outputs": [
    {
     "data": {
      "image/png": "[encoded data removed]",
      "text/plain": [
       "<Figure size 432x288 with 1 Axes>"
      ]
     },
     "metadata": {
      "needs_background": "light"
     },
     "output_type": "display_data"
    }
   ],
   "source": [
    "ax = sns.barplot(x='campaign', y='response_rate', data=agg_campaign)\n",
    "ax.set_xticklabels(ax.get_xticklabels(),rotation=0)\n",
    "plt.show()"
   ]
  },
  {
   "cell_type": "markdown",
   "metadata": {},
   "source": [
    "#### VARIABLE 12: Pdays "
   ]
  },
  {
   "cell_type": "code",
   "execution_count": 215,
   "metadata": {},
   "outputs": [
    {
     "data": {
      "text/plain": [
       "999    39673\n",
       "3        439\n",
       "6        412\n",
       "4        118\n",
       "9         64\n",
       "2         61\n",
       "7         60\n",
       "12        58\n",
       "10        52\n",
       "5         46\n",
       "13        36\n",
       "11        28\n",
       "1         26\n",
       "15        24\n",
       "14        20\n",
       "8         18\n",
       "0         15\n",
       "16        11\n",
       "17         8\n",
       "18         7\n",
       "19         3\n",
       "22         3\n",
       "21         2\n",
       "26         1\n",
       "20         1\n",
       "25         1\n",
       "27         1\n",
       "Name: pdays, dtype: int64"
      ]
     },
     "execution_count": 215,
     "metadata": {},
     "output_type": "execute_result"
    }
   ],
   "source": [
    "# Analysing variable 12: pdays column\n",
    "loan['pdays'].value_counts()"
   ]
  },
  {
   "cell_type": "code",
   "execution_count": 216,
   "metadata": {},
   "outputs": [],
   "source": [
    "# contacting people in first 10 daysw\n",
    "loan['pdays'][loan['pdays'].isin([0,1,2,3,4,5,6,7,8,9,10])]='Contacted_in_first_10days'\n",
    "loan['pdays'][loan['pdays'].isin([999])]='First_time_contacted'\n",
    "#people contacted after 10 days\n",
    "loan['pdays'][~loan['pdays'].isin(['Contacted_in_first_10days','First_time_contacted'])]='Contacted_after_10days'"
   ]
  },
  {
   "cell_type": "code",
   "execution_count": 217,
   "metadata": {},
   "outputs": [],
   "source": [
    "count_prospects_pdays = loan.groupby('pdays')['response'].sum().reset_index(name = 'count_prospects')\n",
    "No_of_prospect_pdays = loan.groupby('pdays')['response'].count().reset_index(name = 'No_of_prospects')\n",
    "agg_pdays = count_prospects_pdays.merge(No_of_prospect_pdays, on = 'pdays')"
   ]
  },
  {
   "cell_type": "code",
   "execution_count": 218,
   "metadata": {},
   "outputs": [],
   "source": [
    "#calculating response rate v/s pdays column\n",
    "agg_pdays['response_rate'] = 100*(agg_pdays['count_prospects']/agg_pdays['No_of_prospects']).round(4)"
   ]
  },
  {
   "cell_type": "markdown",
   "metadata": {},
   "source": [
    "#### Variable 12: box_plot : agg_pdays v/s response_rate "
   ]
  },
  {
   "cell_type": "code",
   "execution_count": 219,
   "metadata": {},
   "outputs": [
    {
     "data": {
      "image/png": "[encoded data removed]",
      "text/plain": [
       "<Figure size 432x288 with 1 Axes>"
      ]
     },
     "metadata": {
      "needs_background": "light"
     },
     "output_type": "display_data"
    }
   ],
   "source": [
    "ax = sns.barplot(x='pdays', y='response_rate', data=agg_pdays)\n",
    "ax.set_xticklabels(ax.get_xticklabels(),rotation=10)\n",
    "plt.show()"
   ]
  },
  {
   "cell_type": "markdown",
   "metadata": {},
   "source": [
    "#### VARIABLE 13: previous"
   ]
  },
  {
   "cell_type": "code",
   "execution_count": 220,
   "metadata": {},
   "outputs": [
    {
     "data": {
      "text/plain": [
       "0    35563\n",
       "1     4561\n",
       "2      754\n",
       "3      216\n",
       "4       70\n",
       "5       18\n",
       "6        5\n",
       "7        1\n",
       "Name: previous, dtype: int64"
      ]
     },
     "execution_count": 220,
     "metadata": {},
     "output_type": "execute_result"
    }
   ],
   "source": [
    "loan['previous'].value_counts()"
   ]
  },
  {
   "cell_type": "code",
   "execution_count": 221,
   "metadata": {},
   "outputs": [],
   "source": [
    "#checking for no_of_times people have been contacted\n",
    "loan['previous'][loan['previous'].isin([0])]='Never contacted'\n",
    "loan['previous'][loan['previous'].isin([1,2,3])]='Less_than_3_times'\n",
    "loan['previous'][loan['previous'].isin([4,5,6,7])]='More than_3_times'"
   ]
  },
  {
   "cell_type": "code",
   "execution_count": 222,
   "metadata": {},
   "outputs": [],
   "source": [
    "count_prospects_previous = loan.groupby('previous')['response'].sum().reset_index(name = 'count_prospects')\n",
    "No_of_prospect_previous = loan.groupby('previous')['response'].count().reset_index(name = 'No_of_prospects')\n",
    "agg_previous = count_prospects_previous.merge(No_of_prospect_previous, on = 'previous')"
   ]
  },
  {
   "cell_type": "code",
   "execution_count": 223,
   "metadata": {},
   "outputs": [],
   "source": [
    "#calculating response rate v/s previous column\n",
    "agg_previous['response_rate'] = 100*(agg_previous['count_prospects']/agg_previous['No_of_prospects']).round(4)"
   ]
  },
  {
   "cell_type": "markdown",
   "metadata": {},
   "source": [
    "#### Variable 13: box_plot : agg_previous v/s response_rate  "
   ]
  },
  {
   "cell_type": "code",
   "execution_count": 224,
   "metadata": {},
   "outputs": [
    {
     "data": {
      "image/png": "[encoded data removed]",
      "text/plain": [
       "<Figure size 432x288 with 1 Axes>"
      ]
     },
     "metadata": {
      "needs_background": "light"
     },
     "output_type": "display_data"
    }
   ],
   "source": [
    "ax = sns.barplot(x='previous', y='response_rate', data=agg_previous)\n",
    "ax.set_xticklabels(ax.get_xticklabels(),rotation=0)\n",
    "plt.show()"
   ]
  },
  {
   "cell_type": "markdown",
   "metadata": {},
   "source": [
    "### 4.b Analysing Numerical variables\n",
    "       \n",
    "    1.Employment Variation Rate\n",
    "    2.Consumer Price Index\n",
    "    3.Consumer Confidence Index \n",
    "    4.Euribor 3 Month Rate \n",
    "    5.Number of Employees"
   ]
  },
  {
   "cell_type": "markdown",
   "metadata": {},
   "source": [
    "#### VARIABLE 1: Employment Variation Rate "
   ]
  },
  {
   "cell_type": "code",
   "execution_count": 225,
   "metadata": {},
   "outputs": [
    {
     "data": {
      "image/png": "[encoded data removed]",
      "text/plain": [
       "<Figure size 432x288 with 1 Axes>"
      ]
     },
     "metadata": {
      "needs_background": "light"
     },
     "output_type": "display_data"
    }
   ],
   "source": [
    "# Analysing emp.var.rate\n",
    "sns.distplot(loan['emp.var.rate'])\n",
    "plt.show()"
   ]
  },
  {
   "cell_type": "code",
   "execution_count": 226,
   "metadata": {},
   "outputs": [
    {
     "data": {
      "text/plain": [
       "count    41188.000000\n",
       "mean         0.081886\n",
       "std          1.570960\n",
       "min         -3.400000\n",
       "25%         -1.800000\n",
       "50%          1.100000\n",
       "75%          1.400000\n",
       "95%          1.400000\n",
       "99%          1.400000\n",
       "max          1.400000\n",
       "Name: emp.var.rate, dtype: float64"
      ]
     },
     "execution_count": 226,
     "metadata": {},
     "output_type": "execute_result"
    }
   ],
   "source": [
    "#calculating the percentile distribution\n",
    "loan['emp.var.rate'].describe(percentiles = [0.25,0.50,0.75,0.95,0.99])"
   ]
  },
  {
   "cell_type": "code",
   "execution_count": 227,
   "metadata": {},
   "outputs": [],
   "source": [
    "count_prospects_emp_var_rate = loan.groupby('emp.var.rate')['response'].sum().reset_index(name = 'count_prospects')\n",
    "No_of_prospect_emp_var_rate = loan.groupby('emp.var.rate')['response'].count().reset_index(name = 'No_of_prospects')\n",
    "agg_emp_var_rate = count_prospects_emp_var_rate.merge(No_of_prospect_emp_var_rate, on = 'emp.var.rate')"
   ]
  },
  {
   "cell_type": "code",
   "execution_count": 228,
   "metadata": {},
   "outputs": [],
   "source": [
    "#calculating response rate v/s emp.var.rate column\n",
    "agg_emp_var_rate['response_rate'] = 100*(agg_emp_var_rate['count_prospects']/agg_emp_var_rate['No_of_prospects']).round(4)"
   ]
  },
  {
   "cell_type": "markdown",
   "metadata": {},
   "source": [
    "#### Variable 1: box_plot : agg_emp_var_rate v/s response_rate   "
   ]
  },
  {
   "cell_type": "code",
   "execution_count": 229,
   "metadata": {},
   "outputs": [
    {
     "data": {
      "image/png": "[encoded data removed]",
      "text/plain": [
       "<Figure size 432x288 with 1 Axes>"
      ]
     },
     "metadata": {
      "needs_background": "light"
     },
     "output_type": "display_data"
    }
   ],
   "source": [
    "ax = sns.barplot(x='emp.var.rate', y='response_rate', data=agg_emp_var_rate)\n",
    "ax.set_xticklabels(ax.get_xticklabels(),rotation=0)\n",
    "plt.show()"
   ]
  },
  {
   "cell_type": "markdown",
   "metadata": {},
   "source": [
    "#### VARIABLE 2: Consumer Price Index"
   ]
  },
  {
   "cell_type": "code",
   "execution_count": 230,
   "metadata": {},
   "outputs": [
    {
     "data": {
      "image/png": "[encoded data removed]",
      "text/plain": [
       "<Figure size 432x288 with 1 Axes>"
      ]
     },
     "metadata": {
      "needs_background": "light"
     },
     "output_type": "display_data"
    }
   ],
   "source": [
    "# Analysing consumer_pr_index\n",
    "sns.distplot(loan['cons.price.idx'])\n",
    "plt.show()"
   ]
  },
  {
   "cell_type": "code",
   "execution_count": 231,
   "metadata": {},
   "outputs": [
    {
     "data": {
      "text/plain": [
       "count    41188.000000\n",
       "mean        93.575664\n",
       "std          0.578840\n",
       "min         92.201000\n",
       "25%         93.075000\n",
       "50%         93.749000\n",
       "75%         93.994000\n",
       "95%         94.465000\n",
       "99%         94.465000\n",
       "max         94.767000\n",
       "Name: cons.price.idx, dtype: float64"
      ]
     },
     "execution_count": 231,
     "metadata": {},
     "output_type": "execute_result"
    }
   ],
   "source": [
    "#calculating the percentile distribution\n",
    "loan['cons.price.idx'].describe(percentiles = [0.25,0.50,0.75,0.95,0.99])"
   ]
  },
  {
   "cell_type": "markdown",
   "metadata": {},
   "source": [
    "#### VARIABLE 3:Euribor three month rate "
   ]
  },
  {
   "cell_type": "code",
   "execution_count": 232,
   "metadata": {},
   "outputs": [
    {
     "data": {
      "image/png": "[encoded data removed]",
      "text/plain": [
       "<Figure size 432x288 with 1 Axes>"
      ]
     },
     "metadata": {
      "needs_background": "light"
     },
     "output_type": "display_data"
    }
   ],
   "source": [
    "# Analysing euribor_3_month_rate\n",
    "sns.distplot(loan['euribor3m'])\n",
    "plt.show()"
   ]
  },
  {
   "cell_type": "code",
   "execution_count": 233,
   "metadata": {},
   "outputs": [
    {
     "data": {
      "text/plain": [
       "count    41188.000000\n",
       "mean         3.621291\n",
       "std          1.734447\n",
       "min          0.634000\n",
       "25%          1.344000\n",
       "50%          4.857000\n",
       "75%          4.961000\n",
       "95%          4.966000\n",
       "99%          4.968000\n",
       "max          5.045000\n",
       "Name: euribor3m, dtype: float64"
      ]
     },
     "execution_count": 233,
     "metadata": {},
     "output_type": "execute_result"
    }
   ],
   "source": [
    "#calculating the percentile distribution\n",
    "loan['euribor3m'].describe(percentiles = [0.25,0.50,0.75,0.95,0.99])"
   ]
  },
  {
   "cell_type": "markdown",
   "metadata": {},
   "source": [
    "#### VARIABLE 4: Number_of_employess"
   ]
  },
  {
   "cell_type": "code",
   "execution_count": 234,
   "metadata": {},
   "outputs": [
    {
     "data": {
      "image/png": "[encoded data removed]",
      "text/plain": [
       "<Figure size 432x288 with 1 Axes>"
      ]
     },
     "metadata": {
      "needs_background": "light"
     },
     "output_type": "display_data"
    }
   ],
   "source": [
    "# Analysing no_of_emp\n",
    "sns.distplot(loan['nr.employed'])\n",
    "plt.show()"
   ]
  },
  {
   "cell_type": "code",
   "execution_count": 235,
   "metadata": {},
   "outputs": [
    {
     "data": {
      "text/plain": [
       "count    41188.000000\n",
       "mean      5167.035911\n",
       "std         72.251528\n",
       "min       4963.600000\n",
       "25%       5099.100000\n",
       "50%       5191.000000\n",
       "75%       5228.100000\n",
       "95%       5228.100000\n",
       "99%       5228.100000\n",
       "max       5228.100000\n",
       "Name: nr.employed, dtype: float64"
      ]
     },
     "execution_count": 235,
     "metadata": {},
     "output_type": "execute_result"
    }
   ],
   "source": [
    "loan['nr.employed'].describe(percentiles = [0.25,0.50,0.75,0.95,0.99])"
   ]
  },
  {
   "cell_type": "code",
   "execution_count": 236,
   "metadata": {},
   "outputs": [
    {
     "data": {
      "image/png": "[encoded data removed]",
      "text/plain": [
       "<Figure size 432x288 with 1 Axes>"
      ]
     },
     "metadata": {
      "needs_background": "light"
     },
     "output_type": "display_data"
    }
   ],
   "source": [
    "sns.distplot(loan['duration'])\n",
    "plt.show()"
   ]
  },
  {
   "cell_type": "code",
   "execution_count": 237,
   "metadata": {},
   "outputs": [
    {
     "data": {
      "image/png": "[encoded data removed]",
      "text/plain": [
       "<Figure size 432x288 with 1 Axes>"
      ]
     },
     "metadata": {
      "needs_background": "light"
     },
     "output_type": "display_data"
    }
   ],
   "source": [
    "loan['duration'].describe(percentiles = [0.25,0.50,0.75,0.95,0.99])\n",
    "sns.boxplot(x='duration', data=loan)\n",
    "plt.show()"
   ]
  },
  {
   "cell_type": "code",
   "execution_count": 238,
   "metadata": {},
   "outputs": [
    {
     "data": {
      "image/png": "[encoded data removed]",
      "text/plain": [
       "<Figure size 432x288 with 1 Axes>"
      ]
     },
     "metadata": {
      "needs_background": "light"
     },
     "output_type": "display_data"
    }
   ],
   "source": [
    "loan['duration'][loan['duration']>1271] =1271\n",
    "sns.boxplot(x='duration', data=loan)\n",
    "plt.show()"
   ]
  },
  {
   "cell_type": "code",
   "execution_count": 239,
   "metadata": {},
   "outputs": [
    {
     "data": {
      "image/png": "[encoded data removed]",
      "text/plain": [
       "<Figure size 432x288 with 1 Axes>"
      ]
     },
     "metadata": {
      "needs_background": "light"
     },
     "output_type": "display_data"
    }
   ],
   "source": [
    "sns.distplot(loan['duration'])\n",
    "plt.show()"
   ]
  },
  {
   "cell_type": "markdown",
   "metadata": {},
   "source": [
    "## Step 5: Data Preparation\n",
    "            a. Dropping unnecessary columns\n",
    "            b. Dummy variable creation for categorical columbs\n",
    "            c. Dropping columns for dummy variables"
   ]
  },
  {
   "cell_type": "code",
   "execution_count": 240,
   "metadata": {
    "scrolled": true
   },
   "outputs": [],
   "source": [
    "# Droping the column age_bins we had created for the purpose of data visualisation\n",
    "loan.drop(columns = 'age_bins', inplace = True)"
   ]
  },
  {
   "cell_type": "code",
   "execution_count": 241,
   "metadata": {},
   "outputs": [],
   "source": [
    "# Creating a dummy variable for the variable 'job' and dropping the first one.\n",
    "job = pd.get_dummies(loan['job'],prefix='job',drop_first=True)\n",
    "#Adding the results to the master dataframe\n",
    "loan = pd.concat([loan,job],axis=1)"
   ]
  },
  {
   "cell_type": "code",
   "execution_count": 242,
   "metadata": {},
   "outputs": [],
   "source": [
    "# Creating dummy variable for marital column\n",
    "marital = pd.get_dummies(loan['marital'],prefix='marital',drop_first=True)\n",
    "loan = pd.concat([loan,marital],axis=1)"
   ]
  },
  {
   "cell_type": "code",
   "execution_count": 243,
   "metadata": {},
   "outputs": [],
   "source": [
    "# Creating dummy variable for education column\n",
    "education = pd.get_dummies(loan['education'],prefix='education',drop_first=True)\n",
    "loan = pd.concat([loan,education],axis=1)"
   ]
  },
  {
   "cell_type": "code",
   "execution_count": 244,
   "metadata": {},
   "outputs": [],
   "source": [
    "# Creating dummy variable for default column\n",
    "default = pd.get_dummies(loan['default'],prefix='default',drop_first=True)\n",
    "loan = pd.concat([loan,default],axis=1)"
   ]
  },
  {
   "cell_type": "code",
   "execution_count": 245,
   "metadata": {},
   "outputs": [],
   "source": [
    "# Creating dummy variable for housing column\n",
    "housing = pd.get_dummies(loan['housing'],prefix='housing',drop_first=True)\n",
    "loan = pd.concat([loan,housing],axis=1)"
   ]
  },
  {
   "cell_type": "code",
   "execution_count": 246,
   "metadata": {},
   "outputs": [],
   "source": [
    "# Creating dummy variable for loan column\n",
    "loan_v= pd.get_dummies(loan['loan'],prefix='loan',drop_first=True)\n",
    "loan = pd.concat([loan,loan_v],axis=1)"
   ]
  },
  {
   "cell_type": "code",
   "execution_count": 247,
   "metadata": {},
   "outputs": [],
   "source": [
    "# Creating dummy variable for contact column\n",
    "contact = pd.get_dummies(loan['contact'],prefix='contact',drop_first=True)\n",
    "loan = pd.concat([loan,contact],axis=1)"
   ]
  },
  {
   "cell_type": "code",
   "execution_count": 248,
   "metadata": {},
   "outputs": [],
   "source": [
    "# Creating dummy variable for month column\n",
    "month = pd.get_dummies(loan['month'],prefix='month',drop_first=True)\n",
    "loan = pd.concat([loan,month],axis=1)"
   ]
  },
  {
   "cell_type": "code",
   "execution_count": 249,
   "metadata": {},
   "outputs": [],
   "source": [
    "# Creating dummy variable for day_of_week column\n",
    "day_of_week = pd.get_dummies(loan['day_of_week'],prefix='day_of_week',drop_first=True)\n",
    "loan = pd.concat([loan,day_of_week],axis=1)"
   ]
  },
  {
   "cell_type": "code",
   "execution_count": 250,
   "metadata": {},
   "outputs": [],
   "source": [
    "# Creating dummy variable for pdays column\n",
    "pdays = pd.get_dummies(loan['pdays'],prefix='pdays',drop_first=True)\n",
    "loan = pd.concat([loan,pdays],axis=1)"
   ]
  },
  {
   "cell_type": "code",
   "execution_count": 251,
   "metadata": {},
   "outputs": [],
   "source": [
    "# Creating dummy variable for previous column\n",
    "previous = pd.get_dummies(loan['previous'],prefix='previous',drop_first=True)\n",
    "loan = pd.concat([loan,previous],axis=1)"
   ]
  },
  {
   "cell_type": "code",
   "execution_count": 252,
   "metadata": {},
   "outputs": [],
   "source": [
    "# Creating dummy variable for poutcome column\n",
    "poutcome = pd.get_dummies(loan['poutcome'],prefix='poutcome',drop_first=True)\n",
    "loan = pd.concat([loan,poutcome],axis=1)"
   ]
  },
  {
   "cell_type": "code",
   "execution_count": 253,
   "metadata": {},
   "outputs": [
    {
     "data": {
      "text/html": [
       "<div>\n",
       "<style scoped>\n",
       "    .dataframe tbody tr th:only-of-type {\n",
       "        vertical-align: middle;\n",
       "    }\n",
       "\n",
       "    .dataframe tbody tr th {\n",
       "        vertical-align: top;\n",
       "    }\n",
       "\n",
       "    .dataframe thead th {\n",
       "        text-align: right;\n",
       "    }\n",
       "</style>\n",
       "<table border=\"1\" class=\"dataframe\">\n",
       "  <thead>\n",
       "    <tr style=\"text-align: right;\">\n",
       "      <th></th>\n",
       "      <th>age</th>\n",
       "      <th>job</th>\n",
       "      <th>marital</th>\n",
       "      <th>education</th>\n",
       "      <th>default</th>\n",
       "      <th>housing</th>\n",
       "      <th>loan</th>\n",
       "      <th>contact</th>\n",
       "      <th>month</th>\n",
       "      <th>day_of_week</th>\n",
       "      <th>...</th>\n",
       "      <th>day_of_week_mon</th>\n",
       "      <th>day_of_week_thu</th>\n",
       "      <th>day_of_week_tue</th>\n",
       "      <th>day_of_week_wed</th>\n",
       "      <th>pdays_Contacted_in_first_10days</th>\n",
       "      <th>pdays_First_time_contacted</th>\n",
       "      <th>previous_More than_3_times</th>\n",
       "      <th>previous_Never contacted</th>\n",
       "      <th>poutcome_nonexistent</th>\n",
       "      <th>poutcome_success</th>\n",
       "    </tr>\n",
       "  </thead>\n",
       "  <tbody>\n",
       "    <tr>\n",
       "      <th>0</th>\n",
       "      <td>56</td>\n",
       "      <td>housemaid</td>\n",
       "      <td>married</td>\n",
       "      <td>Primary_Education</td>\n",
       "      <td>no</td>\n",
       "      <td>no</td>\n",
       "      <td>no</td>\n",
       "      <td>telephone</td>\n",
       "      <td>may</td>\n",
       "      <td>mon</td>\n",
       "      <td>...</td>\n",
       "      <td>1</td>\n",
       "      <td>0</td>\n",
       "      <td>0</td>\n",
       "      <td>0</td>\n",
       "      <td>0</td>\n",
       "      <td>1</td>\n",
       "      <td>0</td>\n",
       "      <td>1</td>\n",
       "      <td>1</td>\n",
       "      <td>0</td>\n",
       "    </tr>\n",
       "    <tr>\n",
       "      <th>1</th>\n",
       "      <td>57</td>\n",
       "      <td>services</td>\n",
       "      <td>married</td>\n",
       "      <td>Secondary_Education</td>\n",
       "      <td>unknown</td>\n",
       "      <td>no</td>\n",
       "      <td>no</td>\n",
       "      <td>telephone</td>\n",
       "      <td>may</td>\n",
       "      <td>mon</td>\n",
       "      <td>...</td>\n",
       "      <td>1</td>\n",
       "      <td>0</td>\n",
       "      <td>0</td>\n",
       "      <td>0</td>\n",
       "      <td>0</td>\n",
       "      <td>1</td>\n",
       "      <td>0</td>\n",
       "      <td>1</td>\n",
       "      <td>1</td>\n",
       "      <td>0</td>\n",
       "    </tr>\n",
       "    <tr>\n",
       "      <th>2</th>\n",
       "      <td>37</td>\n",
       "      <td>services</td>\n",
       "      <td>married</td>\n",
       "      <td>Secondary_Education</td>\n",
       "      <td>no</td>\n",
       "      <td>yes</td>\n",
       "      <td>no</td>\n",
       "      <td>telephone</td>\n",
       "      <td>may</td>\n",
       "      <td>mon</td>\n",
       "      <td>...</td>\n",
       "      <td>1</td>\n",
       "      <td>0</td>\n",
       "      <td>0</td>\n",
       "      <td>0</td>\n",
       "      <td>0</td>\n",
       "      <td>1</td>\n",
       "      <td>0</td>\n",
       "      <td>1</td>\n",
       "      <td>1</td>\n",
       "      <td>0</td>\n",
       "    </tr>\n",
       "    <tr>\n",
       "      <th>3</th>\n",
       "      <td>40</td>\n",
       "      <td>admin.</td>\n",
       "      <td>married</td>\n",
       "      <td>Primary_Education</td>\n",
       "      <td>no</td>\n",
       "      <td>no</td>\n",
       "      <td>no</td>\n",
       "      <td>telephone</td>\n",
       "      <td>may</td>\n",
       "      <td>mon</td>\n",
       "      <td>...</td>\n",
       "      <td>1</td>\n",
       "      <td>0</td>\n",
       "      <td>0</td>\n",
       "      <td>0</td>\n",
       "      <td>0</td>\n",
       "      <td>1</td>\n",
       "      <td>0</td>\n",
       "      <td>1</td>\n",
       "      <td>1</td>\n",
       "      <td>0</td>\n",
       "    </tr>\n",
       "    <tr>\n",
       "      <th>4</th>\n",
       "      <td>56</td>\n",
       "      <td>services</td>\n",
       "      <td>married</td>\n",
       "      <td>Secondary_Education</td>\n",
       "      <td>no</td>\n",
       "      <td>no</td>\n",
       "      <td>yes</td>\n",
       "      <td>telephone</td>\n",
       "      <td>may</td>\n",
       "      <td>mon</td>\n",
       "      <td>...</td>\n",
       "      <td>1</td>\n",
       "      <td>0</td>\n",
       "      <td>0</td>\n",
       "      <td>0</td>\n",
       "      <td>0</td>\n",
       "      <td>1</td>\n",
       "      <td>0</td>\n",
       "      <td>1</td>\n",
       "      <td>1</td>\n",
       "      <td>0</td>\n",
       "    </tr>\n",
       "  </tbody>\n",
       "</table>\n",
       "<p>5 rows × 64 columns</p>\n",
       "</div>"
      ],
      "text/plain": [
       "   age        job  marital            education  default housing loan  \\\n",
       "0   56  housemaid  married    Primary_Education       no      no   no   \n",
       "1   57   services  married  Secondary_Education  unknown      no   no   \n",
       "2   37   services  married  Secondary_Education       no     yes   no   \n",
       "3   40     admin.  married    Primary_Education       no      no   no   \n",
       "4   56   services  married  Secondary_Education       no      no  yes   \n",
       "\n",
       "     contact month day_of_week  ...  day_of_week_mon  day_of_week_thu  \\\n",
       "0  telephone   may         mon  ...                1                0   \n",
       "1  telephone   may         mon  ...                1                0   \n",
       "2  telephone   may         mon  ...                1                0   \n",
       "3  telephone   may         mon  ...                1                0   \n",
       "4  telephone   may         mon  ...                1                0   \n",
       "\n",
       "  day_of_week_tue day_of_week_wed pdays_Contacted_in_first_10days  \\\n",
       "0               0               0                               0   \n",
       "1               0               0                               0   \n",
       "2               0               0                               0   \n",
       "3               0               0                               0   \n",
       "4               0               0                               0   \n",
       "\n",
       "   pdays_First_time_contacted  previous_More than_3_times  \\\n",
       "0                           1                           0   \n",
       "1                           1                           0   \n",
       "2                           1                           0   \n",
       "3                           1                           0   \n",
       "4                           1                           0   \n",
       "\n",
       "   previous_Never contacted  poutcome_nonexistent  poutcome_success  \n",
       "0                         1                     1                 0  \n",
       "1                         1                     1                 0  \n",
       "2                         1                     1                 0  \n",
       "3                         1                     1                 0  \n",
       "4                         1                     1                 0  \n",
       "\n",
       "[5 rows x 64 columns]"
      ]
     },
     "execution_count": 253,
     "metadata": {},
     "output_type": "execute_result"
    }
   ],
   "source": [
    "# inspect the dataframe\n",
    "loan.head()"
   ]
  },
  {
   "cell_type": "code",
   "execution_count": 254,
   "metadata": {},
   "outputs": [],
   "source": [
    "# Drop all features for whom dummy variable has been created\n",
    "loan.drop(columns = ['job','marital','education','default','housing','loan','contact','month','day_of_week','pdays','previous','poutcome'], inplace=True)"
   ]
  },
  {
   "cell_type": "code",
   "execution_count": 255,
   "metadata": {},
   "outputs": [],
   "source": [
    "# add column Prospect_ID id\n",
    "loan['prospect_id'] = loan.index"
   ]
  },
  {
   "cell_type": "markdown",
   "metadata": {},
   "source": [
    "### Step 6: Splitting the dataset to train and test"
   ]
  },
  {
   "cell_type": "code",
   "execution_count": 256,
   "metadata": {},
   "outputs": [],
   "source": [
    "# Import library to split the dataset into test and train\n",
    "from sklearn.model_selection import train_test_split"
   ]
  },
  {
   "cell_type": "code",
   "execution_count": 257,
   "metadata": {},
   "outputs": [],
   "source": [
    "# Putting feature variable to X \n",
    "X = loan.drop(['response','duration','prospect_id'],axis=1)\n",
    "\n",
    "# Putting response variable to y\n",
    "y = loan['response']\n"
   ]
  },
  {
   "cell_type": "code",
   "execution_count": 258,
   "metadata": {},
   "outputs": [],
   "source": [
    "# Splitting the data into train and test\n",
    "X_train, X_test, y_train, y_test = train_test_split(X,y, train_size=0.7,test_size=0.3,random_state=100)"
   ]
  },
  {
   "cell_type": "markdown",
   "metadata": {},
   "source": [
    "### Step 7: Standardisation "
   ]
  },
  {
   "cell_type": "code",
   "execution_count": 259,
   "metadata": {},
   "outputs": [],
   "source": [
    "# Standardisation continuous features for X_train\n",
    "X_train_df = X_train[['age','campaign','emp.var.rate','cons.price.idx','cons.conf.idx','euribor3m','nr.employed']]\n",
    "std_X_train_df=(X_train_df-X_train_df.mean())/X_train_df.std()\n",
    "X_train = X_train.drop(['age','campaign','emp.var.rate','cons.price.idx','cons.conf.idx','euribor3m','nr.employed'], 1)\n",
    "#concatinating the std_dataframe\n",
    "X_train = pd.concat([X_train,std_X_train_df],axis=1)"
   ]
  },
  {
   "cell_type": "code",
   "execution_count": 260,
   "metadata": {},
   "outputs": [],
   "source": [
    "# Standardisation continuous features for X_test\n",
    "X_test_df = X_test[['age','campaign','emp.var.rate','cons.price.idx','cons.conf.idx','euribor3m','nr.employed']]\n",
    "std_X_test_df=(X_test_df-X_test_df.mean())/X_test_df.std()\n",
    "X_test = X_test.drop(['age','campaign','emp.var.rate','cons.price.idx','cons.conf.idx','euribor3m','nr.employed'], 1)\n",
    "X_test = pd.concat([X_test,std_X_test_df],axis=1)"
   ]
  },
  {
   "cell_type": "markdown",
   "metadata": {},
   "source": [
    "### Step 8: Modelling "
   ]
  },
  {
   "cell_type": "code",
   "execution_count": 261,
   "metadata": {},
   "outputs": [],
   "source": [
    "import statsmodels.api as sm"
   ]
  },
  {
   "cell_type": "code",
   "execution_count": 262,
   "metadata": {},
   "outputs": [],
   "source": [
    "# Importing LogisticRegression and metrics from sklearn library\n",
    "from sklearn.linear_model import LogisticRegression\n",
    "from sklearn import metrics"
   ]
  },
  {
   "cell_type": "code",
   "execution_count": 263,
   "metadata": {},
   "outputs": [
    {
     "data": {
      "text/plain": [
       "LogisticRegression()"
      ]
     },
     "execution_count": 263,
     "metadata": {},
     "output_type": "execute_result"
    }
   ],
   "source": [
    "# Fitting the model\n",
    "logreg = LogisticRegression()\n",
    "logreg.fit(X_train, y_train)"
   ]
  },
  {
   "cell_type": "code",
   "execution_count": 264,
   "metadata": {},
   "outputs": [
    {
     "data": {
      "text/html": [
       "<table class=\"simpletable\">\n",
       "<caption>Generalized Linear Model Regression Results</caption>\n",
       "<tr>\n",
       "  <th>Dep. Variable:</th>       <td>response</td>     <th>  No. Observations:  </th>  <td> 28831</td> \n",
       "</tr>\n",
       "<tr>\n",
       "  <th>Model:</th>                  <td>GLM</td>       <th>  Df Residuals:      </th>  <td> 28782</td> \n",
       "</tr>\n",
       "<tr>\n",
       "  <th>Model Family:</th>        <td>Binomial</td>     <th>  Df Model:          </th>  <td>    48</td> \n",
       "</tr>\n",
       "<tr>\n",
       "  <th>Link Function:</th>         <td>logit</td>      <th>  Scale:             </th> <td>  1.0000</td>\n",
       "</tr>\n",
       "<tr>\n",
       "  <th>Method:</th>                <td>IRLS</td>       <th>  Log-Likelihood:    </th> <td> -7933.3</td>\n",
       "</tr>\n",
       "<tr>\n",
       "  <th>Date:</th>            <td>Wed, 26 Aug 2020</td> <th>  Deviance:          </th> <td>  15867.</td>\n",
       "</tr>\n",
       "<tr>\n",
       "  <th>Time:</th>                <td>17:07:13</td>     <th>  Pearson chi2:      </th> <td>2.92e+04</td>\n",
       "</tr>\n",
       "<tr>\n",
       "  <th>No. Iterations:</th>         <td>19</td>        <th>                     </th>     <td> </td>   \n",
       "</tr>\n",
       "<tr>\n",
       "  <th>Covariance Type:</th>     <td>nonrobust</td>    <th>                     </th>     <td> </td>   \n",
       "</tr>\n",
       "</table>\n",
       "<table class=\"simpletable\">\n",
       "<tr>\n",
       "                 <td></td>                    <th>coef</th>     <th>std err</th>      <th>z</th>      <th>P>|z|</th>  <th>[0.025</th>    <th>0.975]</th>  \n",
       "</tr>\n",
       "<tr>\n",
       "  <th>const</th>                           <td>   -1.6435</td> <td>    0.284</td> <td>   -5.777</td> <td> 0.000</td> <td>   -2.201</td> <td>   -1.086</td>\n",
       "</tr>\n",
       "<tr>\n",
       "  <th>job_blue-collar</th>                 <td>   -0.1547</td> <td>    0.083</td> <td>   -1.873</td> <td> 0.061</td> <td>   -0.317</td> <td>    0.007</td>\n",
       "</tr>\n",
       "<tr>\n",
       "  <th>job_entrepreneur</th>                <td>   -0.2347</td> <td>    0.132</td> <td>   -1.776</td> <td> 0.076</td> <td>   -0.494</td> <td>    0.024</td>\n",
       "</tr>\n",
       "<tr>\n",
       "  <th>job_housemaid</th>                   <td>    0.0296</td> <td>    0.148</td> <td>    0.201</td> <td> 0.841</td> <td>   -0.260</td> <td>    0.319</td>\n",
       "</tr>\n",
       "<tr>\n",
       "  <th>job_management</th>                  <td>   -0.1551</td> <td>    0.092</td> <td>   -1.690</td> <td> 0.091</td> <td>   -0.335</td> <td>    0.025</td>\n",
       "</tr>\n",
       "<tr>\n",
       "  <th>job_retired</th>                     <td>    0.2281</td> <td>    0.110</td> <td>    2.071</td> <td> 0.038</td> <td>    0.012</td> <td>    0.444</td>\n",
       "</tr>\n",
       "<tr>\n",
       "  <th>job_self-employed</th>               <td>   -0.0586</td> <td>    0.121</td> <td>   -0.483</td> <td> 0.629</td> <td>   -0.297</td> <td>    0.179</td>\n",
       "</tr>\n",
       "<tr>\n",
       "  <th>job_services</th>                    <td>   -0.0573</td> <td>    0.088</td> <td>   -0.649</td> <td> 0.516</td> <td>   -0.230</td> <td>    0.116</td>\n",
       "</tr>\n",
       "<tr>\n",
       "  <th>job_student</th>                     <td>    0.2777</td> <td>    0.120</td> <td>    2.324</td> <td> 0.020</td> <td>    0.043</td> <td>    0.512</td>\n",
       "</tr>\n",
       "<tr>\n",
       "  <th>job_technician</th>                  <td>   -0.0158</td> <td>    0.075</td> <td>   -0.211</td> <td> 0.833</td> <td>   -0.162</td> <td>    0.131</td>\n",
       "</tr>\n",
       "<tr>\n",
       "  <th>job_unemployed</th>                  <td>   -0.0249</td> <td>    0.134</td> <td>   -0.186</td> <td> 0.853</td> <td>   -0.288</td> <td>    0.238</td>\n",
       "</tr>\n",
       "<tr>\n",
       "  <th>job_unknown</th>                     <td>   -0.0977</td> <td>    0.241</td> <td>   -0.406</td> <td> 0.685</td> <td>   -0.569</td> <td>    0.374</td>\n",
       "</tr>\n",
       "<tr>\n",
       "  <th>marital_married</th>                 <td>    0.0546</td> <td>    0.072</td> <td>    0.761</td> <td> 0.446</td> <td>   -0.086</td> <td>    0.195</td>\n",
       "</tr>\n",
       "<tr>\n",
       "  <th>marital_single</th>                  <td>    0.1182</td> <td>    0.082</td> <td>    1.444</td> <td> 0.149</td> <td>   -0.042</td> <td>    0.279</td>\n",
       "</tr>\n",
       "<tr>\n",
       "  <th>education_Secondary_Education</th>   <td>    0.0322</td> <td>    0.072</td> <td>    0.447</td> <td> 0.655</td> <td>   -0.109</td> <td>    0.174</td>\n",
       "</tr>\n",
       "<tr>\n",
       "  <th>education_Tertiary_Education</th>    <td>    0.1214</td> <td>    0.073</td> <td>    1.663</td> <td> 0.096</td> <td>   -0.022</td> <td>    0.265</td>\n",
       "</tr>\n",
       "<tr>\n",
       "  <th>education_professional.course</th>   <td>    0.0775</td> <td>    0.086</td> <td>    0.902</td> <td> 0.367</td> <td>   -0.091</td> <td>    0.246</td>\n",
       "</tr>\n",
       "<tr>\n",
       "  <th>education_unknown</th>               <td>    0.1810</td> <td>    0.109</td> <td>    1.663</td> <td> 0.096</td> <td>   -0.032</td> <td>    0.394</td>\n",
       "</tr>\n",
       "<tr>\n",
       "  <th>default_unknown</th>                 <td>   -0.2785</td> <td>    0.070</td> <td>   -4.003</td> <td> 0.000</td> <td>   -0.415</td> <td>   -0.142</td>\n",
       "</tr>\n",
       "<tr>\n",
       "  <th>default_yes</th>                     <td>  -17.5533</td> <td> 1.25e+04</td> <td>   -0.001</td> <td> 0.999</td> <td>-2.45e+04</td> <td> 2.45e+04</td>\n",
       "</tr>\n",
       "<tr>\n",
       "  <th>housing_unknown</th>                 <td>   -0.0493</td> <td>    0.071</td> <td>   -0.693</td> <td> 0.489</td> <td>   -0.189</td> <td>    0.090</td>\n",
       "</tr>\n",
       "<tr>\n",
       "  <th>housing_yes</th>                     <td>   -0.0349</td> <td>    0.043</td> <td>   -0.809</td> <td> 0.419</td> <td>   -0.120</td> <td>    0.050</td>\n",
       "</tr>\n",
       "<tr>\n",
       "  <th>loan_unknown</th>                    <td>   -0.0493</td> <td>    0.071</td> <td>   -0.693</td> <td> 0.489</td> <td>   -0.189</td> <td>    0.090</td>\n",
       "</tr>\n",
       "<tr>\n",
       "  <th>loan_yes</th>                        <td>    0.0121</td> <td>    0.059</td> <td>    0.203</td> <td> 0.839</td> <td>   -0.104</td> <td>    0.128</td>\n",
       "</tr>\n",
       "<tr>\n",
       "  <th>contact_telephone</th>               <td>   -0.6338</td> <td>    0.079</td> <td>   -8.055</td> <td> 0.000</td> <td>   -0.788</td> <td>   -0.480</td>\n",
       "</tr>\n",
       "<tr>\n",
       "  <th>month_aug</th>                       <td>    0.4285</td> <td>    0.128</td> <td>    3.346</td> <td> 0.001</td> <td>    0.178</td> <td>    0.679</td>\n",
       "</tr>\n",
       "<tr>\n",
       "  <th>month_dec</th>                       <td>    0.2895</td> <td>    0.226</td> <td>    1.282</td> <td> 0.200</td> <td>   -0.153</td> <td>    0.732</td>\n",
       "</tr>\n",
       "<tr>\n",
       "  <th>month_jul</th>                       <td>   -0.0148</td> <td>    0.100</td> <td>   -0.148</td> <td> 0.882</td> <td>   -0.211</td> <td>    0.181</td>\n",
       "</tr>\n",
       "<tr>\n",
       "  <th>month_jun</th>                       <td>   -0.6888</td> <td>    0.132</td> <td>   -5.235</td> <td> 0.000</td> <td>   -0.947</td> <td>   -0.431</td>\n",
       "</tr>\n",
       "<tr>\n",
       "  <th>month_mar</th>                       <td>    1.4622</td> <td>    0.155</td> <td>    9.461</td> <td> 0.000</td> <td>    1.159</td> <td>    1.765</td>\n",
       "</tr>\n",
       "<tr>\n",
       "  <th>month_may</th>                       <td>   -0.4262</td> <td>    0.086</td> <td>   -4.960</td> <td> 0.000</td> <td>   -0.595</td> <td>   -0.258</td>\n",
       "</tr>\n",
       "<tr>\n",
       "  <th>month_nov</th>                       <td>   -0.4562</td> <td>    0.125</td> <td>   -3.659</td> <td> 0.000</td> <td>   -0.701</td> <td>   -0.212</td>\n",
       "</tr>\n",
       "<tr>\n",
       "  <th>month_oct</th>                       <td>   -0.0248</td> <td>    0.160</td> <td>   -0.155</td> <td> 0.877</td> <td>   -0.338</td> <td>    0.288</td>\n",
       "</tr>\n",
       "<tr>\n",
       "  <th>month_sep</th>                       <td>    0.3571</td> <td>    0.189</td> <td>    1.893</td> <td> 0.058</td> <td>   -0.013</td> <td>    0.727</td>\n",
       "</tr>\n",
       "<tr>\n",
       "  <th>day_of_week_mon</th>                 <td>   -0.2045</td> <td>    0.070</td> <td>   -2.934</td> <td> 0.003</td> <td>   -0.341</td> <td>   -0.068</td>\n",
       "</tr>\n",
       "<tr>\n",
       "  <th>day_of_week_thu</th>                 <td>    0.1322</td> <td>    0.067</td> <td>    1.979</td> <td> 0.048</td> <td>    0.001</td> <td>    0.263</td>\n",
       "</tr>\n",
       "<tr>\n",
       "  <th>day_of_week_tue</th>                 <td>    0.0983</td> <td>    0.069</td> <td>    1.426</td> <td> 0.154</td> <td>   -0.037</td> <td>    0.233</td>\n",
       "</tr>\n",
       "<tr>\n",
       "  <th>day_of_week_wed</th>                 <td>    0.2016</td> <td>    0.068</td> <td>    2.962</td> <td> 0.003</td> <td>    0.068</td> <td>    0.335</td>\n",
       "</tr>\n",
       "<tr>\n",
       "  <th>pdays_Contacted_in_first_10days</th> <td>    0.0338</td> <td>    0.205</td> <td>    0.165</td> <td> 0.869</td> <td>   -0.367</td> <td>    0.435</td>\n",
       "</tr>\n",
       "<tr>\n",
       "  <th>pdays_First_time_contacted</th>      <td>   -0.9797</td> <td>    0.253</td> <td>   -3.878</td> <td> 0.000</td> <td>   -1.475</td> <td>   -0.485</td>\n",
       "</tr>\n",
       "<tr>\n",
       "  <th>previous_More than_3_times</th>      <td>   -0.2902</td> <td>    0.285</td> <td>   -1.020</td> <td> 0.308</td> <td>   -0.848</td> <td>    0.268</td>\n",
       "</tr>\n",
       "<tr>\n",
       "  <th>previous_Never contacted</th>        <td>    0.2489</td> <td>    0.034</td> <td>    7.352</td> <td> 0.000</td> <td>    0.183</td> <td>    0.315</td>\n",
       "</tr>\n",
       "<tr>\n",
       "  <th>poutcome_nonexistent</th>            <td>    0.2489</td> <td>    0.034</td> <td>    7.352</td> <td> 0.000</td> <td>    0.183</td> <td>    0.315</td>\n",
       "</tr>\n",
       "<tr>\n",
       "  <th>poutcome_success</th>                <td>    0.8247</td> <td>    0.227</td> <td>    3.626</td> <td> 0.000</td> <td>    0.379</td> <td>    1.270</td>\n",
       "</tr>\n",
       "<tr>\n",
       "  <th>age</th>                             <td>    0.0214</td> <td>    0.027</td> <td>    0.808</td> <td> 0.419</td> <td>   -0.031</td> <td>    0.073</td>\n",
       "</tr>\n",
       "<tr>\n",
       "  <th>campaign</th>                        <td>   -0.0913</td> <td>    0.027</td> <td>   -3.372</td> <td> 0.001</td> <td>   -0.144</td> <td>   -0.038</td>\n",
       "</tr>\n",
       "<tr>\n",
       "  <th>emp.var.rate</th>                    <td>   -2.4543</td> <td>    0.229</td> <td>  -10.699</td> <td> 0.000</td> <td>   -2.904</td> <td>   -2.005</td>\n",
       "</tr>\n",
       "<tr>\n",
       "  <th>cons.price.idx</th>                  <td>    1.2152</td> <td>    0.149</td> <td>    8.133</td> <td> 0.000</td> <td>    0.922</td> <td>    1.508</td>\n",
       "</tr>\n",
       "<tr>\n",
       "  <th>cons.conf.idx</th>                   <td>    0.1267</td> <td>    0.038</td> <td>    3.306</td> <td> 0.001</td> <td>    0.052</td> <td>    0.202</td>\n",
       "</tr>\n",
       "<tr>\n",
       "  <th>euribor3m</th>                       <td>    0.4217</td> <td>    0.235</td> <td>    1.792</td> <td> 0.073</td> <td>   -0.039</td> <td>    0.883</td>\n",
       "</tr>\n",
       "<tr>\n",
       "  <th>nr.employed</th>                     <td>    0.5140</td> <td>    0.231</td> <td>    2.222</td> <td> 0.026</td> <td>    0.061</td> <td>    0.967</td>\n",
       "</tr>\n",
       "</table>"
      ],
      "text/plain": [
       "<class 'statsmodels.iolib.summary.Summary'>\n",
       "\"\"\"\n",
       "                 Generalized Linear Model Regression Results                  \n",
       "==============================================================================\n",
       "Dep. Variable:               response   No. Observations:                28831\n",
       "Model:                            GLM   Df Residuals:                    28782\n",
       "Model Family:                Binomial   Df Model:                           48\n",
       "Link Function:                  logit   Scale:                          1.0000\n",
       "Method:                          IRLS   Log-Likelihood:                -7933.3\n",
       "Date:                Wed, 26 Aug 2020   Deviance:                       15867.\n",
       "Time:                        17:07:13   Pearson chi2:                 2.92e+04\n",
       "No. Iterations:                    19                                         \n",
       "Covariance Type:            nonrobust                                         \n",
       "===================================================================================================\n",
       "                                      coef    std err          z      P>|z|      [0.025      0.975]\n",
       "---------------------------------------------------------------------------------------------------\n",
       "const                              -1.6435      0.284     -5.777      0.000      -2.201      -1.086\n",
       "job_blue-collar                    -0.1547      0.083     -1.873      0.061      -0.317       0.007\n",
       "job_entrepreneur                   -0.2347      0.132     -1.776      0.076      -0.494       0.024\n",
       "job_housemaid                       0.0296      0.148      0.201      0.841      -0.260       0.319\n",
       "job_management                     -0.1551      0.092     -1.690      0.091      -0.335       0.025\n",
       "job_retired                         0.2281      0.110      2.071      0.038       0.012       0.444\n",
       "job_self-employed                  -0.0586      0.121     -0.483      0.629      -0.297       0.179\n",
       "job_services                       -0.0573      0.088     -0.649      0.516      -0.230       0.116\n",
       "job_student                         0.2777      0.120      2.324      0.020       0.043       0.512\n",
       "job_technician                     -0.0158      0.075     -0.211      0.833      -0.162       0.131\n",
       "job_unemployed                     -0.0249      0.134     -0.186      0.853      -0.288       0.238\n",
       "job_unknown                        -0.0977      0.241     -0.406      0.685      -0.569       0.374\n",
       "marital_married                     0.0546      0.072      0.761      0.446      -0.086       0.195\n",
       "marital_single                      0.1182      0.082      1.444      0.149      -0.042       0.279\n",
       "education_Secondary_Education       0.0322      0.072      0.447      0.655      -0.109       0.174\n",
       "education_Tertiary_Education        0.1214      0.073      1.663      0.096      -0.022       0.265\n",
       "education_professional.course       0.0775      0.086      0.902      0.367      -0.091       0.246\n",
       "education_unknown                   0.1810      0.109      1.663      0.096      -0.032       0.394\n",
       "default_unknown                    -0.2785      0.070     -4.003      0.000      -0.415      -0.142\n",
       "default_yes                       -17.5533   1.25e+04     -0.001      0.999   -2.45e+04    2.45e+04\n",
       "housing_unknown                    -0.0493      0.071     -0.693      0.489      -0.189       0.090\n",
       "housing_yes                        -0.0349      0.043     -0.809      0.419      -0.120       0.050\n",
       "loan_unknown                       -0.0493      0.071     -0.693      0.489      -0.189       0.090\n",
       "loan_yes                            0.0121      0.059      0.203      0.839      -0.104       0.128\n",
       "contact_telephone                  -0.6338      0.079     -8.055      0.000      -0.788      -0.480\n",
       "month_aug                           0.4285      0.128      3.346      0.001       0.178       0.679\n",
       "month_dec                           0.2895      0.226      1.282      0.200      -0.153       0.732\n",
       "month_jul                          -0.0148      0.100     -0.148      0.882      -0.211       0.181\n",
       "month_jun                          -0.6888      0.132     -5.235      0.000      -0.947      -0.431\n",
       "month_mar                           1.4622      0.155      9.461      0.000       1.159       1.765\n",
       "month_may                          -0.4262      0.086     -4.960      0.000      -0.595      -0.258\n",
       "month_nov                          -0.4562      0.125     -3.659      0.000      -0.701      -0.212\n",
       "month_oct                          -0.0248      0.160     -0.155      0.877      -0.338       0.288\n",
       "month_sep                           0.3571      0.189      1.893      0.058      -0.013       0.727\n",
       "day_of_week_mon                    -0.2045      0.070     -2.934      0.003      -0.341      -0.068\n",
       "day_of_week_thu                     0.1322      0.067      1.979      0.048       0.001       0.263\n",
       "day_of_week_tue                     0.0983      0.069      1.426      0.154      -0.037       0.233\n",
       "day_of_week_wed                     0.2016      0.068      2.962      0.003       0.068       0.335\n",
       "pdays_Contacted_in_first_10days     0.0338      0.205      0.165      0.869      -0.367       0.435\n",
       "pdays_First_time_contacted         -0.9797      0.253     -3.878      0.000      -1.475      -0.485\n",
       "previous_More than_3_times         -0.2902      0.285     -1.020      0.308      -0.848       0.268\n",
       "previous_Never contacted            0.2489      0.034      7.352      0.000       0.183       0.315\n",
       "poutcome_nonexistent                0.2489      0.034      7.352      0.000       0.183       0.315\n",
       "poutcome_success                    0.8247      0.227      3.626      0.000       0.379       1.270\n",
       "age                                 0.0214      0.027      0.808      0.419      -0.031       0.073\n",
       "campaign                           -0.0913      0.027     -3.372      0.001      -0.144      -0.038\n",
       "emp.var.rate                       -2.4543      0.229    -10.699      0.000      -2.904      -2.005\n",
       "cons.price.idx                      1.2152      0.149      8.133      0.000       0.922       1.508\n",
       "cons.conf.idx                       0.1267      0.038      3.306      0.001       0.052       0.202\n",
       "euribor3m                           0.4217      0.235      1.792      0.073      -0.039       0.883\n",
       "nr.employed                         0.5140      0.231      2.222      0.026       0.061       0.967\n",
       "===================================================================================================\n",
       "\"\"\""
      ]
     },
     "execution_count": 264,
     "metadata": {},
     "output_type": "execute_result"
    }
   ],
   "source": [
    "# Logistic regression model\n",
    "logm1 = sm.GLM(y_train,(sm.add_constant(X_train)), family = sm.families.Binomial())\n",
    "logm1.fit().summary()"
   ]
  },
  {
   "cell_type": "code",
   "execution_count": 299,
   "metadata": {},
   "outputs": [],
   "source": [
    "# import all libraries\n",
    "from sklearn.pipeline import Pipeline\n",
    "from sklearn.decomposition import PCA\n",
    "from sklearn.metrics import confusion_matrix\n",
    "from imblearn.metrics import sensitivity_specificity_support\n",
    "from sklearn.metrics import roc_auc_score\n",
    "from sklearn.model_selection import StratifiedKFold\n",
    "from sklearn.model_selection import GridSearchCV\n",
    "from sklearn.ensemble import RandomForestClassifier"
   ]
  },
  {
   "cell_type": "markdown",
   "metadata": {},
   "source": [
    "### Applying PCA"
   ]
  },
  {
   "cell_type": "code",
   "execution_count": 300,
   "metadata": {},
   "outputs": [
    {
     "data": {
      "text/plain": [
       "(28831, 17)"
      ]
     },
     "execution_count": 300,
     "metadata": {},
     "output_type": "execute_result"
    }
   ],
   "source": [
    "#taking pca percentage as 0.9\n",
    "pca = PCA(0.9)\n",
    "churn_pca = pca.fit_transform(X_train)\n",
    "churn_pca.shape"
   ]
  },
  {
   "cell_type": "code",
   "execution_count": 301,
   "metadata": {},
   "outputs": [
    {
     "data": {
      "text/plain": [
       "array([[-1.36741320e-02, -6.94924264e-04, -3.48588045e-03,\n",
       "         1.49775776e-03,  9.70146450e-03, -1.61299440e-04,\n",
       "        -2.37851539e-03,  1.07294828e-02, -8.67903313e-03,\n",
       "         8.06471185e-04, -5.72415775e-04, -2.57020839e-02,\n",
       "         2.79711514e-02,  4.28021161e-03,  1.29295366e-02,\n",
       "        -3.34355622e-03, -4.34648353e-04, -4.61220828e-02,\n",
       "        -9.08165171e-06, -6.90114095e-04,  1.96886771e-02,\n",
       "        -6.90114095e-04,  8.47367092e-04, -1.18670538e-01,\n",
       "        -2.39240771e-02,  3.88154955e-03, -5.86754521e-02,\n",
       "        -4.05432705e-02,  9.44368314e-03,  3.17685176e-02,\n",
       "         1.32206936e-02,  1.33262873e-02,  1.06239567e-02,\n",
       "         3.38635126e-03,  3.18239175e-03, -3.18428936e-03,\n",
       "        -5.25997525e-03,  2.50869636e-02, -2.88558973e-02,\n",
       "         1.50163483e-03, -9.19331431e-02, -9.19331431e-02,\n",
       "         2.60004018e-02, -1.72910749e-02, -1.12107292e-01,\n",
       "        -5.15064213e-01, -4.11821914e-01, -1.29824382e-01,\n",
       "        -5.12767548e-01, -4.76850776e-01],\n",
       "       [-2.90476003e-02,  1.54950448e-03,  1.15320221e-02,\n",
       "         1.44499844e-02,  6.69120779e-02,  1.15628993e-03,\n",
       "        -2.58136048e-02, -1.73579051e-02, -5.55094273e-03,\n",
       "         1.36296964e-03,  4.07432831e-03,  1.47089469e-01,\n",
       "        -1.70484012e-01, -5.01291950e-02,  2.25200887e-03,\n",
       "         7.77080486e-03,  1.24319082e-02,  4.41765302e-02,\n",
       "         2.34743276e-05,  4.12488186e-04, -5.39255479e-03,\n",
       "         4.12488186e-04, -6.05289564e-03,  3.07020553e-02,\n",
       "         1.07081881e-01,  6.42992580e-03, -8.06836814e-02,\n",
       "        -3.75095830e-02, -1.19611524e-03, -1.11439866e-02,\n",
       "         9.81278631e-03,  1.89112795e-02,  1.59360347e-02,\n",
       "        -6.25497894e-03, -1.29932762e-02,  2.10085192e-02,\n",
       "        -7.01827518e-04,  1.95540532e-02, -1.99361702e-02,\n",
       "         6.34737590e-05, -8.50869474e-03, -8.50869474e-03,\n",
       "         1.83517719e-02,  7.12408607e-01, -1.64863483e-01,\n",
       "        -3.03587634e-02, -1.07744028e-01,  6.01471530e-01,\n",
       "         2.88590240e-02, -7.01185412e-02],\n",
       "       [ 2.16271248e-02,  5.02101532e-03,  6.69433978e-03,\n",
       "         5.65938882e-03,  3.52569647e-02,  4.60152675e-04,\n",
       "        -2.98583339e-03, -1.73796838e-02, -2.77123654e-02,\n",
       "        -3.85242706e-05,  1.60456003e-03,  8.81311615e-02,\n",
       "        -1.12282563e-01, -1.64715251e-02, -4.10396785e-02,\n",
       "        -4.54120417e-03,  7.99301917e-03,  4.63223636e-02,\n",
       "        -3.93368058e-05, -2.45394095e-04,  4.88059426e-03,\n",
       "        -2.45394095e-04,  1.71792376e-03, -2.17955143e-02,\n",
       "        -5.96534861e-02, -5.37363998e-04,  4.25615286e-02,\n",
       "         3.00984203e-02,  2.53852059e-03, -1.55256263e-02,\n",
       "        -1.54045537e-02, -7.40593250e-03, -5.34184419e-03,\n",
       "         2.36134895e-02,  2.51799577e-03, -1.69236785e-02,\n",
       "        -1.81537490e-02, -6.19415589e-03,  6.92263518e-03,\n",
       "         1.50884410e-05, -6.23874832e-03, -6.23874832e-03,\n",
       "        -5.87122819e-03,  4.52029884e-01,  7.89609601e-01,\n",
       "        -3.96810826e-02,  4.29887302e-02, -3.53330273e-01,\n",
       "        -8.42096673e-02, -2.54903663e-02],\n",
       "       [-6.20458210e-02, -9.98928416e-03, -4.43385698e-03,\n",
       "        -6.94508297e-03, -2.51365416e-02,  1.89475328e-03,\n",
       "        -8.96244466e-03,  2.02388951e-02,  3.85213995e-02,\n",
       "         2.43153107e-03,  3.38553501e-04, -1.03521386e-01,\n",
       "         1.28568093e-01,  1.13751865e-03,  7.97542798e-02,\n",
       "         1.15917616e-02, -4.19545262e-03, -5.68561081e-02,\n",
       "        -1.44711819e-06, -1.30202395e-04, -5.33787308e-03,\n",
       "        -1.30202395e-04,  5.28468228e-04,  2.23832442e-02,\n",
       "         1.31869749e-01,  4.99536073e-03, -6.39002972e-02,\n",
       "        -4.76339804e-02, -3.15437184e-04,  1.44644690e-02,\n",
       "        -1.91290852e-02,  1.41959918e-02,  1.31655716e-02,\n",
       "        -1.15911910e-02, -4.40044531e-03,  5.92706358e-03,\n",
       "         6.29632655e-03,  1.68141699e-02, -1.77275718e-02,\n",
       "        -2.33053873e-04,  1.32439962e-03,  1.32439962e-03,\n",
       "         1.56774729e-02, -4.06981393e-01,  5.78017681e-01,\n",
       "        -4.78780315e-02, -1.78474041e-01,  6.25757889e-01,\n",
       "         5.98661453e-03, -6.75304015e-02],\n",
       "       [ 4.29075601e-02, -4.58501050e-03, -1.18604355e-04,\n",
       "        -1.42695905e-02,  1.06064243e-02, -5.53703217e-03,\n",
       "         1.91668038e-02,  1.72598070e-02, -4.96432980e-02,\n",
       "         3.98949856e-03,  2.38123912e-03, -1.28880529e-02,\n",
       "         1.75509635e-02,  4.07315438e-02, -8.29541057e-02,\n",
       "        -1.76348521e-02,  1.31217425e-02,  1.83202011e-02,\n",
       "        -9.91419249e-05,  5.41008549e-03, -6.36814234e-02,\n",
       "         5.41008549e-03, -7.86391653e-03,  3.65696401e-01,\n",
       "        -1.91374042e-01,  2.10565971e-03, -7.98565221e-02,\n",
       "         1.60991712e-01,  5.06518950e-03,  1.77431624e-01,\n",
       "        -1.16226808e-01,  2.58740374e-02,  2.79506418e-02,\n",
       "         4.07597160e-03, -2.40479017e-02, -1.01608782e-04,\n",
       "         1.55009321e-03,  5.13783042e-02, -5.99622952e-02,\n",
       "         7.34324314e-03, -6.37628302e-02, -6.37628302e-02,\n",
       "         5.31808175e-02, -3.75180754e-02,  7.36451172e-03,\n",
       "        -4.76711993e-02,  6.80608338e-01,  1.44448883e-01,\n",
       "        -1.63247616e-01, -4.46298767e-01],\n",
       "       [-3.10360323e-01,  7.71057812e-04,  1.94314289e-03,\n",
       "         3.51394107e-02,  4.82364066e-02,  1.31235459e-02,\n",
       "        -4.93356438e-02,  2.07109491e-02,  9.12561316e-02,\n",
       "         3.55841520e-03,  1.25697115e-03, -4.58155489e-01,\n",
       "         3.66069722e-01, -8.67189297e-02,  3.25261947e-01,\n",
       "         2.00898697e-02,  2.77934800e-05, -1.42719618e-01,\n",
       "        -2.98806861e-05,  6.77748158e-04,  3.57936211e-02,\n",
       "         6.77748158e-04,  6.90561305e-04, -2.01105217e-01,\n",
       "         7.81118964e-02,  3.41079643e-03,  1.62118683e-01,\n",
       "         8.12513135e-02,  1.56385301e-02, -4.40737088e-01,\n",
       "         2.96018550e-02,  2.19032707e-02,  2.17810295e-02,\n",
       "         1.74792582e-02,  3.48606834e-02, -4.54440008e-03,\n",
       "        -3.05787712e-02,  6.19659954e-02, -7.03182321e-02,\n",
       "         6.94139432e-03, -8.33959953e-02, -8.33959953e-02,\n",
       "         6.36000152e-02,  2.02623857e-01, -2.17286498e-02,\n",
       "         3.74180374e-02,  2.27147326e-01, -1.18193888e-02,\n",
       "        -2.34679502e-02, -9.59461758e-02],\n",
       "       [-3.63857891e-02,  1.67061491e-02,  2.94476050e-04,\n",
       "         6.54359941e-02, -2.99406625e-02,  1.88974615e-02,\n",
       "        -9.29594883e-02, -1.12177805e-02,  3.18633686e-02,\n",
       "         8.34295458e-03, -1.78452146e-03,  5.58297665e-01,\n",
       "        -4.29616549e-01, -2.35221313e-01,  2.69638795e-01,\n",
       "         1.33406463e-02, -1.13114001e-02, -8.72327723e-02,\n",
       "         8.45507860e-05, -2.37114445e-03,  4.87949150e-02,\n",
       "        -2.37114445e-03,  6.30974688e-03, -1.67315901e-01,\n",
       "         9.05725513e-02,  2.98462076e-03,  7.26398006e-02,\n",
       "         1.07420448e-01,  7.57420463e-03, -3.88566021e-01,\n",
       "         3.67687964e-02,  1.72146255e-02,  2.20728267e-02,\n",
       "         2.14836936e-02,  5.86912825e-02, -4.07907221e-02,\n",
       "        -2.36488298e-02,  6.76584994e-02, -7.67088449e-02,\n",
       "         6.37409833e-03, -1.15607756e-01, -1.15607756e-01,\n",
       "         6.96035759e-02, -2.36125815e-01,  5.99297310e-03,\n",
       "         3.91356350e-03,  1.67261081e-01,  1.94253148e-02,\n",
       "        -3.96399684e-02, -9.06660653e-02],\n",
       "       [ 6.39400500e-03, -2.29104549e-02,  9.32729761e-03,\n",
       "        -1.25777863e-01,  2.21958217e-02, -3.66320384e-02,\n",
       "         1.80287754e-01,  2.37661629e-02,  2.90868833e-02,\n",
       "         6.64498580e-03,  6.47285102e-04,  4.29301315e-02,\n",
       "        -3.99177660e-02,  5.12006653e-01, -5.95959452e-01,\n",
       "         8.02777965e-02,  1.42183355e-02,  5.71732311e-03,\n",
       "         1.64179348e-04, -1.40257293e-02,  2.08242998e-01,\n",
       "        -1.40257293e-02,  1.66495965e-02, -2.32687736e-01,\n",
       "         6.34098442e-02,  3.88648525e-03,  2.14716288e-01,\n",
       "        -1.42643607e-02,  1.67306258e-04, -3.14316705e-01,\n",
       "         1.22775458e-03,  2.04771346e-02,  1.98186338e-02,\n",
       "         1.63594412e-02,  4.53031699e-03,  1.32289112e-02,\n",
       "        -1.66351146e-02,  6.56828314e-02, -7.53907030e-02,\n",
       "         5.21606698e-03, -1.38624261e-01, -1.38624261e-01,\n",
       "         6.79488597e-02, -3.45788928e-02,  8.43606324e-03,\n",
       "         3.02715845e-02,  6.89170292e-02,  9.52367973e-02,\n",
       "        -4.89166836e-03, -4.82330327e-02],\n",
       "       [-4.08120555e-02, -3.58801886e-03,  3.68090303e-03,\n",
       "        -4.99014708e-03,  6.93420741e-03,  9.10771667e-04,\n",
       "         4.97187255e-02,  4.09613795e-03, -2.15241560e-02,\n",
       "        -1.94058017e-03, -1.20420895e-03,  2.62879619e-02,\n",
       "        -2.69062029e-02,  1.36290186e-01, -7.77376297e-02,\n",
       "        -2.08389036e-02,  2.23351104e-04, -2.84136919e-02,\n",
       "         7.75291294e-05,  6.00853941e-02, -9.56653484e-01,\n",
       "         6.00853941e-02, -8.90009283e-02, -6.75319154e-02,\n",
       "         1.73367542e-02,  4.48918411e-04,  4.27064019e-02,\n",
       "         4.34789590e-02,  1.31578134e-03, -1.34752923e-01,\n",
       "         1.87510285e-02,  5.29301256e-03,  9.08784954e-04,\n",
       "        -4.54893444e-02, -4.13528965e-03,  5.55606965e-02,\n",
       "        -1.32803395e-02,  1.22259642e-02, -1.37503994e-02,\n",
       "        -1.87745875e-04, -3.53411133e-02, -3.53411133e-02,\n",
       "         1.18806517e-02, -9.80387903e-03,  1.94071976e-03,\n",
       "        -2.26422047e-02, -2.87966821e-02,  1.12108521e-04,\n",
       "        -3.76863562e-03,  2.78379223e-02],\n",
       "       [ 4.67194754e-01, -3.49271162e-02, -8.07913660e-03,\n",
       "        -1.13829923e-01, -4.54133167e-03, -2.27126769e-02,\n",
       "        -2.34309457e-01,  1.98983044e-03,  2.27083820e-01,\n",
       "        -1.24773985e-02,  9.31592521e-04, -1.08580208e-01,\n",
       "         1.18594960e-01, -4.78893273e-01, -2.66465300e-01,\n",
       "         2.98200629e-01,  4.93525229e-02,  1.81960762e-01,\n",
       "         7.80683295e-06,  6.35082904e-03, -6.61157696e-02,\n",
       "         6.35082904e-03, -2.45696866e-02, -1.15466042e-01,\n",
       "         4.89780638e-02, -2.40717838e-04,  1.02768891e-01,\n",
       "        -6.49353920e-02,  1.93084769e-03, -3.89064559e-02,\n",
       "        -5.95817482e-02,  5.23835755e-03,  7.71758065e-03,\n",
       "        -2.81011591e-01,  2.51433344e-01,  1.12064660e-02,\n",
       "         3.96498093e-02,  3.74465027e-02, -4.47931330e-02,\n",
       "         2.71176637e-03, -8.39995894e-02, -8.39995894e-02,\n",
       "         4.16238698e-02,  1.21513235e-03,  3.85971030e-03,\n",
       "         4.43154848e-02,  2.88902791e-02,  2.58458839e-02,\n",
       "        -1.95797091e-02, -4.38822504e-02],\n",
       "       [-4.39023353e-01,  3.58554126e-03, -4.50292320e-03,\n",
       "        -3.56261462e-02, -3.96724633e-03, -4.85289312e-03,\n",
       "         2.75768103e-02, -1.86562231e-02,  5.82733829e-01,\n",
       "         7.10420132e-04, -3.04809940e-03,  7.71925638e-02,\n",
       "        -8.78002015e-02,  1.81725217e-02, -1.25027348e-01,\n",
       "         4.79058697e-01, -2.69958091e-02, -2.09875677e-01,\n",
       "         1.42733974e-04,  1.60761605e-03, -2.15485100e-02,\n",
       "         1.60761605e-03, -9.37802852e-03,  1.17522008e-01,\n",
       "         3.49132752e-02, -2.46419160e-03, -1.77193528e-01,\n",
       "         3.63717834e-02,  4.47202479e-03,  1.25581209e-01,\n",
       "        -2.65321676e-02, -8.02747726e-03, -7.19416067e-03,\n",
       "         3.01132599e-02,  1.63873308e-01, -2.10672805e-02,\n",
       "        -1.81496409e-01, -4.68683995e-02,  5.06392319e-02,\n",
       "        -2.08958509e-03,  1.05960921e-01,  1.05960921e-01,\n",
       "        -4.65263294e-02,  6.08615056e-03, -7.21052353e-03,\n",
       "         5.17176519e-04,  3.74424747e-04, -7.29021129e-02,\n",
       "        -2.12043392e-02, -2.42747401e-03],\n",
       "       [ 1.61573176e-01, -1.70855505e-02, -2.99179623e-04,\n",
       "        -4.49537277e-02, -3.58216322e-03, -1.13333075e-02,\n",
       "        -1.08173513e-01,  3.68598916e-04,  1.47923334e-01,\n",
       "        -9.84177534e-03, -5.24955258e-04, -3.04986724e-02,\n",
       "         3.65818727e-02, -1.95774604e-01, -1.17098554e-01,\n",
       "         1.69585327e-01,  1.31489757e-02,  5.14456376e-02,\n",
       "         1.25199992e-05,  3.98953085e-03, -5.26027913e-02,\n",
       "         3.98953085e-03, -1.26331327e-02, -4.75313313e-02,\n",
       "         4.63753468e-02,  6.85762735e-04,  1.88049617e-02,\n",
       "         4.28505902e-02,  6.56983963e-03, -8.02422828e-02,\n",
       "        -4.29714354e-02,  2.50616643e-03,  1.02661763e-03,\n",
       "         6.40450854e-01, -6.46204479e-01,  1.47239018e-02,\n",
       "        -5.81091879e-04, -6.40464658e-03,  7.18641556e-03,\n",
       "         1.87591211e-04,  4.78255022e-02,  4.78255022e-02,\n",
       "        -7.42554100e-03, -1.70716310e-02, -9.95182645e-03,\n",
       "        -8.70272273e-03,  7.01390586e-03,  1.18477246e-02,\n",
       "        -2.18594138e-02, -1.21577297e-02],\n",
       "       [-1.57611454e-01,  4.31407828e-03,  3.45859044e-03,\n",
       "         1.57865629e-02,  5.12338008e-03, -2.98842142e-03,\n",
       "         2.39684892e-03, -1.14182775e-02,  1.41879948e-01,\n",
       "        -1.55796446e-03, -2.25497566e-03,  2.95621118e-02,\n",
       "        -4.37146199e-02,  5.17949504e-03,  2.13444217e-02,\n",
       "         1.08507213e-01, -2.00909654e-02, -1.25691584e-01,\n",
       "         1.63429859e-04,  4.20986943e-04,  2.50557795e-02,\n",
       "         4.20986943e-04, -6.55393936e-03, -9.26370292e-04,\n",
       "        -1.42296342e-02, -3.14420044e-03, -2.80277209e-02,\n",
       "        -4.70524934e-02, -3.49619932e-03,  1.02924821e-01,\n",
       "         4.72442559e-02, -5.76398512e-03, -2.83986047e-03,\n",
       "        -4.05321110e-01, -4.49850970e-01,  1.79932827e-01,\n",
       "         6.65072189e-01,  4.31327085e-02, -4.92573024e-02,\n",
       "         3.77762993e-03, -1.61417158e-01, -1.61417158e-01,\n",
       "         4.54904436e-02,  1.22576110e-02,  1.84643873e-02,\n",
       "         3.68034897e-02, -2.19385187e-03, -5.73654094e-02,\n",
       "         3.64463064e-02,  1.62839007e-02],\n",
       "       [-1.20218668e-02,  1.53040941e-03,  2.65575271e-03,\n",
       "         1.11976042e-02, -6.21554689e-03,  8.61621963e-04,\n",
       "        -2.97347538e-03, -3.13906258e-05, -1.21035113e-02,\n",
       "         1.45894047e-03,  1.88475034e-03,  1.96958301e-02,\n",
       "        -1.47666106e-02, -2.99226858e-02,  4.14964066e-02,\n",
       "        -1.14637461e-02,  4.50685442e-03,  2.65310618e-02,\n",
       "         2.86167904e-04, -1.22042728e-03,  5.45241027e-02,\n",
       "        -1.22042728e-03,  3.45386543e-03, -2.26873597e-02,\n",
       "        -2.40562215e-02, -2.55832316e-03,  5.74318213e-02,\n",
       "        -4.24948105e-02,  5.42000326e-03,  4.34541449e-02,\n",
       "        -1.04381957e-02, -2.02017788e-03, -9.48731096e-04,\n",
       "        -1.76160231e-01, -1.78426988e-01,  8.29458749e-01,\n",
       "        -4.79122447e-01,  7.68825436e-03, -9.98595043e-03,\n",
       "        -4.92564131e-04, -3.50304247e-02, -3.50304247e-02,\n",
       "         9.28877562e-03, -1.79015859e-02,  8.67270800e-03,\n",
       "         1.43815892e-02,  6.53211884e-03, -1.52348146e-02,\n",
       "         9.45356969e-03, -1.10782956e-02],\n",
       "       [-8.35441136e-02,  7.25166481e-03, -9.87015096e-04,\n",
       "         2.96336546e-02, -2.70809795e-02,  1.84358292e-03,\n",
       "         1.84773411e-02, -1.13600382e-02,  4.78498263e-02,\n",
       "        -3.18153084e-03, -5.27352757e-04, -1.89930373e-02,\n",
       "         2.65173070e-03, -5.00882873e-03,  8.93684082e-02,\n",
       "        -6.75817545e-04, -1.04055296e-02,  4.69163878e-02,\n",
       "         1.20815303e-04, -3.65434194e-03, -4.29803012e-02,\n",
       "        -3.65434194e-03,  1.83323338e-02, -3.41585542e-02,\n",
       "        -8.61294455e-03, -2.52646462e-03, -2.97120920e-02,\n",
       "        -2.48621362e-01, -1.30956363e-02,  3.63250529e-01,\n",
       "         3.84711282e-02, -2.58176145e-02, -1.35174192e-02,\n",
       "         2.45065345e-01,  6.30800608e-02, -1.25967653e-01,\n",
       "        -1.81115233e-01,  1.37551127e-01, -1.56785705e-01,\n",
       "         7.86692789e-03, -5.27777182e-01, -5.27777182e-01,\n",
       "         1.45143881e-01,  1.25979051e-02,  4.83754727e-03,\n",
       "         1.53502747e-01, -4.81332928e-02, -4.21858698e-02,\n",
       "         1.07292764e-01,  5.91528385e-02],\n",
       "       [-1.15353444e-01, -2.98471621e-03,  8.22625427e-03,\n",
       "         7.37038133e-03,  1.94200675e-02,  6.80480508e-04,\n",
       "         1.41855807e-02, -1.88625868e-03,  1.83514668e-02,\n",
       "        -8.79379338e-03,  3.71748361e-04,  7.16940425e-02,\n",
       "        -6.09655462e-02,  2.54307772e-03,  9.63833904e-02,\n",
       "        -1.05471508e-02, -2.62902464e-03, -3.60069090e-02,\n",
       "        -1.80498913e-04, -4.77729887e-03, -6.07307699e-02,\n",
       "        -4.77729887e-03,  3.95186540e-02, -2.96569455e-01,\n",
       "        -2.02008340e-02, -1.14091306e-03,  5.09579681e-01,\n",
       "        -5.05541919e-01,  4.24945928e-03,  2.76515162e-01,\n",
       "        -2.77804812e-01,  1.64755084e-02,  2.62944081e-02,\n",
       "         3.22579651e-02,  6.00139990e-04, -3.88897387e-02,\n",
       "         5.78985867e-02, -3.12717523e-02,  3.07951551e-02,\n",
       "         2.03072637e-03,  2.06598103e-01,  2.06598103e-01,\n",
       "        -2.97684521e-02, -4.38438088e-03, -1.29731692e-02,\n",
       "         1.74532682e-01,  1.03557191e-01,  3.69606989e-02,\n",
       "        -4.79510739e-02, -2.51699011e-01],\n",
       "       [-2.64286631e-01, -7.45770585e-03,  1.03171716e-02,\n",
       "        -1.28341340e-02, -2.09033216e-02,  9.45865229e-03,\n",
       "         1.09861606e-01,  2.12488575e-02,  1.16824360e-01,\n",
       "         7.34697772e-03,  1.09822491e-02,  3.56347026e-02,\n",
       "         2.09979494e-02,  5.72216147e-02,  1.08355165e-01,\n",
       "        -8.43521356e-03,  2.69629918e-03,  8.77546387e-01,\n",
       "        -6.51559127e-05,  5.67437904e-04, -6.37133389e-03,\n",
       "         5.67437904e-04,  1.86886951e-02, -6.42620123e-02,\n",
       "         2.02854378e-01, -3.65960256e-03, -1.02267516e-01,\n",
       "         8.64028710e-02,  1.25663193e-03, -2.62789059e-02,\n",
       "        -1.75463351e-01, -9.68922010e-03, -4.16157787e-03,\n",
       "        -4.45651390e-02, -2.73643700e-02,  1.43215547e-03,\n",
       "         6.22550234e-02, -2.99277537e-03,  2.02590787e-03,\n",
       "         1.10055113e-03,  1.43373797e-02,  1.43373797e-02,\n",
       "        -2.30269442e-03, -5.57410387e-02, -1.13961389e-02,\n",
       "         3.16144920e-02,  1.76616633e-02, -3.62251340e-02,\n",
       "        -8.63485045e-02, -2.24849903e-02]])"
      ]
     },
     "execution_count": 301,
     "metadata": {},
     "output_type": "execute_result"
    }
   ],
   "source": [
    "#components of PCA\n",
    "pca.components_"
   ]
  },
  {
   "cell_type": "code",
   "execution_count": 302,
   "metadata": {},
   "outputs": [
    {
     "data": {
      "text/plain": [
       "array([0.32800422, 0.10789365, 0.08841997, 0.08158981, 0.05749251,\n",
       "       0.03310501, 0.02586986, 0.02353777, 0.02228689, 0.01945865,\n",
       "       0.01886917, 0.01842527, 0.0181468 , 0.0175634 , 0.01637988,\n",
       "       0.01479238, 0.01258128])"
      ]
     },
     "execution_count": 302,
     "metadata": {},
     "output_type": "execute_result"
    }
   ],
   "source": [
    "#explained variance ratio\n",
    "pca.explained_variance_ratio_"
   ]
  },
  {
   "cell_type": "code",
   "execution_count": 303,
   "metadata": {},
   "outputs": [
    {
     "data": {
      "text/plain": [
       "Text(0, 0.5, 'Cumulative_variance')"
      ]
     },
     "execution_count": 303,
     "metadata": {},
     "output_type": "execute_result"
    },
    {
     "data": {
      "image/png": "[encoded data removed]",
      "text/plain": [
       "<Figure size 1080x576 with 1 Axes>"
      ]
     },
     "metadata": {
      "needs_background": "light"
     },
     "output_type": "display_data"
    }
   ],
   "source": [
    "#plot depicting number_of_components v/s cumulative_cariance\n",
    "%matplotlib inline\n",
    "fig = plt.figure(figsize=(15,8))\n",
    "plt.plot(np.cumsum(pca.explained_variance_ratio_))\n",
    "plt.xlabel('Number_of_components')\n",
    "plt.ylabel('Cumulative_variance')"
   ]
  },
  {
   "cell_type": "markdown",
   "metadata": {},
   "source": [
    "### Thus we see 17 variable explain 90% variance in the data\n"
   ]
  },
  {
   "cell_type": "code",
   "execution_count": 304,
   "metadata": {},
   "outputs": [],
   "source": [
    "#fit and transform the train data\n",
    "churn_pca = pca.fit_transform(X_train)"
   ]
  },
  {
   "cell_type": "code",
   "execution_count": 305,
   "metadata": {},
   "outputs": [
    {
     "data": {
      "text/plain": [
       "(28831, 17)"
      ]
     },
     "execution_count": 305,
     "metadata": {},
     "output_type": "execute_result"
    }
   ],
   "source": [
    "churn_pca.shape"
   ]
  },
  {
   "cell_type": "markdown",
   "metadata": {},
   "source": [
    "## Model : Logistic Regression with PCA\n"
   ]
  },
  {
   "cell_type": "code",
   "execution_count": 306,
   "metadata": {},
   "outputs": [],
   "source": [
    "#creating instance of logistic regression\n",
    "learner_pca = LogisticRegression(class_weight='balanced')\n",
    "model_pca = learner_pca.fit(churn_pca,y_train)"
   ]
  },
  {
   "cell_type": "code",
   "execution_count": 307,
   "metadata": {},
   "outputs": [],
   "source": [
    "#transforming the test data\n",
    "df_test = pca.transform(X_test)"
   ]
  },
  {
   "cell_type": "code",
   "execution_count": 308,
   "metadata": {},
   "outputs": [
    {
     "data": {
      "text/plain": [
       "'0.78'"
      ]
     },
     "execution_count": 308,
     "metadata": {},
     "output_type": "execute_result"
    }
   ],
   "source": [
    "#predicting the model\n",
    "pred_probs_test = model_pca.predict_proba(df_test)[:,1]\n",
    "\"{:2.2}\".format(metrics.roc_auc_score(y_test, pred_probs_test))"
   ]
  },
  {
   "cell_type": "code",
   "execution_count": 275,
   "metadata": {},
   "outputs": [],
   "source": [
    "#Making prediction on the test data\n",
    "pred_test = model_pca.predict_proba(df_test)\n",
    "y_pred_default = model_pca.predict(df_test)"
   ]
  },
  {
   "cell_type": "code",
   "execution_count": 276,
   "metadata": {},
   "outputs": [
    {
     "data": {
      "text/html": [
       "<div>\n",
       "<style scoped>\n",
       "    .dataframe tbody tr th:only-of-type {\n",
       "        vertical-align: middle;\n",
       "    }\n",
       "\n",
       "    .dataframe tbody tr th {\n",
       "        vertical-align: top;\n",
       "    }\n",
       "\n",
       "    .dataframe thead th {\n",
       "        text-align: right;\n",
       "    }\n",
       "</style>\n",
       "<table border=\"1\" class=\"dataframe\">\n",
       "  <thead>\n",
       "    <tr style=\"text-align: right;\">\n",
       "      <th></th>\n",
       "      <th>0</th>\n",
       "    </tr>\n",
       "  </thead>\n",
       "  <tbody>\n",
       "    <tr>\n",
       "      <th>0</th>\n",
       "      <td>0.501167</td>\n",
       "    </tr>\n",
       "    <tr>\n",
       "      <th>1</th>\n",
       "      <td>0.337884</td>\n",
       "    </tr>\n",
       "    <tr>\n",
       "      <th>2</th>\n",
       "      <td>0.287172</td>\n",
       "    </tr>\n",
       "    <tr>\n",
       "      <th>3</th>\n",
       "      <td>0.929434</td>\n",
       "    </tr>\n",
       "    <tr>\n",
       "      <th>4</th>\n",
       "      <td>0.204761</td>\n",
       "    </tr>\n",
       "  </tbody>\n",
       "</table>\n",
       "</div>"
      ],
      "text/plain": [
       "          0\n",
       "0  0.501167\n",
       "1  0.337884\n",
       "2  0.287172\n",
       "3  0.929434\n",
       "4  0.204761"
      ]
     },
     "execution_count": 276,
     "metadata": {},
     "output_type": "execute_result"
    }
   ],
   "source": [
    "# Converting y_pred to a dataframe which is an array\n",
    "y_pred_df = pd.DataFrame(pred_test[:,1])\n",
    "y_pred_df.head()"
   ]
  },
  {
   "cell_type": "code",
   "execution_count": 277,
   "metadata": {},
   "outputs": [
    {
     "data": {
      "text/html": [
       "<div>\n",
       "<style scoped>\n",
       "    .dataframe tbody tr th:only-of-type {\n",
       "        vertical-align: middle;\n",
       "    }\n",
       "\n",
       "    .dataframe tbody tr th {\n",
       "        vertical-align: top;\n",
       "    }\n",
       "\n",
       "    .dataframe thead th {\n",
       "        text-align: right;\n",
       "    }\n",
       "</style>\n",
       "<table border=\"1\" class=\"dataframe\">\n",
       "  <thead>\n",
       "    <tr style=\"text-align: right;\">\n",
       "      <th></th>\n",
       "      <th>response</th>\n",
       "    </tr>\n",
       "  </thead>\n",
       "  <tbody>\n",
       "    <tr>\n",
       "      <th>33148</th>\n",
       "      <td>0</td>\n",
       "    </tr>\n",
       "    <tr>\n",
       "      <th>27585</th>\n",
       "      <td>0</td>\n",
       "    </tr>\n",
       "    <tr>\n",
       "      <th>15722</th>\n",
       "      <td>0</td>\n",
       "    </tr>\n",
       "    <tr>\n",
       "      <th>40349</th>\n",
       "      <td>1</td>\n",
       "    </tr>\n",
       "    <tr>\n",
       "      <th>2576</th>\n",
       "      <td>0</td>\n",
       "    </tr>\n",
       "  </tbody>\n",
       "</table>\n",
       "</div>"
      ],
      "text/plain": [
       "       response\n",
       "33148         0\n",
       "27585         0\n",
       "15722         0\n",
       "40349         1\n",
       "2576          0"
      ]
     },
     "execution_count": 277,
     "metadata": {},
     "output_type": "execute_result"
    }
   ],
   "source": [
    "# Converting y_test to dataframe\n",
    "y_test_df = pd.DataFrame(y_test)\n",
    "y_test_df.head()"
   ]
  },
  {
   "cell_type": "code",
   "execution_count": 278,
   "metadata": {},
   "outputs": [],
   "source": [
    "#reseting the index\n",
    "y_pred_df.reset_index(drop=True, inplace=True)\n",
    "y_test_df.reset_index(drop=True, inplace=True)"
   ]
  },
  {
   "cell_type": "code",
   "execution_count": 279,
   "metadata": {},
   "outputs": [],
   "source": [
    "#building final model\n",
    "y_pred_final = pd.concat([y_test_df,y_pred_df],axis=1)"
   ]
  },
  {
   "cell_type": "code",
   "execution_count": 280,
   "metadata": {},
   "outputs": [],
   "source": [
    "# Renaming the column \n",
    "y_pred_final= y_pred_final.rename(columns={ 0 : 'response_prob'})"
   ]
  },
  {
   "cell_type": "code",
   "execution_count": 281,
   "metadata": {
    "scrolled": true
   },
   "outputs": [
    {
     "data": {
      "text/html": [
       "<div>\n",
       "<style scoped>\n",
       "    .dataframe tbody tr th:only-of-type {\n",
       "        vertical-align: middle;\n",
       "    }\n",
       "\n",
       "    .dataframe tbody tr th {\n",
       "        vertical-align: top;\n",
       "    }\n",
       "\n",
       "    .dataframe thead th {\n",
       "        text-align: right;\n",
       "    }\n",
       "</style>\n",
       "<table border=\"1\" class=\"dataframe\">\n",
       "  <thead>\n",
       "    <tr style=\"text-align: right;\">\n",
       "      <th></th>\n",
       "      <th>response</th>\n",
       "      <th>response_prob</th>\n",
       "    </tr>\n",
       "  </thead>\n",
       "  <tbody>\n",
       "    <tr>\n",
       "      <th>0</th>\n",
       "      <td>0</td>\n",
       "      <td>0.501167</td>\n",
       "    </tr>\n",
       "    <tr>\n",
       "      <th>1</th>\n",
       "      <td>0</td>\n",
       "      <td>0.337884</td>\n",
       "    </tr>\n",
       "    <tr>\n",
       "      <th>2</th>\n",
       "      <td>0</td>\n",
       "      <td>0.287172</td>\n",
       "    </tr>\n",
       "    <tr>\n",
       "      <th>3</th>\n",
       "      <td>1</td>\n",
       "      <td>0.929434</td>\n",
       "    </tr>\n",
       "    <tr>\n",
       "      <th>4</th>\n",
       "      <td>0</td>\n",
       "      <td>0.204761</td>\n",
       "    </tr>\n",
       "    <tr>\n",
       "      <th>5</th>\n",
       "      <td>1</td>\n",
       "      <td>0.479054</td>\n",
       "    </tr>\n",
       "    <tr>\n",
       "      <th>6</th>\n",
       "      <td>0</td>\n",
       "      <td>0.354628</td>\n",
       "    </tr>\n",
       "    <tr>\n",
       "      <th>7</th>\n",
       "      <td>0</td>\n",
       "      <td>0.174609</td>\n",
       "    </tr>\n",
       "    <tr>\n",
       "      <th>8</th>\n",
       "      <td>0</td>\n",
       "      <td>0.364315</td>\n",
       "    </tr>\n",
       "    <tr>\n",
       "      <th>9</th>\n",
       "      <td>0</td>\n",
       "      <td>0.308592</td>\n",
       "    </tr>\n",
       "    <tr>\n",
       "      <th>10</th>\n",
       "      <td>1</td>\n",
       "      <td>0.294836</td>\n",
       "    </tr>\n",
       "    <tr>\n",
       "      <th>11</th>\n",
       "      <td>0</td>\n",
       "      <td>0.386738</td>\n",
       "    </tr>\n",
       "    <tr>\n",
       "      <th>12</th>\n",
       "      <td>0</td>\n",
       "      <td>0.465799</td>\n",
       "    </tr>\n",
       "    <tr>\n",
       "      <th>13</th>\n",
       "      <td>0</td>\n",
       "      <td>0.212926</td>\n",
       "    </tr>\n",
       "    <tr>\n",
       "      <th>14</th>\n",
       "      <td>0</td>\n",
       "      <td>0.179748</td>\n",
       "    </tr>\n",
       "    <tr>\n",
       "      <th>15</th>\n",
       "      <td>0</td>\n",
       "      <td>0.359989</td>\n",
       "    </tr>\n",
       "    <tr>\n",
       "      <th>16</th>\n",
       "      <td>0</td>\n",
       "      <td>0.284151</td>\n",
       "    </tr>\n",
       "    <tr>\n",
       "      <th>17</th>\n",
       "      <td>0</td>\n",
       "      <td>0.396835</td>\n",
       "    </tr>\n",
       "    <tr>\n",
       "      <th>18</th>\n",
       "      <td>0</td>\n",
       "      <td>0.290698</td>\n",
       "    </tr>\n",
       "    <tr>\n",
       "      <th>19</th>\n",
       "      <td>0</td>\n",
       "      <td>0.350357</td>\n",
       "    </tr>\n",
       "    <tr>\n",
       "      <th>20</th>\n",
       "      <td>0</td>\n",
       "      <td>0.308809</td>\n",
       "    </tr>\n",
       "    <tr>\n",
       "      <th>21</th>\n",
       "      <td>0</td>\n",
       "      <td>0.346867</td>\n",
       "    </tr>\n",
       "    <tr>\n",
       "      <th>22</th>\n",
       "      <td>0</td>\n",
       "      <td>0.229962</td>\n",
       "    </tr>\n",
       "    <tr>\n",
       "      <th>23</th>\n",
       "      <td>0</td>\n",
       "      <td>0.841561</td>\n",
       "    </tr>\n",
       "    <tr>\n",
       "      <th>24</th>\n",
       "      <td>0</td>\n",
       "      <td>0.323240</td>\n",
       "    </tr>\n",
       "    <tr>\n",
       "      <th>25</th>\n",
       "      <td>0</td>\n",
       "      <td>0.322535</td>\n",
       "    </tr>\n",
       "    <tr>\n",
       "      <th>26</th>\n",
       "      <td>0</td>\n",
       "      <td>0.401023</td>\n",
       "    </tr>\n",
       "    <tr>\n",
       "      <th>27</th>\n",
       "      <td>0</td>\n",
       "      <td>0.302400</td>\n",
       "    </tr>\n",
       "    <tr>\n",
       "      <th>28</th>\n",
       "      <td>0</td>\n",
       "      <td>0.908506</td>\n",
       "    </tr>\n",
       "    <tr>\n",
       "      <th>29</th>\n",
       "      <td>0</td>\n",
       "      <td>0.303041</td>\n",
       "    </tr>\n",
       "    <tr>\n",
       "      <th>...</th>\n",
       "      <td>...</td>\n",
       "      <td>...</td>\n",
       "    </tr>\n",
       "    <tr>\n",
       "      <th>12327</th>\n",
       "      <td>0</td>\n",
       "      <td>0.215476</td>\n",
       "    </tr>\n",
       "    <tr>\n",
       "      <th>12328</th>\n",
       "      <td>0</td>\n",
       "      <td>0.240211</td>\n",
       "    </tr>\n",
       "    <tr>\n",
       "      <th>12329</th>\n",
       "      <td>0</td>\n",
       "      <td>0.469310</td>\n",
       "    </tr>\n",
       "    <tr>\n",
       "      <th>12330</th>\n",
       "      <td>0</td>\n",
       "      <td>0.356239</td>\n",
       "    </tr>\n",
       "    <tr>\n",
       "      <th>12331</th>\n",
       "      <td>1</td>\n",
       "      <td>0.798558</td>\n",
       "    </tr>\n",
       "    <tr>\n",
       "      <th>12332</th>\n",
       "      <td>0</td>\n",
       "      <td>0.337837</td>\n",
       "    </tr>\n",
       "    <tr>\n",
       "      <th>12333</th>\n",
       "      <td>0</td>\n",
       "      <td>0.492808</td>\n",
       "    </tr>\n",
       "    <tr>\n",
       "      <th>12334</th>\n",
       "      <td>0</td>\n",
       "      <td>0.882527</td>\n",
       "    </tr>\n",
       "    <tr>\n",
       "      <th>12335</th>\n",
       "      <td>0</td>\n",
       "      <td>0.371555</td>\n",
       "    </tr>\n",
       "    <tr>\n",
       "      <th>12336</th>\n",
       "      <td>0</td>\n",
       "      <td>0.876339</td>\n",
       "    </tr>\n",
       "    <tr>\n",
       "      <th>12337</th>\n",
       "      <td>0</td>\n",
       "      <td>0.763465</td>\n",
       "    </tr>\n",
       "    <tr>\n",
       "      <th>12338</th>\n",
       "      <td>0</td>\n",
       "      <td>0.196151</td>\n",
       "    </tr>\n",
       "    <tr>\n",
       "      <th>12339</th>\n",
       "      <td>0</td>\n",
       "      <td>0.255344</td>\n",
       "    </tr>\n",
       "    <tr>\n",
       "      <th>12340</th>\n",
       "      <td>0</td>\n",
       "      <td>0.888459</td>\n",
       "    </tr>\n",
       "    <tr>\n",
       "      <th>12341</th>\n",
       "      <td>0</td>\n",
       "      <td>0.196382</td>\n",
       "    </tr>\n",
       "    <tr>\n",
       "      <th>12342</th>\n",
       "      <td>0</td>\n",
       "      <td>0.458339</td>\n",
       "    </tr>\n",
       "    <tr>\n",
       "      <th>12343</th>\n",
       "      <td>0</td>\n",
       "      <td>0.921249</td>\n",
       "    </tr>\n",
       "    <tr>\n",
       "      <th>12344</th>\n",
       "      <td>0</td>\n",
       "      <td>0.192120</td>\n",
       "    </tr>\n",
       "    <tr>\n",
       "      <th>12345</th>\n",
       "      <td>0</td>\n",
       "      <td>0.345386</td>\n",
       "    </tr>\n",
       "    <tr>\n",
       "      <th>12346</th>\n",
       "      <td>0</td>\n",
       "      <td>0.349054</td>\n",
       "    </tr>\n",
       "    <tr>\n",
       "      <th>12347</th>\n",
       "      <td>0</td>\n",
       "      <td>0.233097</td>\n",
       "    </tr>\n",
       "    <tr>\n",
       "      <th>12348</th>\n",
       "      <td>0</td>\n",
       "      <td>0.608102</td>\n",
       "    </tr>\n",
       "    <tr>\n",
       "      <th>12349</th>\n",
       "      <td>0</td>\n",
       "      <td>0.453908</td>\n",
       "    </tr>\n",
       "    <tr>\n",
       "      <th>12350</th>\n",
       "      <td>0</td>\n",
       "      <td>0.422876</td>\n",
       "    </tr>\n",
       "    <tr>\n",
       "      <th>12351</th>\n",
       "      <td>0</td>\n",
       "      <td>0.422245</td>\n",
       "    </tr>\n",
       "    <tr>\n",
       "      <th>12352</th>\n",
       "      <td>0</td>\n",
       "      <td>0.493447</td>\n",
       "    </tr>\n",
       "    <tr>\n",
       "      <th>12353</th>\n",
       "      <td>0</td>\n",
       "      <td>0.336880</td>\n",
       "    </tr>\n",
       "    <tr>\n",
       "      <th>12354</th>\n",
       "      <td>0</td>\n",
       "      <td>0.491720</td>\n",
       "    </tr>\n",
       "    <tr>\n",
       "      <th>12355</th>\n",
       "      <td>1</td>\n",
       "      <td>0.893629</td>\n",
       "    </tr>\n",
       "    <tr>\n",
       "      <th>12356</th>\n",
       "      <td>0</td>\n",
       "      <td>0.919460</td>\n",
       "    </tr>\n",
       "  </tbody>\n",
       "</table>\n",
       "<p>12357 rows × 2 columns</p>\n",
       "</div>"
      ],
      "text/plain": [
       "       response  response_prob\n",
       "0             0       0.501167\n",
       "1             0       0.337884\n",
       "2             0       0.287172\n",
       "3             1       0.929434\n",
       "4             0       0.204761\n",
       "5             1       0.479054\n",
       "6             0       0.354628\n",
       "7             0       0.174609\n",
       "8             0       0.364315\n",
       "9             0       0.308592\n",
       "10            1       0.294836\n",
       "11            0       0.386738\n",
       "12            0       0.465799\n",
       "13            0       0.212926\n",
       "14            0       0.179748\n",
       "15            0       0.359989\n",
       "16            0       0.284151\n",
       "17            0       0.396835\n",
       "18            0       0.290698\n",
       "19            0       0.350357\n",
       "20            0       0.308809\n",
       "21            0       0.346867\n",
       "22            0       0.229962\n",
       "23            0       0.841561\n",
       "24            0       0.323240\n",
       "25            0       0.322535\n",
       "26            0       0.401023\n",
       "27            0       0.302400\n",
       "28            0       0.908506\n",
       "29            0       0.303041\n",
       "...         ...            ...\n",
       "12327         0       0.215476\n",
       "12328         0       0.240211\n",
       "12329         0       0.469310\n",
       "12330         0       0.356239\n",
       "12331         1       0.798558\n",
       "12332         0       0.337837\n",
       "12333         0       0.492808\n",
       "12334         0       0.882527\n",
       "12335         0       0.371555\n",
       "12336         0       0.876339\n",
       "12337         0       0.763465\n",
       "12338         0       0.196151\n",
       "12339         0       0.255344\n",
       "12340         0       0.888459\n",
       "12341         0       0.196382\n",
       "12342         0       0.458339\n",
       "12343         0       0.921249\n",
       "12344         0       0.192120\n",
       "12345         0       0.345386\n",
       "12346         0       0.349054\n",
       "12347         0       0.233097\n",
       "12348         0       0.608102\n",
       "12349         0       0.453908\n",
       "12350         0       0.422876\n",
       "12351         0       0.422245\n",
       "12352         0       0.493447\n",
       "12353         0       0.336880\n",
       "12354         0       0.491720\n",
       "12355         1       0.893629\n",
       "12356         0       0.919460\n",
       "\n",
       "[12357 rows x 2 columns]"
      ]
     },
     "execution_count": 281,
     "metadata": {},
     "output_type": "execute_result"
    }
   ],
   "source": [
    "y_pred_final"
   ]
  },
  {
   "cell_type": "code",
   "execution_count": 282,
   "metadata": {},
   "outputs": [
    {
     "name": "stdout",
     "output_type": "stream",
     "text": [
      "ROC_AUC score:  0.7789524936624151\n"
     ]
    }
   ],
   "source": [
    "#check for RCO Score\n",
    "from sklearn.metrics import roc_curve, auc\n",
    "fpr, tpr, thresholds =roc_curve(y_pred_final.response,y_pred_final.response_prob)\n",
    "roc_auc = auc(fpr, tpr)\n",
    "print('ROC_AUC score: ',roc_auc)"
   ]
  },
  {
   "cell_type": "code",
   "execution_count": 283,
   "metadata": {},
   "outputs": [],
   "source": [
    "#ROC Curve\n",
    "def draw_roc( actual, probs ):\n",
    "    fpr, tpr, thresholds = metrics.roc_curve( actual, probs,\n",
    "                                              drop_intermediate = False )\n",
    "    auc_score = metrics.roc_auc_score( actual, probs )\n",
    "    plt.figure(figsize=(6, 6))\n",
    "    plt.plot( fpr, tpr, label='ROC curve (area = %0.2f)' % auc_score )\n",
    "    plt.plot([0, 1], [0, 1], 'k--')\n",
    "    plt.xlim([0.0, 1.0])\n",
    "    plt.ylim([0.0, 1.05])\n",
    "    plt.xlabel('False Positive Rate or [1 - True Negative Rate]')\n",
    "    plt.ylabel('True Positive Rate')\n",
    "    plt.title('Receiver operating characteristic example')\n",
    "    plt.legend(loc=\"lower right\")\n",
    "    plt.show()\n",
    "\n",
    "    return fpr, tpr, thresholds\n"
   ]
  },
  {
   "cell_type": "code",
   "execution_count": 284,
   "metadata": {},
   "outputs": [
    {
     "data": {
      "image/png": "[encoded data removed]",
      "text/plain": [
       "<Figure size 432x432 with 1 Axes>"
      ]
     },
     "metadata": {
      "needs_background": "light"
     },
     "output_type": "display_data"
    },
    {
     "data": {
      "text/plain": [
       "(array([0.        , 0.        , 0.        , ..., 0.99981777, 0.99990888,\n",
       "        1.        ]),\n",
       " array([0.00000000e+00, 7.23589001e-04, 1.44717800e-03, ...,\n",
       "        1.00000000e+00, 1.00000000e+00, 1.00000000e+00]),\n",
       " array([1.95090146, 0.95090146, 0.9502848 , ..., 0.10174373, 0.09839497,\n",
       "        0.09371439]))"
      ]
     },
     "execution_count": 284,
     "metadata": {},
     "output_type": "execute_result"
    }
   ],
   "source": [
    "draw_roc(y_pred_final.response, y_pred_final.response_prob)"
   ]
  },
  {
   "cell_type": "code",
   "execution_count": 285,
   "metadata": {},
   "outputs": [
    {
     "data": {
      "text/html": [
       "<div>\n",
       "<style scoped>\n",
       "    .dataframe tbody tr th:only-of-type {\n",
       "        vertical-align: middle;\n",
       "    }\n",
       "\n",
       "    .dataframe tbody tr th {\n",
       "        vertical-align: top;\n",
       "    }\n",
       "\n",
       "    .dataframe thead th {\n",
       "        text-align: right;\n",
       "    }\n",
       "</style>\n",
       "<table border=\"1\" class=\"dataframe\">\n",
       "  <thead>\n",
       "    <tr style=\"text-align: right;\">\n",
       "      <th></th>\n",
       "      <th>response</th>\n",
       "      <th>response_prob</th>\n",
       "      <th>0.0</th>\n",
       "      <th>0.1</th>\n",
       "      <th>0.2</th>\n",
       "      <th>0.3</th>\n",
       "      <th>0.4</th>\n",
       "      <th>0.5</th>\n",
       "      <th>0.6</th>\n",
       "      <th>0.7</th>\n",
       "      <th>0.8</th>\n",
       "      <th>0.9</th>\n",
       "    </tr>\n",
       "  </thead>\n",
       "  <tbody>\n",
       "    <tr>\n",
       "      <th>0</th>\n",
       "      <td>0</td>\n",
       "      <td>0.501167</td>\n",
       "      <td>1</td>\n",
       "      <td>1</td>\n",
       "      <td>1</td>\n",
       "      <td>1</td>\n",
       "      <td>1</td>\n",
       "      <td>1</td>\n",
       "      <td>0</td>\n",
       "      <td>0</td>\n",
       "      <td>0</td>\n",
       "      <td>0</td>\n",
       "    </tr>\n",
       "    <tr>\n",
       "      <th>1</th>\n",
       "      <td>0</td>\n",
       "      <td>0.337884</td>\n",
       "      <td>1</td>\n",
       "      <td>1</td>\n",
       "      <td>1</td>\n",
       "      <td>1</td>\n",
       "      <td>0</td>\n",
       "      <td>0</td>\n",
       "      <td>0</td>\n",
       "      <td>0</td>\n",
       "      <td>0</td>\n",
       "      <td>0</td>\n",
       "    </tr>\n",
       "    <tr>\n",
       "      <th>2</th>\n",
       "      <td>0</td>\n",
       "      <td>0.287172</td>\n",
       "      <td>1</td>\n",
       "      <td>1</td>\n",
       "      <td>1</td>\n",
       "      <td>0</td>\n",
       "      <td>0</td>\n",
       "      <td>0</td>\n",
       "      <td>0</td>\n",
       "      <td>0</td>\n",
       "      <td>0</td>\n",
       "      <td>0</td>\n",
       "    </tr>\n",
       "    <tr>\n",
       "      <th>3</th>\n",
       "      <td>1</td>\n",
       "      <td>0.929434</td>\n",
       "      <td>1</td>\n",
       "      <td>1</td>\n",
       "      <td>1</td>\n",
       "      <td>1</td>\n",
       "      <td>1</td>\n",
       "      <td>1</td>\n",
       "      <td>1</td>\n",
       "      <td>1</td>\n",
       "      <td>1</td>\n",
       "      <td>1</td>\n",
       "    </tr>\n",
       "    <tr>\n",
       "      <th>4</th>\n",
       "      <td>0</td>\n",
       "      <td>0.204761</td>\n",
       "      <td>1</td>\n",
       "      <td>1</td>\n",
       "      <td>1</td>\n",
       "      <td>0</td>\n",
       "      <td>0</td>\n",
       "      <td>0</td>\n",
       "      <td>0</td>\n",
       "      <td>0</td>\n",
       "      <td>0</td>\n",
       "      <td>0</td>\n",
       "    </tr>\n",
       "  </tbody>\n",
       "</table>\n",
       "</div>"
      ],
      "text/plain": [
       "   response  response_prob  0.0  0.1  0.2  0.3  0.4  0.5  0.6  0.7  0.8  0.9\n",
       "0         0       0.501167    1    1    1    1    1    1    0    0    0    0\n",
       "1         0       0.337884    1    1    1    1    0    0    0    0    0    0\n",
       "2         0       0.287172    1    1    1    0    0    0    0    0    0    0\n",
       "3         1       0.929434    1    1    1    1    1    1    1    1    1    1\n",
       "4         0       0.204761    1    1    1    0    0    0    0    0    0    0"
      ]
     },
     "execution_count": 285,
     "metadata": {},
     "output_type": "execute_result"
    }
   ],
   "source": [
    "# Let's create columns with different probability cutoffs \n",
    "numbers = [float(x)/10 for x in range(10)]\n",
    "for i in numbers:\n",
    "    y_pred_final[i]= y_pred_final.response_prob.map( lambda x: 1 if x > i else 0)\n",
    "y_pred_final.head()"
   ]
  },
  {
   "cell_type": "code",
   "execution_count": 286,
   "metadata": {},
   "outputs": [
    {
     "name": "stdout",
     "output_type": "stream",
     "text": [
      "     prob  accuracy     sensi     speci\n",
      "0.0   0.0  0.111839  0.000000  1.000000\n",
      "0.1   0.1  0.112001  0.000182  1.000000\n",
      "0.2   0.2  0.210650  0.114442  0.974674\n",
      "0.3   0.3  0.468803  0.419772  0.858177\n",
      "0.4   0.4  0.722101  0.724465  0.703329\n",
      "0.5   0.5  0.808934  0.833622  0.612880\n",
      "0.6   0.6  0.842761  0.876993  0.570912\n",
      "0.7   0.7  0.870438  0.919453  0.481187\n",
      "0.8   0.8  0.881201  0.942506  0.394356\n",
      "0.9   0.9  0.896091  0.985421  0.186686\n"
     ]
    }
   ],
   "source": [
    "# Now let's calculate accuracy sensitivity and specificity for various probability cutoffs.\n",
    "cutoff_df = pd.DataFrame( columns = ['prob','accuracy','sensi','speci'])\n",
    "from sklearn.metrics import confusion_matrix\n",
    "num = [0.0,0.1,0.2,0.3,0.4,0.5,0.6,0.7,0.8,0.9]\n",
    "for i in num:\n",
    "    cm1 = metrics.confusion_matrix( y_pred_final.response, y_pred_final[i] )\n",
    "    total1=sum(sum(cm1))\n",
    "    accuracy = (cm1[0,0]+cm1[1,1])/total1\n",
    "    sensi = cm1[0,0]/(cm1[0,0]+cm1[0,1])\n",
    "    speci = cm1[1,1]/(cm1[1,0]+cm1[1,1])\n",
    "    cutoff_df.loc[i] =[ i ,accuracy,sensi,speci]\n",
    "print(cutoff_df)"
   ]
  },
  {
   "cell_type": "code",
   "execution_count": 287,
   "metadata": {},
   "outputs": [
    {
     "data": {
      "text/plain": [
       "<matplotlib.axes._subplots.AxesSubplot at 0x18eaa9082e8>"
      ]
     },
     "execution_count": 287,
     "metadata": {},
     "output_type": "execute_result"
    },
    {
     "data": {
      "image/png": "[encoded data removed]",
      "text/plain": [
       "<Figure size 432x288 with 1 Axes>"
      ]
     },
     "metadata": {
      "needs_background": "light"
     },
     "output_type": "display_data"
    }
   ],
   "source": [
    "# Let's plot accuracy sensitivity and specificity for various probabilities.\n",
    "cutoff_df.plot.line(x='prob', y=['accuracy','sensi','speci'])"
   ]
  },
  {
   "cell_type": "code",
   "execution_count": 288,
   "metadata": {},
   "outputs": [
    {
     "name": "stdout",
     "output_type": "stream",
     "text": [
      "Threshold:  [0.3930227334149953]\n"
     ]
    }
   ],
   "source": [
    "## Finding the optimal cutoff\n",
    "import sys\n",
    "def Find_Optimal_Cutoff(target, predicted):\n",
    "\n",
    "    fpr, tpr, threshold = roc_curve(target, predicted)\n",
    "    i = np.arange(len(tpr)) \n",
    "    roc = pd.DataFrame({'tf' : pd.Series(tpr-(1-fpr), index=i), 'threshold' : pd.Series(threshold, index=i)})\n",
    "    roc_t = roc.ix[(roc.tf-0).abs().argsort()[:1]]\n",
    "\n",
    "    return list(roc_t['threshold'])\n",
    "\n",
    "# Find optimal probability threshold\n",
    "threshold = Find_Optimal_Cutoff(y_pred_final.response,y_pred_final.response_prob)\n",
    "print('Threshold: ',threshold)"
   ]
  },
  {
   "cell_type": "code",
   "execution_count": 289,
   "metadata": {},
   "outputs": [
    {
     "data": {
      "text/plain": [
       "0    10975\n",
       "1     1382\n",
       "Name: response, dtype: int64"
      ]
     },
     "execution_count": 289,
     "metadata": {},
     "output_type": "execute_result"
    }
   ],
   "source": [
    "# Creating new column 'predicted' with 1 if Churn_Prob>0.489 else 0\n",
    "y_pred_final['pred_response'] = y_pred_final.response_prob.map( lambda x: 1 if x > 0.391 else 0)\n",
    "y_pred_final.response.value_counts()"
   ]
  },
  {
   "cell_type": "code",
   "execution_count": 309,
   "metadata": {},
   "outputs": [
    {
     "data": {
      "text/html": [
       "<div>\n",
       "<style scoped>\n",
       "    .dataframe tbody tr th:only-of-type {\n",
       "        vertical-align: middle;\n",
       "    }\n",
       "\n",
       "    .dataframe tbody tr th {\n",
       "        vertical-align: top;\n",
       "    }\n",
       "\n",
       "    .dataframe thead th {\n",
       "        text-align: right;\n",
       "    }\n",
       "</style>\n",
       "<table border=\"1\" class=\"dataframe\">\n",
       "  <thead>\n",
       "    <tr style=\"text-align: right;\">\n",
       "      <th></th>\n",
       "      <th>actual_response</th>\n",
       "      <th>response_prob</th>\n",
       "      <th>predicted_probability</th>\n",
       "      <th>0.1</th>\n",
       "      <th>0.2</th>\n",
       "      <th>0.3</th>\n",
       "      <th>0.4</th>\n",
       "      <th>0.5</th>\n",
       "      <th>0.6</th>\n",
       "      <th>0.7</th>\n",
       "      <th>0.8</th>\n",
       "      <th>0.9</th>\n",
       "      <th>pred_response</th>\n",
       "    </tr>\n",
       "  </thead>\n",
       "  <tbody>\n",
       "    <tr>\n",
       "      <th>0</th>\n",
       "      <td>0</td>\n",
       "      <td>0.501167</td>\n",
       "      <td>1</td>\n",
       "      <td>1</td>\n",
       "      <td>1</td>\n",
       "      <td>1</td>\n",
       "      <td>1</td>\n",
       "      <td>1</td>\n",
       "      <td>0</td>\n",
       "      <td>0</td>\n",
       "      <td>0</td>\n",
       "      <td>0</td>\n",
       "      <td>1</td>\n",
       "    </tr>\n",
       "    <tr>\n",
       "      <th>1</th>\n",
       "      <td>0</td>\n",
       "      <td>0.337884</td>\n",
       "      <td>1</td>\n",
       "      <td>1</td>\n",
       "      <td>1</td>\n",
       "      <td>1</td>\n",
       "      <td>0</td>\n",
       "      <td>0</td>\n",
       "      <td>0</td>\n",
       "      <td>0</td>\n",
       "      <td>0</td>\n",
       "      <td>0</td>\n",
       "      <td>0</td>\n",
       "    </tr>\n",
       "    <tr>\n",
       "      <th>2</th>\n",
       "      <td>0</td>\n",
       "      <td>0.287172</td>\n",
       "      <td>1</td>\n",
       "      <td>1</td>\n",
       "      <td>1</td>\n",
       "      <td>0</td>\n",
       "      <td>0</td>\n",
       "      <td>0</td>\n",
       "      <td>0</td>\n",
       "      <td>0</td>\n",
       "      <td>0</td>\n",
       "      <td>0</td>\n",
       "      <td>0</td>\n",
       "    </tr>\n",
       "    <tr>\n",
       "      <th>3</th>\n",
       "      <td>1</td>\n",
       "      <td>0.929434</td>\n",
       "      <td>1</td>\n",
       "      <td>1</td>\n",
       "      <td>1</td>\n",
       "      <td>1</td>\n",
       "      <td>1</td>\n",
       "      <td>1</td>\n",
       "      <td>1</td>\n",
       "      <td>1</td>\n",
       "      <td>1</td>\n",
       "      <td>1</td>\n",
       "      <td>1</td>\n",
       "    </tr>\n",
       "    <tr>\n",
       "      <th>4</th>\n",
       "      <td>0</td>\n",
       "      <td>0.204761</td>\n",
       "      <td>1</td>\n",
       "      <td>1</td>\n",
       "      <td>1</td>\n",
       "      <td>0</td>\n",
       "      <td>0</td>\n",
       "      <td>0</td>\n",
       "      <td>0</td>\n",
       "      <td>0</td>\n",
       "      <td>0</td>\n",
       "      <td>0</td>\n",
       "      <td>0</td>\n",
       "    </tr>\n",
       "  </tbody>\n",
       "</table>\n",
       "</div>"
      ],
      "text/plain": [
       "   actual_response  response_prob  predicted_probability  0.1  0.2  0.3  0.4  \\\n",
       "0                0       0.501167                      1    1    1    1    1   \n",
       "1                0       0.337884                      1    1    1    1    0   \n",
       "2                0       0.287172                      1    1    1    0    0   \n",
       "3                1       0.929434                      1    1    1    1    1   \n",
       "4                0       0.204761                      1    1    1    0    0   \n",
       "\n",
       "   0.5  0.6  0.7  0.8  0.9  pred_response  \n",
       "0    1    0    0    0    0              1  \n",
       "1    0    0    0    0    0              0  \n",
       "2    0    0    0    0    0              0  \n",
       "3    1    1    1    1    1              1  \n",
       "4    0    0    0    0    0              0  "
      ]
     },
     "execution_count": 309,
     "metadata": {},
     "output_type": "execute_result"
    }
   ],
   "source": [
    "# Renaming the column \n",
    "y_pred_final= y_pred_final.rename(columns={ 0 : 'predicted_probability', 'response' : 'actual_response'})\n",
    "\n",
    "# Let's see the head of y_pred_final\n",
    "y_pred_final.head()"
   ]
  },
  {
   "cell_type": "code",
   "execution_count": 290,
   "metadata": {},
   "outputs": [
    {
     "data": {
      "text/plain": [
       "array([[7768, 3207],\n",
       "       [ 398,  984]], dtype=int64)"
      ]
     },
     "execution_count": 290,
     "metadata": {},
     "output_type": "execute_result"
    }
   ],
   "source": [
    "# Confusion matrix \n",
    "confusion = metrics.confusion_matrix(y_pred_final.response, y_pred_final.pred_response)\n",
    "confusion"
   ]
  },
  {
   "cell_type": "code",
   "execution_count": 291,
   "metadata": {},
   "outputs": [],
   "source": [
    "from sklearn.metrics import classification_report, confusion_matrix, accuracy_score"
   ]
  },
  {
   "cell_type": "code",
   "execution_count": 292,
   "metadata": {},
   "outputs": [
    {
     "name": "stdout",
     "output_type": "stream",
     "text": [
      "Accuracy Score on test data:  0.8089342073318767\n",
      "Sensitivity:  0.7120115774240231\n",
      "Specificity:  0.7077904328018223\n",
      "false postive rate:  0.2922095671981777\n",
      "positive predictive value:  0.23478883321403007\n",
      "Negative predictive value:  0.9512613274553025\n",
      "Misclassification Rate:  0.2917374767338351\n"
     ]
    }
   ],
   "source": [
    "TP = confusion[1,1] # true positive \n",
    "TN = confusion[0,0] # true negatives\n",
    "FP = confusion[0,1] # false positives\n",
    "FN = confusion[1,0] # false negatives\n",
    "\n",
    "print('Accuracy Score on test data: ', accuracy_score(y_test,y_pred_default))\n",
    "\n",
    "# Let's see the sensitivity of our logistic regression model\n",
    "print('Sensitivity: ', TP / float(TP+FN))\n",
    "\n",
    "# Let us calculate specificity\n",
    "print('Specificity: ',TN / float(TN+FP))\n",
    "\n",
    "# Calculate false postive rate - predicting churn when customer does not have churned\n",
    "print('false postive rate: ',FP/ float(TN+FP))\n",
    "\n",
    "# positive predictive value \n",
    "print('positive predictive value: ', TP / float(TP+FP))\n",
    "\n",
    "# Negative predictive value\n",
    "print('Negative predictive value: ',TN / float(TN+ FN))\n",
    "\n",
    "## Misclassification rate\n",
    "\n",
    "print('Misclassification Rate: ',(FN+FP)/(TP+TN+FP+FN))"
   ]
  },
  {
   "cell_type": "markdown",
   "metadata": {},
   "source": [
    "\n",
    "Using logistic regression with RFE we got following results for test data set:\n",
    "    - Accuracy : 0.8110382778991665\n",
    "    - Sensitivity:0.711287988422576\n",
    "    - Specificity:  0.710615034168565 \n",
    "    The values for accuracy, Sensitivity and Specificity don't differ much on test and train data set.\n",
    "                So we can conclude that our model is performing well on train and test data set"
   ]
  },
  {
   "cell_type": "markdown",
   "metadata": {},
   "source": [
    "## Step 9: Check for the test data set "
   ]
  },
  {
   "cell_type": "code",
   "execution_count": 310,
   "metadata": {},
   "outputs": [],
   "source": [
    "# join duration column from loan data set to predicted values test data set\n",
    "y_test_pred_final = y_pred_final.join(loan['duration'])"
   ]
  },
  {
   "cell_type": "code",
   "execution_count": 311,
   "metadata": {},
   "outputs": [
    {
     "data": {
      "text/html": [
       "<div>\n",
       "<style scoped>\n",
       "    .dataframe tbody tr th:only-of-type {\n",
       "        vertical-align: middle;\n",
       "    }\n",
       "\n",
       "    .dataframe tbody tr th {\n",
       "        vertical-align: top;\n",
       "    }\n",
       "\n",
       "    .dataframe thead th {\n",
       "        text-align: right;\n",
       "    }\n",
       "</style>\n",
       "<table border=\"1\" class=\"dataframe\">\n",
       "  <thead>\n",
       "    <tr style=\"text-align: right;\">\n",
       "      <th></th>\n",
       "      <th>actual_response</th>\n",
       "      <th>response_prob</th>\n",
       "      <th>predicted_probability</th>\n",
       "      <th>0.1</th>\n",
       "      <th>0.2</th>\n",
       "      <th>0.3</th>\n",
       "      <th>0.4</th>\n",
       "      <th>0.5</th>\n",
       "      <th>0.6</th>\n",
       "      <th>0.7</th>\n",
       "      <th>0.8</th>\n",
       "      <th>0.9</th>\n",
       "      <th>pred_response</th>\n",
       "      <th>duration</th>\n",
       "    </tr>\n",
       "  </thead>\n",
       "  <tbody>\n",
       "    <tr>\n",
       "      <th>0</th>\n",
       "      <td>0</td>\n",
       "      <td>0.501167</td>\n",
       "      <td>1</td>\n",
       "      <td>1</td>\n",
       "      <td>1</td>\n",
       "      <td>1</td>\n",
       "      <td>1</td>\n",
       "      <td>1</td>\n",
       "      <td>0</td>\n",
       "      <td>0</td>\n",
       "      <td>0</td>\n",
       "      <td>0</td>\n",
       "      <td>1</td>\n",
       "      <td>261</td>\n",
       "    </tr>\n",
       "    <tr>\n",
       "      <th>1</th>\n",
       "      <td>0</td>\n",
       "      <td>0.337884</td>\n",
       "      <td>1</td>\n",
       "      <td>1</td>\n",
       "      <td>1</td>\n",
       "      <td>1</td>\n",
       "      <td>0</td>\n",
       "      <td>0</td>\n",
       "      <td>0</td>\n",
       "      <td>0</td>\n",
       "      <td>0</td>\n",
       "      <td>0</td>\n",
       "      <td>0</td>\n",
       "      <td>149</td>\n",
       "    </tr>\n",
       "    <tr>\n",
       "      <th>2</th>\n",
       "      <td>0</td>\n",
       "      <td>0.287172</td>\n",
       "      <td>1</td>\n",
       "      <td>1</td>\n",
       "      <td>1</td>\n",
       "      <td>0</td>\n",
       "      <td>0</td>\n",
       "      <td>0</td>\n",
       "      <td>0</td>\n",
       "      <td>0</td>\n",
       "      <td>0</td>\n",
       "      <td>0</td>\n",
       "      <td>0</td>\n",
       "      <td>226</td>\n",
       "    </tr>\n",
       "    <tr>\n",
       "      <th>3</th>\n",
       "      <td>1</td>\n",
       "      <td>0.929434</td>\n",
       "      <td>1</td>\n",
       "      <td>1</td>\n",
       "      <td>1</td>\n",
       "      <td>1</td>\n",
       "      <td>1</td>\n",
       "      <td>1</td>\n",
       "      <td>1</td>\n",
       "      <td>1</td>\n",
       "      <td>1</td>\n",
       "      <td>1</td>\n",
       "      <td>1</td>\n",
       "      <td>151</td>\n",
       "    </tr>\n",
       "    <tr>\n",
       "      <th>4</th>\n",
       "      <td>0</td>\n",
       "      <td>0.204761</td>\n",
       "      <td>1</td>\n",
       "      <td>1</td>\n",
       "      <td>1</td>\n",
       "      <td>0</td>\n",
       "      <td>0</td>\n",
       "      <td>0</td>\n",
       "      <td>0</td>\n",
       "      <td>0</td>\n",
       "      <td>0</td>\n",
       "      <td>0</td>\n",
       "      <td>0</td>\n",
       "      <td>307</td>\n",
       "    </tr>\n",
       "  </tbody>\n",
       "</table>\n",
       "</div>"
      ],
      "text/plain": [
       "   actual_response  response_prob  predicted_probability  0.1  0.2  0.3  0.4  \\\n",
       "0                0       0.501167                      1    1    1    1    1   \n",
       "1                0       0.337884                      1    1    1    1    0   \n",
       "2                0       0.287172                      1    1    1    0    0   \n",
       "3                1       0.929434                      1    1    1    1    1   \n",
       "4                0       0.204761                      1    1    1    0    0   \n",
       "\n",
       "   0.5  0.6  0.7  0.8  0.9  pred_response  duration  \n",
       "0    1    0    0    0    0              1       261  \n",
       "1    0    0    0    0    0              0       149  \n",
       "2    0    0    0    0    0              0       226  \n",
       "3    1    1    1    1    1              1       151  \n",
       "4    0    0    0    0    0              0       307  "
      ]
     },
     "execution_count": 311,
     "metadata": {},
     "output_type": "execute_result"
    }
   ],
   "source": [
    "# let's see head\n",
    "y_test_pred_final.head()"
   ]
  },
  {
   "cell_type": "code",
   "execution_count": 312,
   "metadata": {},
   "outputs": [],
   "source": [
    "#For creating new column cost_of_call, we will assume cost of call as $1 per minute\n",
    "y_test_pred_final['cost_of_call'] = y_test_pred_final['duration'].apply(\n",
    "                                lambda x : x/60 if x % 60 == 0 else (x//60 + 1))"
   ]
  },
  {
   "cell_type": "code",
   "execution_count": 296,
   "metadata": {},
   "outputs": [
    {
     "data": {
      "text/html": [
       "<div>\n",
       "<style scoped>\n",
       "    .dataframe tbody tr th:only-of-type {\n",
       "        vertical-align: middle;\n",
       "    }\n",
       "\n",
       "    .dataframe tbody tr th {\n",
       "        vertical-align: top;\n",
       "    }\n",
       "\n",
       "    .dataframe thead th {\n",
       "        text-align: right;\n",
       "    }\n",
       "</style>\n",
       "<table border=\"1\" class=\"dataframe\">\n",
       "  <thead>\n",
       "    <tr style=\"text-align: right;\">\n",
       "      <th></th>\n",
       "      <th>response</th>\n",
       "      <th>response_prob</th>\n",
       "      <th>0.0</th>\n",
       "      <th>0.1</th>\n",
       "      <th>0.2</th>\n",
       "      <th>0.3</th>\n",
       "      <th>0.4</th>\n",
       "      <th>0.5</th>\n",
       "      <th>0.6</th>\n",
       "      <th>0.7</th>\n",
       "      <th>0.8</th>\n",
       "      <th>0.9</th>\n",
       "      <th>pred_response</th>\n",
       "      <th>duration</th>\n",
       "      <th>cost_of_call</th>\n",
       "    </tr>\n",
       "  </thead>\n",
       "  <tbody>\n",
       "    <tr>\n",
       "      <th>0</th>\n",
       "      <td>0</td>\n",
       "      <td>0.501167</td>\n",
       "      <td>1</td>\n",
       "      <td>1</td>\n",
       "      <td>1</td>\n",
       "      <td>1</td>\n",
       "      <td>1</td>\n",
       "      <td>1</td>\n",
       "      <td>0</td>\n",
       "      <td>0</td>\n",
       "      <td>0</td>\n",
       "      <td>0</td>\n",
       "      <td>1</td>\n",
       "      <td>261</td>\n",
       "      <td>5.0</td>\n",
       "    </tr>\n",
       "    <tr>\n",
       "      <th>1</th>\n",
       "      <td>0</td>\n",
       "      <td>0.337884</td>\n",
       "      <td>1</td>\n",
       "      <td>1</td>\n",
       "      <td>1</td>\n",
       "      <td>1</td>\n",
       "      <td>0</td>\n",
       "      <td>0</td>\n",
       "      <td>0</td>\n",
       "      <td>0</td>\n",
       "      <td>0</td>\n",
       "      <td>0</td>\n",
       "      <td>0</td>\n",
       "      <td>149</td>\n",
       "      <td>3.0</td>\n",
       "    </tr>\n",
       "    <tr>\n",
       "      <th>2</th>\n",
       "      <td>0</td>\n",
       "      <td>0.287172</td>\n",
       "      <td>1</td>\n",
       "      <td>1</td>\n",
       "      <td>1</td>\n",
       "      <td>0</td>\n",
       "      <td>0</td>\n",
       "      <td>0</td>\n",
       "      <td>0</td>\n",
       "      <td>0</td>\n",
       "      <td>0</td>\n",
       "      <td>0</td>\n",
       "      <td>0</td>\n",
       "      <td>226</td>\n",
       "      <td>4.0</td>\n",
       "    </tr>\n",
       "    <tr>\n",
       "      <th>3</th>\n",
       "      <td>1</td>\n",
       "      <td>0.929434</td>\n",
       "      <td>1</td>\n",
       "      <td>1</td>\n",
       "      <td>1</td>\n",
       "      <td>1</td>\n",
       "      <td>1</td>\n",
       "      <td>1</td>\n",
       "      <td>1</td>\n",
       "      <td>1</td>\n",
       "      <td>1</td>\n",
       "      <td>1</td>\n",
       "      <td>1</td>\n",
       "      <td>151</td>\n",
       "      <td>3.0</td>\n",
       "    </tr>\n",
       "    <tr>\n",
       "      <th>4</th>\n",
       "      <td>0</td>\n",
       "      <td>0.204761</td>\n",
       "      <td>1</td>\n",
       "      <td>1</td>\n",
       "      <td>1</td>\n",
       "      <td>0</td>\n",
       "      <td>0</td>\n",
       "      <td>0</td>\n",
       "      <td>0</td>\n",
       "      <td>0</td>\n",
       "      <td>0</td>\n",
       "      <td>0</td>\n",
       "      <td>0</td>\n",
       "      <td>307</td>\n",
       "      <td>6.0</td>\n",
       "    </tr>\n",
       "  </tbody>\n",
       "</table>\n",
       "</div>"
      ],
      "text/plain": [
       "   response  response_prob  0.0  0.1  0.2  0.3  0.4  0.5  0.6  0.7  0.8  0.9  \\\n",
       "0         0       0.501167    1    1    1    1    1    1    0    0    0    0   \n",
       "1         0       0.337884    1    1    1    1    0    0    0    0    0    0   \n",
       "2         0       0.287172    1    1    1    0    0    0    0    0    0    0   \n",
       "3         1       0.929434    1    1    1    1    1    1    1    1    1    1   \n",
       "4         0       0.204761    1    1    1    0    0    0    0    0    0    0   \n",
       "\n",
       "   pred_response  duration  cost_of_call  \n",
       "0              1       261           5.0  \n",
       "1              0       149           3.0  \n",
       "2              0       226           4.0  \n",
       "3              1       151           3.0  \n",
       "4              0       307           6.0  "
      ]
     },
     "execution_count": 296,
     "metadata": {},
     "output_type": "execute_result"
    }
   ],
   "source": [
    "#Checking the final pred data set\n",
    "y_test_pred_final.head()"
   ]
  },
  {
   "cell_type": "markdown",
   "metadata": {},
   "source": [
    "###  Find the number of top X% prospects you should target to meet the business objective "
   ]
  },
  {
   "cell_type": "code",
   "execution_count": 313,
   "metadata": {},
   "outputs": [
    {
     "data": {
      "text/html": [
       "<div>\n",
       "<style scoped>\n",
       "    .dataframe tbody tr th:only-of-type {\n",
       "        vertical-align: middle;\n",
       "    }\n",
       "\n",
       "    .dataframe tbody tr th {\n",
       "        vertical-align: top;\n",
       "    }\n",
       "\n",
       "    .dataframe thead th {\n",
       "        text-align: right;\n",
       "    }\n",
       "</style>\n",
       "<table border=\"1\" class=\"dataframe\">\n",
       "  <thead>\n",
       "    <tr style=\"text-align: right;\">\n",
       "      <th></th>\n",
       "      <th>actual_response</th>\n",
       "      <th>response_prob</th>\n",
       "      <th>predicted_probability</th>\n",
       "      <th>0.1</th>\n",
       "      <th>0.2</th>\n",
       "      <th>0.3</th>\n",
       "      <th>0.4</th>\n",
       "      <th>0.5</th>\n",
       "      <th>0.6</th>\n",
       "      <th>0.7</th>\n",
       "      <th>0.8</th>\n",
       "      <th>0.9</th>\n",
       "      <th>pred_response</th>\n",
       "      <th>duration</th>\n",
       "      <th>cost_of_call</th>\n",
       "    </tr>\n",
       "  </thead>\n",
       "  <tbody>\n",
       "    <tr>\n",
       "      <th>0</th>\n",
       "      <td>0</td>\n",
       "      <td>0.501167</td>\n",
       "      <td>1</td>\n",
       "      <td>1</td>\n",
       "      <td>1</td>\n",
       "      <td>1</td>\n",
       "      <td>1</td>\n",
       "      <td>1</td>\n",
       "      <td>0</td>\n",
       "      <td>0</td>\n",
       "      <td>0</td>\n",
       "      <td>0</td>\n",
       "      <td>1</td>\n",
       "      <td>261</td>\n",
       "      <td>5.0</td>\n",
       "    </tr>\n",
       "    <tr>\n",
       "      <th>1</th>\n",
       "      <td>0</td>\n",
       "      <td>0.337884</td>\n",
       "      <td>1</td>\n",
       "      <td>1</td>\n",
       "      <td>1</td>\n",
       "      <td>1</td>\n",
       "      <td>0</td>\n",
       "      <td>0</td>\n",
       "      <td>0</td>\n",
       "      <td>0</td>\n",
       "      <td>0</td>\n",
       "      <td>0</td>\n",
       "      <td>0</td>\n",
       "      <td>149</td>\n",
       "      <td>3.0</td>\n",
       "    </tr>\n",
       "    <tr>\n",
       "      <th>2</th>\n",
       "      <td>0</td>\n",
       "      <td>0.287172</td>\n",
       "      <td>1</td>\n",
       "      <td>1</td>\n",
       "      <td>1</td>\n",
       "      <td>0</td>\n",
       "      <td>0</td>\n",
       "      <td>0</td>\n",
       "      <td>0</td>\n",
       "      <td>0</td>\n",
       "      <td>0</td>\n",
       "      <td>0</td>\n",
       "      <td>0</td>\n",
       "      <td>226</td>\n",
       "      <td>4.0</td>\n",
       "    </tr>\n",
       "    <tr>\n",
       "      <th>3</th>\n",
       "      <td>1</td>\n",
       "      <td>0.929434</td>\n",
       "      <td>1</td>\n",
       "      <td>1</td>\n",
       "      <td>1</td>\n",
       "      <td>1</td>\n",
       "      <td>1</td>\n",
       "      <td>1</td>\n",
       "      <td>1</td>\n",
       "      <td>1</td>\n",
       "      <td>1</td>\n",
       "      <td>1</td>\n",
       "      <td>1</td>\n",
       "      <td>151</td>\n",
       "      <td>3.0</td>\n",
       "    </tr>\n",
       "    <tr>\n",
       "      <th>4</th>\n",
       "      <td>0</td>\n",
       "      <td>0.204761</td>\n",
       "      <td>1</td>\n",
       "      <td>1</td>\n",
       "      <td>1</td>\n",
       "      <td>0</td>\n",
       "      <td>0</td>\n",
       "      <td>0</td>\n",
       "      <td>0</td>\n",
       "      <td>0</td>\n",
       "      <td>0</td>\n",
       "      <td>0</td>\n",
       "      <td>0</td>\n",
       "      <td>307</td>\n",
       "      <td>6.0</td>\n",
       "    </tr>\n",
       "  </tbody>\n",
       "</table>\n",
       "</div>"
      ],
      "text/plain": [
       "   actual_response  response_prob  predicted_probability  0.1  0.2  0.3  0.4  \\\n",
       "0                0       0.501167                      1    1    1    1    1   \n",
       "1                0       0.337884                      1    1    1    1    0   \n",
       "2                0       0.287172                      1    1    1    0    0   \n",
       "3                1       0.929434                      1    1    1    1    1   \n",
       "4                0       0.204761                      1    1    1    0    0   \n",
       "\n",
       "   0.5  0.6  0.7  0.8  0.9  pred_response  duration  cost_of_call  \n",
       "0    1    0    0    0    0              1       261           5.0  \n",
       "1    0    0    0    0    0              0       149           3.0  \n",
       "2    0    0    0    0    0              0       226           4.0  \n",
       "3    1    1    1    1    1              1       151           3.0  \n",
       "4    0    0    0    0    0              0       307           6.0  "
      ]
     },
     "execution_count": 313,
     "metadata": {},
     "output_type": "execute_result"
    }
   ],
   "source": [
    "# create decile data frame from y_test_pred_final\n",
    "decile_df = pd.DataFrame(y_test_pred_final)\n",
    "decile_df.head()"
   ]
  },
  {
   "cell_type": "code",
   "execution_count": 314,
   "metadata": {},
   "outputs": [
    {
     "data": {
      "text/html": [
       "<div>\n",
       "<style scoped>\n",
       "    .dataframe tbody tr th:only-of-type {\n",
       "        vertical-align: middle;\n",
       "    }\n",
       "\n",
       "    .dataframe tbody tr th {\n",
       "        vertical-align: top;\n",
       "    }\n",
       "\n",
       "    .dataframe thead th {\n",
       "        text-align: right;\n",
       "    }\n",
       "</style>\n",
       "<table border=\"1\" class=\"dataframe\">\n",
       "  <thead>\n",
       "    <tr style=\"text-align: right;\">\n",
       "      <th></th>\n",
       "      <th>actual_response</th>\n",
       "      <th>response_prob</th>\n",
       "      <th>predicted_probability</th>\n",
       "      <th>0.1</th>\n",
       "      <th>0.2</th>\n",
       "      <th>0.3</th>\n",
       "      <th>0.4</th>\n",
       "      <th>0.5</th>\n",
       "      <th>0.6</th>\n",
       "      <th>0.7</th>\n",
       "      <th>0.8</th>\n",
       "      <th>0.9</th>\n",
       "      <th>pred_response</th>\n",
       "      <th>duration</th>\n",
       "      <th>cost_of_call</th>\n",
       "      <th>decile</th>\n",
       "    </tr>\n",
       "  </thead>\n",
       "  <tbody>\n",
       "    <tr>\n",
       "      <th>0</th>\n",
       "      <td>0</td>\n",
       "      <td>0.501167</td>\n",
       "      <td>1</td>\n",
       "      <td>1</td>\n",
       "      <td>1</td>\n",
       "      <td>1</td>\n",
       "      <td>1</td>\n",
       "      <td>1</td>\n",
       "      <td>0</td>\n",
       "      <td>0</td>\n",
       "      <td>0</td>\n",
       "      <td>0</td>\n",
       "      <td>1</td>\n",
       "      <td>261</td>\n",
       "      <td>5.0</td>\n",
       "      <td>3</td>\n",
       "    </tr>\n",
       "    <tr>\n",
       "      <th>1</th>\n",
       "      <td>0</td>\n",
       "      <td>0.337884</td>\n",
       "      <td>1</td>\n",
       "      <td>1</td>\n",
       "      <td>1</td>\n",
       "      <td>1</td>\n",
       "      <td>0</td>\n",
       "      <td>0</td>\n",
       "      <td>0</td>\n",
       "      <td>0</td>\n",
       "      <td>0</td>\n",
       "      <td>0</td>\n",
       "      <td>0</td>\n",
       "      <td>149</td>\n",
       "      <td>3.0</td>\n",
       "      <td>5</td>\n",
       "    </tr>\n",
       "    <tr>\n",
       "      <th>2</th>\n",
       "      <td>0</td>\n",
       "      <td>0.287172</td>\n",
       "      <td>1</td>\n",
       "      <td>1</td>\n",
       "      <td>1</td>\n",
       "      <td>0</td>\n",
       "      <td>0</td>\n",
       "      <td>0</td>\n",
       "      <td>0</td>\n",
       "      <td>0</td>\n",
       "      <td>0</td>\n",
       "      <td>0</td>\n",
       "      <td>0</td>\n",
       "      <td>226</td>\n",
       "      <td>4.0</td>\n",
       "      <td>7</td>\n",
       "    </tr>\n",
       "    <tr>\n",
       "      <th>3</th>\n",
       "      <td>1</td>\n",
       "      <td>0.929434</td>\n",
       "      <td>1</td>\n",
       "      <td>1</td>\n",
       "      <td>1</td>\n",
       "      <td>1</td>\n",
       "      <td>1</td>\n",
       "      <td>1</td>\n",
       "      <td>1</td>\n",
       "      <td>1</td>\n",
       "      <td>1</td>\n",
       "      <td>1</td>\n",
       "      <td>1</td>\n",
       "      <td>151</td>\n",
       "      <td>3.0</td>\n",
       "      <td>1</td>\n",
       "    </tr>\n",
       "    <tr>\n",
       "      <th>4</th>\n",
       "      <td>0</td>\n",
       "      <td>0.204761</td>\n",
       "      <td>1</td>\n",
       "      <td>1</td>\n",
       "      <td>1</td>\n",
       "      <td>0</td>\n",
       "      <td>0</td>\n",
       "      <td>0</td>\n",
       "      <td>0</td>\n",
       "      <td>0</td>\n",
       "      <td>0</td>\n",
       "      <td>0</td>\n",
       "      <td>0</td>\n",
       "      <td>307</td>\n",
       "      <td>6.0</td>\n",
       "      <td>9</td>\n",
       "    </tr>\n",
       "  </tbody>\n",
       "</table>\n",
       "</div>"
      ],
      "text/plain": [
       "   actual_response  response_prob  predicted_probability  0.1  0.2  0.3  0.4  \\\n",
       "0                0       0.501167                      1    1    1    1    1   \n",
       "1                0       0.337884                      1    1    1    1    0   \n",
       "2                0       0.287172                      1    1    1    0    0   \n",
       "3                1       0.929434                      1    1    1    1    1   \n",
       "4                0       0.204761                      1    1    1    0    0   \n",
       "\n",
       "   0.5  0.6  0.7  0.8  0.9  pred_response  duration  cost_of_call decile  \n",
       "0    1    0    0    0    0              1       261           5.0      3  \n",
       "1    0    0    0    0    0              0       149           3.0      5  \n",
       "2    0    0    0    0    0              0       226           4.0      7  \n",
       "3    1    1    1    1    1              1       151           3.0      1  \n",
       "4    0    0    0    0    0              0       307           6.0      9  "
      ]
     },
     "execution_count": 314,
     "metadata": {},
     "output_type": "execute_result"
    }
   ],
   "source": [
    "# create decile column with decile values\n",
    "decile_df['decile'] = pd.qcut(decile_df['response_prob'], 10, labels=np.arange(10, 0, -1))\n",
    "decile_df.head()"
   ]
  },
  {
   "cell_type": "code",
   "execution_count": 315,
   "metadata": {},
   "outputs": [
    {
     "data": {
      "text/html": [
       "<div>\n",
       "<style scoped>\n",
       "    .dataframe tbody tr th:only-of-type {\n",
       "        vertical-align: middle;\n",
       "    }\n",
       "\n",
       "    .dataframe tbody tr th {\n",
       "        vertical-align: top;\n",
       "    }\n",
       "\n",
       "    .dataframe thead th {\n",
       "        text-align: right;\n",
       "    }\n",
       "</style>\n",
       "<table border=\"1\" class=\"dataframe\">\n",
       "  <thead>\n",
       "    <tr style=\"text-align: right;\">\n",
       "      <th></th>\n",
       "      <th>decile</th>\n",
       "      <th>response_prob</th>\n",
       "    </tr>\n",
       "  </thead>\n",
       "  <tbody>\n",
       "    <tr>\n",
       "      <th>0</th>\n",
       "      <td>10</td>\n",
       "      <td>1236</td>\n",
       "    </tr>\n",
       "    <tr>\n",
       "      <th>1</th>\n",
       "      <td>9</td>\n",
       "      <td>1236</td>\n",
       "    </tr>\n",
       "    <tr>\n",
       "      <th>2</th>\n",
       "      <td>8</td>\n",
       "      <td>1235</td>\n",
       "    </tr>\n",
       "    <tr>\n",
       "      <th>3</th>\n",
       "      <td>7</td>\n",
       "      <td>1236</td>\n",
       "    </tr>\n",
       "    <tr>\n",
       "      <th>4</th>\n",
       "      <td>6</td>\n",
       "      <td>1236</td>\n",
       "    </tr>\n",
       "  </tbody>\n",
       "</table>\n",
       "</div>"
      ],
      "text/plain": [
       "  decile  response_prob\n",
       "0     10           1236\n",
       "1      9           1236\n",
       "2      8           1235\n",
       "3      7           1236\n",
       "4      6           1236"
      ]
     },
     "execution_count": 315,
     "metadata": {},
     "output_type": "execute_result"
    }
   ],
   "source": [
    "# group by decile dataframe to create lift dataframe\n",
    "lift_df = decile_df.groupby('decile')['response_prob'].count().reset_index()\n",
    "lift_df.head()"
   ]
  },
  {
   "cell_type": "code",
   "execution_count": 316,
   "metadata": {},
   "outputs": [
    {
     "data": {
      "text/html": [
       "<div>\n",
       "<style scoped>\n",
       "    .dataframe tbody tr th:only-of-type {\n",
       "        vertical-align: middle;\n",
       "    }\n",
       "\n",
       "    .dataframe tbody tr th {\n",
       "        vertical-align: top;\n",
       "    }\n",
       "\n",
       "    .dataframe thead th {\n",
       "        text-align: right;\n",
       "    }\n",
       "</style>\n",
       "<table border=\"1\" class=\"dataframe\">\n",
       "  <thead>\n",
       "    <tr style=\"text-align: right;\">\n",
       "      <th></th>\n",
       "      <th>decile</th>\n",
       "      <th>total</th>\n",
       "    </tr>\n",
       "  </thead>\n",
       "  <tbody>\n",
       "    <tr>\n",
       "      <th>0</th>\n",
       "      <td>10</td>\n",
       "      <td>1236</td>\n",
       "    </tr>\n",
       "    <tr>\n",
       "      <th>1</th>\n",
       "      <td>9</td>\n",
       "      <td>1236</td>\n",
       "    </tr>\n",
       "    <tr>\n",
       "      <th>2</th>\n",
       "      <td>8</td>\n",
       "      <td>1235</td>\n",
       "    </tr>\n",
       "    <tr>\n",
       "      <th>3</th>\n",
       "      <td>7</td>\n",
       "      <td>1236</td>\n",
       "    </tr>\n",
       "    <tr>\n",
       "      <th>4</th>\n",
       "      <td>6</td>\n",
       "      <td>1236</td>\n",
       "    </tr>\n",
       "  </tbody>\n",
       "</table>\n",
       "</div>"
      ],
      "text/plain": [
       "  decile  total\n",
       "0     10   1236\n",
       "1      9   1236\n",
       "2      8   1235\n",
       "3      7   1236\n",
       "4      6   1236"
      ]
     },
     "execution_count": 316,
     "metadata": {},
     "output_type": "execute_result"
    }
   ],
   "source": [
    "# rename column predicted_probability to total\n",
    "lift_df.rename({'response_prob':'total'}, axis=1, inplace=True)\n",
    "lift_df.head()"
   ]
  },
  {
   "cell_type": "code",
   "execution_count": 317,
   "metadata": {},
   "outputs": [
    {
     "data": {
      "text/html": [
       "<div>\n",
       "<style scoped>\n",
       "    .dataframe tbody tr th:only-of-type {\n",
       "        vertical-align: middle;\n",
       "    }\n",
       "\n",
       "    .dataframe tbody tr th {\n",
       "        vertical-align: top;\n",
       "    }\n",
       "\n",
       "    .dataframe thead th {\n",
       "        text-align: right;\n",
       "    }\n",
       "</style>\n",
       "<table border=\"1\" class=\"dataframe\">\n",
       "  <thead>\n",
       "    <tr style=\"text-align: right;\">\n",
       "      <th></th>\n",
       "      <th>decile</th>\n",
       "      <th>actual_response</th>\n",
       "    </tr>\n",
       "  </thead>\n",
       "  <tbody>\n",
       "    <tr>\n",
       "      <th>0</th>\n",
       "      <td>10</td>\n",
       "      <td>32</td>\n",
       "    </tr>\n",
       "    <tr>\n",
       "      <th>1</th>\n",
       "      <td>9</td>\n",
       "      <td>39</td>\n",
       "    </tr>\n",
       "    <tr>\n",
       "      <th>2</th>\n",
       "      <td>8</td>\n",
       "      <td>66</td>\n",
       "    </tr>\n",
       "    <tr>\n",
       "      <th>3</th>\n",
       "      <td>7</td>\n",
       "      <td>69</td>\n",
       "    </tr>\n",
       "    <tr>\n",
       "      <th>4</th>\n",
       "      <td>6</td>\n",
       "      <td>69</td>\n",
       "    </tr>\n",
       "  </tbody>\n",
       "</table>\n",
       "</div>"
      ],
      "text/plain": [
       "  decile  actual_response\n",
       "0     10               32\n",
       "1      9               39\n",
       "2      8               66\n",
       "3      7               69\n",
       "4      6               69"
      ]
     },
     "execution_count": 317,
     "metadata": {},
     "output_type": "execute_result"
    }
   ],
   "source": [
    "# calculate response count for each decile\n",
    "lift_df_pred = decile_df[decile_df['actual_response']==1].groupby('decile')['actual_response'].count().reset_index()\n",
    "lift_df_pred.head()"
   ]
  },
  {
   "cell_type": "code",
   "execution_count": 318,
   "metadata": {},
   "outputs": [
    {
     "name": "stdout",
     "output_type": "stream",
     "text": [
      "<class 'pandas.core.frame.DataFrame'>\n",
      "RangeIndex: 10 entries, 0 to 9\n",
      "Data columns (total 2 columns):\n",
      "decile    10 non-null category\n",
      "total     10 non-null int64\n",
      "dtypes: category(1), int64(1)\n",
      "memory usage: 570.0 bytes\n"
     ]
    }
   ],
   "source": [
    "lift_df.info()"
   ]
  },
  {
   "cell_type": "code",
   "execution_count": 319,
   "metadata": {},
   "outputs": [
    {
     "data": {
      "text/html": [
       "<div>\n",
       "<style scoped>\n",
       "    .dataframe tbody tr th:only-of-type {\n",
       "        vertical-align: middle;\n",
       "    }\n",
       "\n",
       "    .dataframe tbody tr th {\n",
       "        vertical-align: top;\n",
       "    }\n",
       "\n",
       "    .dataframe thead th {\n",
       "        text-align: right;\n",
       "    }\n",
       "</style>\n",
       "<table border=\"1\" class=\"dataframe\">\n",
       "  <thead>\n",
       "    <tr style=\"text-align: right;\">\n",
       "      <th></th>\n",
       "      <th>decile</th>\n",
       "      <th>total</th>\n",
       "      <th>actual_response</th>\n",
       "    </tr>\n",
       "  </thead>\n",
       "  <tbody>\n",
       "    <tr>\n",
       "      <th>0</th>\n",
       "      <td>10</td>\n",
       "      <td>1236</td>\n",
       "      <td>32</td>\n",
       "    </tr>\n",
       "    <tr>\n",
       "      <th>1</th>\n",
       "      <td>9</td>\n",
       "      <td>1236</td>\n",
       "      <td>39</td>\n",
       "    </tr>\n",
       "    <tr>\n",
       "      <th>2</th>\n",
       "      <td>8</td>\n",
       "      <td>1235</td>\n",
       "      <td>66</td>\n",
       "    </tr>\n",
       "    <tr>\n",
       "      <th>3</th>\n",
       "      <td>7</td>\n",
       "      <td>1236</td>\n",
       "      <td>69</td>\n",
       "    </tr>\n",
       "    <tr>\n",
       "      <th>4</th>\n",
       "      <td>6</td>\n",
       "      <td>1236</td>\n",
       "      <td>69</td>\n",
       "    </tr>\n",
       "  </tbody>\n",
       "</table>\n",
       "</div>"
      ],
      "text/plain": [
       "  decile  total  actual_response\n",
       "0     10   1236               32\n",
       "1      9   1236               39\n",
       "2      8   1235               66\n",
       "3      7   1236               69\n",
       "4      6   1236               69"
      ]
     },
     "execution_count": 319,
     "metadata": {},
     "output_type": "execute_result"
    }
   ],
   "source": [
    "# merge lift_df and lift_df_pred\n",
    "lift_df_final = lift_df.merge(lift_df_pred,on = 'decile')\n",
    "lift_df_final.head()"
   ]
  },
  {
   "cell_type": "code",
   "execution_count": 320,
   "metadata": {},
   "outputs": [
    {
     "data": {
      "text/html": [
       "<div>\n",
       "<style scoped>\n",
       "    .dataframe tbody tr th:only-of-type {\n",
       "        vertical-align: middle;\n",
       "    }\n",
       "\n",
       "    .dataframe tbody tr th {\n",
       "        vertical-align: top;\n",
       "    }\n",
       "\n",
       "    .dataframe thead th {\n",
       "        text-align: right;\n",
       "    }\n",
       "</style>\n",
       "<table border=\"1\" class=\"dataframe\">\n",
       "  <thead>\n",
       "    <tr style=\"text-align: right;\">\n",
       "      <th></th>\n",
       "      <th>decile</th>\n",
       "      <th>total</th>\n",
       "      <th>actual_response</th>\n",
       "    </tr>\n",
       "  </thead>\n",
       "  <tbody>\n",
       "    <tr>\n",
       "      <th>9</th>\n",
       "      <td>1</td>\n",
       "      <td>1236</td>\n",
       "      <td>570</td>\n",
       "    </tr>\n",
       "    <tr>\n",
       "      <th>8</th>\n",
       "      <td>2</td>\n",
       "      <td>1236</td>\n",
       "      <td>257</td>\n",
       "    </tr>\n",
       "    <tr>\n",
       "      <th>7</th>\n",
       "      <td>3</td>\n",
       "      <td>1235</td>\n",
       "      <td>120</td>\n",
       "    </tr>\n",
       "    <tr>\n",
       "      <th>6</th>\n",
       "      <td>4</td>\n",
       "      <td>1236</td>\n",
       "      <td>89</td>\n",
       "    </tr>\n",
       "    <tr>\n",
       "      <th>5</th>\n",
       "      <td>5</td>\n",
       "      <td>1235</td>\n",
       "      <td>71</td>\n",
       "    </tr>\n",
       "  </tbody>\n",
       "</table>\n",
       "</div>"
      ],
      "text/plain": [
       "  decile  total  actual_response\n",
       "9      1   1236              570\n",
       "8      2   1236              257\n",
       "7      3   1235              120\n",
       "6      4   1236               89\n",
       "5      5   1235               71"
      ]
     },
     "execution_count": 320,
     "metadata": {},
     "output_type": "execute_result"
    }
   ],
   "source": [
    "# sort the data \n",
    "lift_df_final = lift_df_final.sort_values(['decile'], ascending=False)\n",
    "lift_df_final.head()"
   ]
  },
  {
   "cell_type": "code",
   "execution_count": 321,
   "metadata": {},
   "outputs": [
    {
     "data": {
      "text/html": [
       "<div>\n",
       "<style scoped>\n",
       "    .dataframe tbody tr th:only-of-type {\n",
       "        vertical-align: middle;\n",
       "    }\n",
       "\n",
       "    .dataframe tbody tr th {\n",
       "        vertical-align: top;\n",
       "    }\n",
       "\n",
       "    .dataframe thead th {\n",
       "        text-align: right;\n",
       "    }\n",
       "</style>\n",
       "<table border=\"1\" class=\"dataframe\">\n",
       "  <thead>\n",
       "    <tr style=\"text-align: right;\">\n",
       "      <th></th>\n",
       "      <th>decile</th>\n",
       "      <th>total</th>\n",
       "      <th>actual_response</th>\n",
       "      <th>cumresp</th>\n",
       "    </tr>\n",
       "  </thead>\n",
       "  <tbody>\n",
       "    <tr>\n",
       "      <th>9</th>\n",
       "      <td>1</td>\n",
       "      <td>1236</td>\n",
       "      <td>570</td>\n",
       "      <td>570</td>\n",
       "    </tr>\n",
       "    <tr>\n",
       "      <th>8</th>\n",
       "      <td>2</td>\n",
       "      <td>1236</td>\n",
       "      <td>257</td>\n",
       "      <td>827</td>\n",
       "    </tr>\n",
       "    <tr>\n",
       "      <th>7</th>\n",
       "      <td>3</td>\n",
       "      <td>1235</td>\n",
       "      <td>120</td>\n",
       "      <td>947</td>\n",
       "    </tr>\n",
       "    <tr>\n",
       "      <th>6</th>\n",
       "      <td>4</td>\n",
       "      <td>1236</td>\n",
       "      <td>89</td>\n",
       "      <td>1036</td>\n",
       "    </tr>\n",
       "    <tr>\n",
       "      <th>5</th>\n",
       "      <td>5</td>\n",
       "      <td>1235</td>\n",
       "      <td>71</td>\n",
       "      <td>1107</td>\n",
       "    </tr>\n",
       "  </tbody>\n",
       "</table>\n",
       "</div>"
      ],
      "text/plain": [
       "  decile  total  actual_response  cumresp\n",
       "9      1   1236              570      570\n",
       "8      2   1236              257      827\n",
       "7      3   1235              120      947\n",
       "6      4   1236               89     1036\n",
       "5      5   1235               71     1107"
      ]
     },
     "execution_count": 321,
     "metadata": {},
     "output_type": "execute_result"
    }
   ],
   "source": [
    "# create cummulative response column\n",
    "lift_df_final['cumresp'] = lift_df_final['actual_response'].cumsum()\n",
    "lift_df_final.head()"
   ]
  },
  {
   "cell_type": "code",
   "execution_count": 322,
   "metadata": {},
   "outputs": [
    {
     "data": {
      "text/html": [
       "<div>\n",
       "<style scoped>\n",
       "    .dataframe tbody tr th:only-of-type {\n",
       "        vertical-align: middle;\n",
       "    }\n",
       "\n",
       "    .dataframe tbody tr th {\n",
       "        vertical-align: top;\n",
       "    }\n",
       "\n",
       "    .dataframe thead th {\n",
       "        text-align: right;\n",
       "    }\n",
       "</style>\n",
       "<table border=\"1\" class=\"dataframe\">\n",
       "  <thead>\n",
       "    <tr style=\"text-align: right;\">\n",
       "      <th></th>\n",
       "      <th>decile</th>\n",
       "      <th>total</th>\n",
       "      <th>actual_response</th>\n",
       "      <th>cumresp</th>\n",
       "      <th>gain</th>\n",
       "    </tr>\n",
       "  </thead>\n",
       "  <tbody>\n",
       "    <tr>\n",
       "      <th>9</th>\n",
       "      <td>1</td>\n",
       "      <td>1236</td>\n",
       "      <td>570</td>\n",
       "      <td>570</td>\n",
       "      <td>41.244573</td>\n",
       "    </tr>\n",
       "    <tr>\n",
       "      <th>8</th>\n",
       "      <td>2</td>\n",
       "      <td>1236</td>\n",
       "      <td>257</td>\n",
       "      <td>827</td>\n",
       "      <td>59.840810</td>\n",
       "    </tr>\n",
       "    <tr>\n",
       "      <th>7</th>\n",
       "      <td>3</td>\n",
       "      <td>1235</td>\n",
       "      <td>120</td>\n",
       "      <td>947</td>\n",
       "      <td>68.523878</td>\n",
       "    </tr>\n",
       "    <tr>\n",
       "      <th>6</th>\n",
       "      <td>4</td>\n",
       "      <td>1236</td>\n",
       "      <td>89</td>\n",
       "      <td>1036</td>\n",
       "      <td>74.963821</td>\n",
       "    </tr>\n",
       "    <tr>\n",
       "      <th>5</th>\n",
       "      <td>5</td>\n",
       "      <td>1235</td>\n",
       "      <td>71</td>\n",
       "      <td>1107</td>\n",
       "      <td>80.101302</td>\n",
       "    </tr>\n",
       "  </tbody>\n",
       "</table>\n",
       "</div>"
      ],
      "text/plain": [
       "  decile  total  actual_response  cumresp       gain\n",
       "9      1   1236              570      570  41.244573\n",
       "8      2   1236              257      827  59.840810\n",
       "7      3   1235              120      947  68.523878\n",
       "6      4   1236               89     1036  74.963821\n",
       "5      5   1235               71     1107  80.101302"
      ]
     },
     "execution_count": 322,
     "metadata": {},
     "output_type": "execute_result"
    }
   ],
   "source": [
    "# create gain column\n",
    "lift_df_final['gain'] = 100*(lift_df_final['cumresp']/sum(lift_df_final['actual_response']))\n",
    "lift_df_final.head()"
   ]
  },
  {
   "cell_type": "code",
   "execution_count": 323,
   "metadata": {},
   "outputs": [],
   "source": [
    "# create cummulative lift column\n",
    "lift_df_final['cumlift'] = lift_df_final['gain']/(lift_df_final['decile'].astype('int')*(100/10))"
   ]
  },
  {
   "cell_type": "code",
   "execution_count": 324,
   "metadata": {},
   "outputs": [
    {
     "data": {
      "text/html": [
       "<div>\n",
       "<style scoped>\n",
       "    .dataframe tbody tr th:only-of-type {\n",
       "        vertical-align: middle;\n",
       "    }\n",
       "\n",
       "    .dataframe tbody tr th {\n",
       "        vertical-align: top;\n",
       "    }\n",
       "\n",
       "    .dataframe thead th {\n",
       "        text-align: right;\n",
       "    }\n",
       "</style>\n",
       "<table border=\"1\" class=\"dataframe\">\n",
       "  <thead>\n",
       "    <tr style=\"text-align: right;\">\n",
       "      <th></th>\n",
       "      <th>decile</th>\n",
       "      <th>total</th>\n",
       "      <th>actual_response</th>\n",
       "      <th>cumresp</th>\n",
       "      <th>gain</th>\n",
       "      <th>cumlift</th>\n",
       "    </tr>\n",
       "  </thead>\n",
       "  <tbody>\n",
       "    <tr>\n",
       "      <th>9</th>\n",
       "      <td>1</td>\n",
       "      <td>1236</td>\n",
       "      <td>570</td>\n",
       "      <td>570</td>\n",
       "      <td>41.244573</td>\n",
       "      <td>4.124457</td>\n",
       "    </tr>\n",
       "    <tr>\n",
       "      <th>8</th>\n",
       "      <td>2</td>\n",
       "      <td>1236</td>\n",
       "      <td>257</td>\n",
       "      <td>827</td>\n",
       "      <td>59.840810</td>\n",
       "      <td>2.992041</td>\n",
       "    </tr>\n",
       "    <tr>\n",
       "      <th>7</th>\n",
       "      <td>3</td>\n",
       "      <td>1235</td>\n",
       "      <td>120</td>\n",
       "      <td>947</td>\n",
       "      <td>68.523878</td>\n",
       "      <td>2.284129</td>\n",
       "    </tr>\n",
       "    <tr>\n",
       "      <th>6</th>\n",
       "      <td>4</td>\n",
       "      <td>1236</td>\n",
       "      <td>89</td>\n",
       "      <td>1036</td>\n",
       "      <td>74.963821</td>\n",
       "      <td>1.874096</td>\n",
       "    </tr>\n",
       "    <tr>\n",
       "      <th>5</th>\n",
       "      <td>5</td>\n",
       "      <td>1235</td>\n",
       "      <td>71</td>\n",
       "      <td>1107</td>\n",
       "      <td>80.101302</td>\n",
       "      <td>1.602026</td>\n",
       "    </tr>\n",
       "    <tr>\n",
       "      <th>4</th>\n",
       "      <td>6</td>\n",
       "      <td>1236</td>\n",
       "      <td>69</td>\n",
       "      <td>1176</td>\n",
       "      <td>85.094067</td>\n",
       "      <td>1.418234</td>\n",
       "    </tr>\n",
       "    <tr>\n",
       "      <th>3</th>\n",
       "      <td>7</td>\n",
       "      <td>1236</td>\n",
       "      <td>69</td>\n",
       "      <td>1245</td>\n",
       "      <td>90.086831</td>\n",
       "      <td>1.286955</td>\n",
       "    </tr>\n",
       "    <tr>\n",
       "      <th>2</th>\n",
       "      <td>8</td>\n",
       "      <td>1235</td>\n",
       "      <td>66</td>\n",
       "      <td>1311</td>\n",
       "      <td>94.862518</td>\n",
       "      <td>1.185781</td>\n",
       "    </tr>\n",
       "    <tr>\n",
       "      <th>1</th>\n",
       "      <td>9</td>\n",
       "      <td>1236</td>\n",
       "      <td>39</td>\n",
       "      <td>1350</td>\n",
       "      <td>97.684515</td>\n",
       "      <td>1.085384</td>\n",
       "    </tr>\n",
       "    <tr>\n",
       "      <th>0</th>\n",
       "      <td>10</td>\n",
       "      <td>1236</td>\n",
       "      <td>32</td>\n",
       "      <td>1382</td>\n",
       "      <td>100.000000</td>\n",
       "      <td>1.000000</td>\n",
       "    </tr>\n",
       "  </tbody>\n",
       "</table>\n",
       "</div>"
      ],
      "text/plain": [
       "  decile  total  actual_response  cumresp        gain   cumlift\n",
       "9      1   1236              570      570   41.244573  4.124457\n",
       "8      2   1236              257      827   59.840810  2.992041\n",
       "7      3   1235              120      947   68.523878  2.284129\n",
       "6      4   1236               89     1036   74.963821  1.874096\n",
       "5      5   1235               71     1107   80.101302  1.602026\n",
       "4      6   1236               69     1176   85.094067  1.418234\n",
       "3      7   1236               69     1245   90.086831  1.286955\n",
       "2      8   1235               66     1311   94.862518  1.185781\n",
       "1      9   1236               39     1350   97.684515  1.085384\n",
       "0     10   1236               32     1382  100.000000  1.000000"
      ]
     },
     "execution_count": 324,
     "metadata": {},
     "output_type": "execute_result"
    }
   ],
   "source": [
    "# check data det\n",
    "lift_df_final"
   ]
  },
  {
   "cell_type": "markdown",
   "metadata": {},
   "source": [
    "In our problem statement target is to get 80 percent conversion. And from above decile chart we can see that 80% target can be acheived by targeting 50% people. So here X will be 5 and X% will be 50%."
   ]
  },
  {
   "cell_type": "code",
   "execution_count": 326,
   "metadata": {},
   "outputs": [],
   "source": [
    "# Let's see mean for call duration in each decile\n",
    "average_call_duration = decile_df.groupby('decile')['duration'].mean().reset_index()\n",
    "average_call_duration = average_call_duration.sort_values(['decile'], ascending=False)"
   ]
  },
  {
   "cell_type": "code",
   "execution_count": 327,
   "metadata": {},
   "outputs": [
    {
     "data": {
      "text/html": [
       "<div>\n",
       "<style scoped>\n",
       "    .dataframe tbody tr th:only-of-type {\n",
       "        vertical-align: middle;\n",
       "    }\n",
       "\n",
       "    .dataframe tbody tr th {\n",
       "        vertical-align: top;\n",
       "    }\n",
       "\n",
       "    .dataframe thead th {\n",
       "        text-align: right;\n",
       "    }\n",
       "</style>\n",
       "<table border=\"1\" class=\"dataframe\">\n",
       "  <thead>\n",
       "    <tr style=\"text-align: right;\">\n",
       "      <th></th>\n",
       "      <th>decile</th>\n",
       "      <th>duration</th>\n",
       "      <th>cum_mean_dur</th>\n",
       "    </tr>\n",
       "  </thead>\n",
       "  <tbody>\n",
       "    <tr>\n",
       "      <th>9</th>\n",
       "      <td>1</td>\n",
       "      <td>265.219256</td>\n",
       "      <td>265.219256</td>\n",
       "    </tr>\n",
       "    <tr>\n",
       "      <th>8</th>\n",
       "      <td>2</td>\n",
       "      <td>249.699029</td>\n",
       "      <td>514.918285</td>\n",
       "    </tr>\n",
       "    <tr>\n",
       "      <th>7</th>\n",
       "      <td>3</td>\n",
       "      <td>254.357085</td>\n",
       "      <td>769.275370</td>\n",
       "    </tr>\n",
       "    <tr>\n",
       "      <th>6</th>\n",
       "      <td>4</td>\n",
       "      <td>246.258900</td>\n",
       "      <td>1015.534269</td>\n",
       "    </tr>\n",
       "    <tr>\n",
       "      <th>5</th>\n",
       "      <td>5</td>\n",
       "      <td>250.368421</td>\n",
       "      <td>1265.902691</td>\n",
       "    </tr>\n",
       "    <tr>\n",
       "      <th>4</th>\n",
       "      <td>6</td>\n",
       "      <td>255.919903</td>\n",
       "      <td>1521.822593</td>\n",
       "    </tr>\n",
       "    <tr>\n",
       "      <th>3</th>\n",
       "      <td>7</td>\n",
       "      <td>242.265372</td>\n",
       "      <td>1764.087966</td>\n",
       "    </tr>\n",
       "    <tr>\n",
       "      <th>2</th>\n",
       "      <td>8</td>\n",
       "      <td>244.908502</td>\n",
       "      <td>2008.996468</td>\n",
       "    </tr>\n",
       "    <tr>\n",
       "      <th>1</th>\n",
       "      <td>9</td>\n",
       "      <td>246.580097</td>\n",
       "      <td>2255.576565</td>\n",
       "    </tr>\n",
       "    <tr>\n",
       "      <th>0</th>\n",
       "      <td>10</td>\n",
       "      <td>260.326052</td>\n",
       "      <td>2515.902617</td>\n",
       "    </tr>\n",
       "  </tbody>\n",
       "</table>\n",
       "</div>"
      ],
      "text/plain": [
       "  decile    duration  cum_mean_dur\n",
       "9      1  265.219256    265.219256\n",
       "8      2  249.699029    514.918285\n",
       "7      3  254.357085    769.275370\n",
       "6      4  246.258900   1015.534269\n",
       "5      5  250.368421   1265.902691\n",
       "4      6  255.919903   1521.822593\n",
       "3      7  242.265372   1764.087966\n",
       "2      8  244.908502   2008.996468\n",
       "1      9  246.580097   2255.576565\n",
       "0     10  260.326052   2515.902617"
      ]
     },
     "execution_count": 327,
     "metadata": {},
     "output_type": "execute_result"
    }
   ],
   "source": [
    "# Let's calculate cummulative mean for each decile\n",
    "average_call_duration['cum_mean_dur'] = average_call_duration['duration'].cumsum()\n",
    "average_call_duration"
   ]
  },
  {
   "cell_type": "code",
   "execution_count": 328,
   "metadata": {},
   "outputs": [],
   "source": [
    "# Let's see sum for call duration in each decile\n",
    "sum_call_duration = decile_df.groupby('decile')['duration'].sum().reset_index()\n",
    "sum_call_duration = sum_call_duration.sort_values(['decile'], ascending=False)"
   ]
  },
  {
   "cell_type": "code",
   "execution_count": 329,
   "metadata": {},
   "outputs": [
    {
     "data": {
      "text/html": [
       "<div>\n",
       "<style scoped>\n",
       "    .dataframe tbody tr th:only-of-type {\n",
       "        vertical-align: middle;\n",
       "    }\n",
       "\n",
       "    .dataframe tbody tr th {\n",
       "        vertical-align: top;\n",
       "    }\n",
       "\n",
       "    .dataframe thead th {\n",
       "        text-align: right;\n",
       "    }\n",
       "</style>\n",
       "<table border=\"1\" class=\"dataframe\">\n",
       "  <thead>\n",
       "    <tr style=\"text-align: right;\">\n",
       "      <th></th>\n",
       "      <th>decile</th>\n",
       "      <th>duration</th>\n",
       "      <th>cum_sum_dur</th>\n",
       "    </tr>\n",
       "  </thead>\n",
       "  <tbody>\n",
       "    <tr>\n",
       "      <th>9</th>\n",
       "      <td>1</td>\n",
       "      <td>327811</td>\n",
       "      <td>327811</td>\n",
       "    </tr>\n",
       "    <tr>\n",
       "      <th>8</th>\n",
       "      <td>2</td>\n",
       "      <td>308628</td>\n",
       "      <td>636439</td>\n",
       "    </tr>\n",
       "    <tr>\n",
       "      <th>7</th>\n",
       "      <td>3</td>\n",
       "      <td>314131</td>\n",
       "      <td>950570</td>\n",
       "    </tr>\n",
       "    <tr>\n",
       "      <th>6</th>\n",
       "      <td>4</td>\n",
       "      <td>304376</td>\n",
       "      <td>1254946</td>\n",
       "    </tr>\n",
       "    <tr>\n",
       "      <th>5</th>\n",
       "      <td>5</td>\n",
       "      <td>309205</td>\n",
       "      <td>1564151</td>\n",
       "    </tr>\n",
       "    <tr>\n",
       "      <th>4</th>\n",
       "      <td>6</td>\n",
       "      <td>316317</td>\n",
       "      <td>1880468</td>\n",
       "    </tr>\n",
       "    <tr>\n",
       "      <th>3</th>\n",
       "      <td>7</td>\n",
       "      <td>299440</td>\n",
       "      <td>2179908</td>\n",
       "    </tr>\n",
       "    <tr>\n",
       "      <th>2</th>\n",
       "      <td>8</td>\n",
       "      <td>302462</td>\n",
       "      <td>2482370</td>\n",
       "    </tr>\n",
       "    <tr>\n",
       "      <th>1</th>\n",
       "      <td>9</td>\n",
       "      <td>304773</td>\n",
       "      <td>2787143</td>\n",
       "    </tr>\n",
       "    <tr>\n",
       "      <th>0</th>\n",
       "      <td>10</td>\n",
       "      <td>321763</td>\n",
       "      <td>3108906</td>\n",
       "    </tr>\n",
       "  </tbody>\n",
       "</table>\n",
       "</div>"
      ],
      "text/plain": [
       "  decile  duration  cum_sum_dur\n",
       "9      1    327811       327811\n",
       "8      2    308628       636439\n",
       "7      3    314131       950570\n",
       "6      4    304376      1254946\n",
       "5      5    309205      1564151\n",
       "4      6    316317      1880468\n",
       "3      7    299440      2179908\n",
       "2      8    302462      2482370\n",
       "1      9    304773      2787143\n",
       "0     10    321763      3108906"
      ]
     },
     "execution_count": 329,
     "metadata": {},
     "output_type": "execute_result"
    }
   ],
   "source": [
    "# Let's calculate cummulative sum for each decile\n",
    "sum_call_duration['cum_sum_dur'] = sum_call_duration['duration'].cumsum()\n",
    "sum_call_duration"
   ]
  },
  {
   "cell_type": "code",
   "execution_count": 330,
   "metadata": {},
   "outputs": [
    {
     "data": {
      "text/plain": [
       "(12357, 50)"
      ]
     },
     "execution_count": 330,
     "metadata": {},
     "output_type": "execute_result"
    }
   ],
   "source": [
    "# check number of prospects in test data set\n",
    "X_test.shape"
   ]
  },
  {
   "cell_type": "markdown",
   "metadata": {},
   "source": [
    "### Step 9.b: Creating the lift chart for analysis "
   ]
  },
  {
   "cell_type": "code",
   "execution_count": 331,
   "metadata": {},
   "outputs": [
    {
     "data": {
      "text/plain": [
       "Text(0, 0.5, 'gain')"
      ]
     },
     "execution_count": 331,
     "metadata": {},
     "output_type": "execute_result"
    },
    {
     "data": {
      "image/png": "[encoded data removed]",
      "text/plain": [
       "<Figure size 432x288 with 1 Axes>"
      ]
     },
     "metadata": {
      "needs_background": "light"
     },
     "output_type": "display_data"
    }
   ],
   "source": [
    "# decile and gain chart\n",
    "lift_df_final.plot.line(x='decile', y=['gain'])\n",
    "plt.xlabel('% customers contacted')\n",
    "plt.ylabel('gain')"
   ]
  },
  {
   "cell_type": "code",
   "execution_count": 332,
   "metadata": {},
   "outputs": [
    {
     "data": {
      "text/plain": [
       "Text(0, 0.5, 'lift')"
      ]
     },
     "execution_count": 332,
     "metadata": {},
     "output_type": "execute_result"
    },
    {
     "data": {
      "image/png": "[encoded data removed]",
      "text/plain": [
       "<Figure size 432x288 with 1 Axes>"
      ]
     },
     "metadata": {
      "needs_background": "light"
     },
     "output_type": "display_data"
    }
   ],
   "source": [
    "# decile and lift chart\n",
    "lift_df_final.plot.line(x='decile', y=['cumlift'])\n",
    "plt.xlabel('% customers contacted')\n",
    "plt.ylabel('lift')"
   ]
  },
  {
   "cell_type": "markdown",
   "metadata": {},
   "source": [
    "Determine the cost of acquisition\n",
    "Consider \n",
    "        cost = 1*number of contacts made in the current campaign; \n",
    "determine the cost incurred for acquiring 80% of customers using the predictive model\n",
    "As per the formula given above, the cost will be equal to\n",
    "\n",
    "        cost = 1* (50 % of 41188) = 20594\n",
    "\n",
    "Consider average duration of call and cost of the call based on data available, then acquisition cost will be equal to\n",
    "        cost = (duration of call) (cost of call) (number of contacts made)\n",
    "\n",
    "If we consider cost based on formula given to us, than we have reduced cost by 50% as we have to contact only 50 % of prospects to get 80 percent conversion.\n",
    "\n",
    "\n",
    "Conclusion\n",
    "• To achieve our business objective of acquiring 80% of total responders at the minimum possible cost;\n",
    "we will need to target 50% of the total customer base for entire dataset. In case of test data, it is 60% of the test dataset.\n",
    "• Significant predictor variables identified by model:\n",
    "    - job_retired \n",
    "    - month_mar \n",
    "    - poutcome_success \n",
    "    - job_student \n",
    "    - month_may \n",
    "    - cons.price.idx \n",
    "    - contact_telephone \n",
    "    - previous_Nevercontacted \n",
    "    - euribor3m \n",
    "• Through our model we have improved 50% efficiency; as instead of calling the entire customer base, we can now achieve our objective by targeting just 50% of the entire customer base. "
   ]
  }
 ],
 "metadata": {
  "kernelspec": {
   "display_name": "Python 3",
   "language": "python",
   "name": "python3"
  },
  "language_info": {
   "codemirror_mode": {
    "name": "ipython",
    "version": 3
   },
   "file_extension": ".py",
   "mimetype": "text/x-python",
   "name": "python",
   "nbconvert_exporter": "python",
   "pygments_lexer": "ipython3",
   "version": "3.7.3"
  }
 },
 "nbformat": 4,
 "nbformat_minor": 2
}
